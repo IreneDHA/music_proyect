{
 "cells": [
  {
   "cell_type": "markdown",
   "id": "ff27f9de",
   "metadata": {},
   "source": [
    "# DATOS DE TRANCE DE LA API DE SPOTIFY"
   ]
  },
  {
   "cell_type": "code",
   "execution_count": 1,
   "id": "1d632fd8",
   "metadata": {},
   "outputs": [],
   "source": [
    "import spotipy\n",
    "from spotipy.oauth2 import SpotifyClientCredentials"
   ]
  },
  {
   "cell_type": "code",
   "execution_count": 2,
   "id": "b461ee5d",
   "metadata": {},
   "outputs": [],
   "source": [
    "import os\n",
    "from dotenv import load_dotenv"
   ]
  },
  {
   "cell_type": "code",
   "execution_count": 3,
   "id": "ba971320",
   "metadata": {},
   "outputs": [
    {
     "name": "stderr",
     "output_type": "stream",
     "text": [
      "Python-dotenv could not parse statement starting at line 1\n",
      "Python-dotenv could not parse statement starting at line 5\n"
     ]
    },
    {
     "data": {
      "text/plain": [
       "True"
      ]
     },
     "execution_count": 3,
     "metadata": {},
     "output_type": "execute_result"
    }
   ],
   "source": [
    "load_dotenv()"
   ]
  },
  {
   "cell_type": "code",
   "execution_count": 4,
   "id": "6a25e71e",
   "metadata": {},
   "outputs": [],
   "source": [
    "sp_clave = os.getenv(\"Lau_Spotify_id\")\n",
    "sp_contraseña = os.getenv(\"Lau_Spotify_secret\")"
   ]
  },
  {
   "cell_type": "code",
   "execution_count": 5,
   "id": "ffef149b",
   "metadata": {},
   "outputs": [],
   "source": [
    "#Autentificación:\n",
    "auth_manager = sp = SpotifyClientCredentials(client_id=sp_clave,\n",
    "                                             client_secret=sp_contraseña)\n",
    "\n",
    "sp = spotipy.Spotify(auth_manager=auth_manager)"
   ]
  },
  {
   "cell_type": "code",
   "execution_count": null,
   "id": "08321307",
   "metadata": {},
   "outputs": [],
   "source": [
    "# buscamos con SEARCH - SEARCH FOR ITEM y aquí vemos los parámetros q son cesarios:\n",
    "\n",
    "# 500 canciones por género y año ===> 250\n",
    "# offset nos hace \"páginas\" en base al índice de los elementos\n",
    "# limt = 50 y offset = 0 y luego 50, 100, 150, 200. etc hasta llegar al 500\n",
    "# pensar una variable xa q nos lo haga solo\n",
    "for i in range(0, 5001, 50):\n",
    "    print(i)\n",
    "for i in range(2020, 2025):  # escogemos 5 años entre 2019-2023\n",
    "    q= f\"genre:rock, year:{i}\"\n",
    "    print(q)\n",
    "\n",
    "# include_external no nos interesa\n",
    "\n",
    "# vamos a Spotipy y vemos cómo se solicita desde aqui\n",
    "# tenemos SEARCH:\n",
    "# sp.search(q=\"\", type=\"track\", limit=50, offset=0) donde q= \"genre:rock, year:2020\"\n",
    "\n",
    "\n",
    "# TENEMOS QUE EXTRAER: \n",
    "# #250 canciones por género y año (5 años entre 2019-2023), artista (nombre), género musical, tipo (canción = tracks), nombre (canción = \"tracks\"), año de lanzamiento, (excluimos ID)\n",
    "# género musical (trance) y tipo (tracks) los añadimos al final porque son parámetros de la búsqueda (no nos van a salir como datos)\n",
    "# podemos incluir nombre (álbum = \"album\") como next steps\n"
   ]
  },
  {
   "cell_type": "code",
   "execution_count": 7,
   "id": "78e6fa68",
   "metadata": {},
   "outputs": [],
   "source": [
    "datos_trance = sp.search(q=\"genre:trance, year:2019\", type=\"track\", limit=50, offset=0)"
   ]
  },
  {
   "cell_type": "code",
   "execution_count": 10,
   "id": "b4a5a023",
   "metadata": {},
   "outputs": [
    {
     "data": {
      "text/plain": [
       "dict_keys(['tracks'])"
      ]
     },
     "execution_count": 10,
     "metadata": {},
     "output_type": "execute_result"
    }
   ],
   "source": [
    "datos_trance.keys()"
   ]
  },
  {
   "cell_type": "code",
   "execution_count": 11,
   "id": "79c53b0a",
   "metadata": {},
   "outputs": [
    {
     "data": {
      "text/plain": [
       "dict_keys(['album', 'artists', 'available_markets', 'disc_number', 'duration_ms', 'explicit', 'external_ids', 'external_urls', 'href', 'id', 'is_local', 'is_playable', 'name', 'popularity', 'preview_url', 'track_number', 'type', 'uri'])"
      ]
     },
     "execution_count": 11,
     "metadata": {},
     "output_type": "execute_result"
    }
   ],
   "source": [
    "datos_trance[\"tracks\"][\"items\"][0].keys()\n",
    "#interesan album, artists, id, name"
   ]
  },
  {
   "cell_type": "code",
   "execution_count": 9,
   "id": "2a36fb90",
   "metadata": {},
   "outputs": [
    {
     "data": {
      "text/plain": [
       "'Amnesia - Jay Walker Remix'"
      ]
     },
     "execution_count": 9,
     "metadata": {},
     "output_type": "execute_result"
    }
   ],
   "source": [
    "datos_trance[\"tracks\"][\"items\"][0][\"name\"]\n",
    "# nombre de la primera cancion"
   ]
  },
  {
   "cell_type": "code",
   "execution_count": 12,
   "id": "4a0c42be",
   "metadata": {},
   "outputs": [
    {
     "data": {
      "text/plain": [
       "50"
      ]
     },
     "execution_count": 12,
     "metadata": {},
     "output_type": "execute_result"
    }
   ],
   "source": [
    "len(datos_trance[\"tracks\"][\"items\"]) # tengo 50 items, registros"
   ]
  },
  {
   "cell_type": "code",
   "execution_count": 13,
   "id": "5664dfbb",
   "metadata": {},
   "outputs": [
    {
     "data": {
      "text/plain": [
       "18"
      ]
     },
     "execution_count": 13,
     "metadata": {},
     "output_type": "execute_result"
    }
   ],
   "source": [
    "len(datos_trance[\"tracks\"][\"items\"][0]) # que son 18 keys en items"
   ]
  },
  {
   "cell_type": "code",
   "execution_count": 14,
   "id": "873e1e39",
   "metadata": {},
   "outputs": [
    {
     "data": {
      "text/plain": [
       "dict_keys(['album_type', 'artists', 'available_markets', 'external_urls', 'href', 'id', 'images', 'is_playable', 'name', 'release_date', 'release_date_precision', 'total_tracks', 'type', 'uri'])"
      ]
     },
     "execution_count": 14,
     "metadata": {},
     "output_type": "execute_result"
    }
   ],
   "source": [
    "datos_trance[\"tracks\"][\"items\"][0][\"album\"].keys()"
   ]
  },
  {
   "cell_type": "code",
   "execution_count": 16,
   "id": "d78b1d48",
   "metadata": {},
   "outputs": [
    {
     "data": {
      "text/plain": [
       "'2019-08-23'"
      ]
     },
     "execution_count": 16,
     "metadata": {},
     "output_type": "execute_result"
    }
   ],
   "source": [
    "datos_trance[\"tracks\"][\"items\"][0][\"album\"][\"release_date\"]\n",
    "# año de lanzamiento (album)"
   ]
  },
  {
   "cell_type": "code",
   "execution_count": 18,
   "id": "85b6d8b9",
   "metadata": {},
   "outputs": [
    {
     "data": {
      "text/plain": [
       "'Alex Bartlett'"
      ]
     },
     "execution_count": 18,
     "metadata": {},
     "output_type": "execute_result"
    }
   ],
   "source": [
    "datos_trance[\"tracks\"][\"items\"][0][\"album\"][\"artists\"][0][\"name\"]\n",
    "# nombre del artista"
   ]
  },
  {
   "cell_type": "code",
   "execution_count": 19,
   "id": "882b431a",
   "metadata": {},
   "outputs": [
    {
     "data": {
      "text/plain": [
       "'Amnesia - Jay Walker Remix'"
      ]
     },
     "execution_count": 19,
     "metadata": {},
     "output_type": "execute_result"
    }
   ],
   "source": [
    "datos_trance[\"tracks\"][\"items\"][0][\"name\"]\n",
    "# nombre de la primera cancion"
   ]
  },
  {
   "cell_type": "code",
   "execution_count": 20,
   "id": "70372045",
   "metadata": {},
   "outputs": [
    {
     "data": {
      "text/plain": [
       "'2019-08-23'"
      ]
     },
     "execution_count": 20,
     "metadata": {},
     "output_type": "execute_result"
    }
   ],
   "source": [
    "datos_trance[\"tracks\"][\"items\"][0][\"album\"][\"release_date\"]\n",
    "# año de lanzamiento (album)"
   ]
  },
  {
   "cell_type": "code",
   "execution_count": null,
   "id": "3214f262",
   "metadata": {},
   "outputs": [
    {
     "data": {
      "text/plain": [
       "{'nombre_artista': ['Alex Bartlett'],\n",
       " 'nombre_canción': ['Amnesia - Jay Walker Remix'],\n",
       " 'año_lanzamiento': ['2019-08-23']}"
      ]
     },
     "execution_count": 21,
     "metadata": {},
     "output_type": "execute_result"
    }
   ],
   "source": [
    "canciones_trance = {\"nombre_artista\": [], \"nombre_canción\": [], \"año_lanzamiento\": []}\n",
    "\n",
    "for datos in datos_trance[\"tracks\"][\"items\"]:\n",
    "    canciones_trance[\"nombre_artista\"].append(datos[\"album\"][\"artists\"][0][\"name\"])\n",
    "    canciones_trance[\"nombre_canción\"].append(datos[\"name\"])\n",
    "    canciones_trance[\"año_lanzamiento\"].append(datos[\"album\"][\"release_date\"])\n",
    "    \n",
    "    break  # 1 canción si quitamos el break da las 50 canciones de trance del primer offset (50) del año 2019\n",
    "canciones_trance"
   ]
  },
  {
   "cell_type": "code",
   "execution_count": 22,
   "id": "d50af675",
   "metadata": {},
   "outputs": [
    {
     "name": "stdout",
     "output_type": "stream",
     "text": [
      "2019\n",
      "dict_keys(['tracks'])\n",
      "0\n",
      "dict_keys(['tracks'])\n",
      "50\n",
      "dict_keys(['tracks'])\n",
      "100\n",
      "dict_keys(['tracks'])\n",
      "150\n",
      "dict_keys(['tracks'])\n",
      "200\n"
     ]
    }
   ],
   "source": [
    "# parte de búsqueda por año y con el offset: \n",
    "\n",
    "for i in range(2019,2020):  # ahora pongo 1 año, uego será (2019,2024)\n",
    "    print(i)\n",
    "    for o in range(0,201,50):\n",
    "        q=f\"genre:roca:{i}\"\n",
    "        datos_trance = sp.search(q=\"genre:trance\", type=\"track\",limit=50,offset=o)\n",
    "        print (datos_trance.keys())\n",
    "        print(o)\n",
    "    #for x in range(0,15):\n",
    "        #(print(datos[\"tracks\"][\"items\"][x][\"name\"]))\n",
    "    #break"
   ]
  },
  {
   "cell_type": "code",
   "execution_count": null,
   "id": "bdae653c",
   "metadata": {},
   "outputs": [],
   "source": [
    "canciones_trance = {\"nombre_artista\": [], \"nombre_canción\": [], \"año_lanzamiento\": []}  # unir esto con lo anterior\n",
    "\n",
    "for datos in datos_trance[\"tracks\"][\"items\"]:\n",
    "    canciones_trance[\"nombre_artista\"].append(datos[\"album\"][\"artists\"][0][\"name\"])\n",
    "    canciones_trance[\"nombre_canción\"].append(datos[\"name\"])\n",
    "    canciones_trance[\"año_lanzamiento\"].append(datos[\"album\"][\"release_date\"])\n",
    "    \n",
    "    \n",
    "canciones_trance\n",
    "# las 50 canciones de trance del primer offset (50) del año 2019"
   ]
  }
 ],
 "metadata": {
  "kernelspec": {
   "display_name": "base",
   "language": "python",
   "name": "python3"
  },
  "language_info": {
   "codemirror_mode": {
    "name": "ipython",
    "version": 3
   },
   "file_extension": ".py",
   "mimetype": "text/x-python",
   "name": "python",
   "nbconvert_exporter": "python",
   "pygments_lexer": "ipython3",
   "version": "3.12.7"
  }
 },
 "nbformat": 4,
 "nbformat_minor": 5
}
