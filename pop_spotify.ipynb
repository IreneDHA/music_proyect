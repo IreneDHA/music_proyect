{
 "cells": [
  {
   "cell_type": "code",
   "execution_count": 1,
   "id": "5c725e67",
   "metadata": {},
   "outputs": [],
   "source": [
    "#pip install python-dotenv"
   ]
  },
  {
   "cell_type": "code",
   "execution_count": 56,
   "id": "6cf3af44",
   "metadata": {},
   "outputs": [],
   "source": [
    "import spotipy\n",
    "from spotipy.oauth2 import SpotifyClientCredentials\n",
    "import pandas as pd\n",
    "import json\n",
    "import csv\n",
    "import os\n",
    "from dotenv import load_dotenv\n",
    "import mysql.connector\n",
    "from mysql.connector import errorcode"
   ]
  },
  {
   "cell_type": "code",
   "execution_count": 57,
   "id": "18b37f84",
   "metadata": {},
   "outputs": [
    {
     "data": {
      "text/plain": [
       "True"
      ]
     },
     "execution_count": 57,
     "metadata": {},
     "output_type": "execute_result"
    }
   ],
   "source": [
    "load_dotenv()"
   ]
  },
  {
   "cell_type": "code",
   "execution_count": 58,
   "id": "0e1cae5a",
   "metadata": {},
   "outputs": [],
   "source": [
    "sp_clave = os.getenv(\"miriam_id_spotify\")\n",
    "sp_contraseña = os.getenv(\"miriam_secret_spotify\")"
   ]
  },
  {
   "cell_type": "code",
   "execution_count": 59,
   "id": "3330f961",
   "metadata": {},
   "outputs": [],
   "source": [
    "#Autentificación:\n",
    "auth_manager = sp = SpotifyClientCredentials(client_id=sp_clave,\n",
    "                                             client_secret=sp_contraseña)\n",
    "\n",
    "sp = spotipy.Spotify(auth_manager=auth_manager)"
   ]
  },
  {
   "cell_type": "code",
   "execution_count": 60,
   "id": "e2311cdc",
   "metadata": {},
   "outputs": [],
   "source": [
    "datos_pop = sp.search(q=\"genre:pop, year:2019\", type=\"track\", limit=50, offset=0)"
   ]
  },
  {
   "cell_type": "code",
   "execution_count": 61,
   "id": "ccbf4cee",
   "metadata": {},
   "outputs": [
    {
     "data": {
      "text/html": [
       "<div>\n",
       "<style scoped>\n",
       "    .dataframe tbody tr th:only-of-type {\n",
       "        vertical-align: middle;\n",
       "    }\n",
       "\n",
       "    .dataframe tbody tr th {\n",
       "        vertical-align: top;\n",
       "    }\n",
       "\n",
       "    .dataframe thead th {\n",
       "        text-align: right;\n",
       "    }\n",
       "</style>\n",
       "<table border=\"1\" class=\"dataframe\">\n",
       "  <thead>\n",
       "    <tr style=\"text-align: right;\">\n",
       "      <th></th>\n",
       "      <th>nombre_artista</th>\n",
       "      <th>nombre_cancion</th>\n",
       "      <th>año_lanzamiento</th>\n",
       "      <th>género_musical</th>\n",
       "      <th>tipo</th>\n",
       "    </tr>\n",
       "  </thead>\n",
       "  <tbody>\n",
       "    <tr>\n",
       "      <th>0</th>\n",
       "      <td>Various Artists</td>\n",
       "      <td>Un boomerang</td>\n",
       "      <td>2019</td>\n",
       "      <td>pop</td>\n",
       "      <td>track</td>\n",
       "    </tr>\n",
       "    <tr>\n",
       "      <th>1</th>\n",
       "      <td>Los Rebeldes</td>\n",
       "      <td>Land of Thousand Dances - Remasterizado</td>\n",
       "      <td>2019</td>\n",
       "      <td>pop</td>\n",
       "      <td>track</td>\n",
       "    </tr>\n",
       "    <tr>\n",
       "      <th>2</th>\n",
       "      <td>Various Artists</td>\n",
       "      <td>No te enamores</td>\n",
       "      <td>2019</td>\n",
       "      <td>pop</td>\n",
       "      <td>track</td>\n",
       "    </tr>\n",
       "    <tr>\n",
       "      <th>3</th>\n",
       "      <td>Various Artists</td>\n",
       "      <td>Walk Me Home</td>\n",
       "      <td>2019</td>\n",
       "      <td>pop</td>\n",
       "      <td>track</td>\n",
       "    </tr>\n",
       "    <tr>\n",
       "      <th>4</th>\n",
       "      <td>VINAI</td>\n",
       "      <td>Break the Beat - Radio Edit</td>\n",
       "      <td>2019</td>\n",
       "      <td>pop</td>\n",
       "      <td>track</td>\n",
       "    </tr>\n",
       "    <tr>\n",
       "      <th>...</th>\n",
       "      <td>...</td>\n",
       "      <td>...</td>\n",
       "      <td>...</td>\n",
       "      <td>...</td>\n",
       "      <td>...</td>\n",
       "    </tr>\n",
       "    <tr>\n",
       "      <th>1245</th>\n",
       "      <td>Joy Sarkar</td>\n",
       "      <td>Poila Shobaar Thaak</td>\n",
       "      <td>2023</td>\n",
       "      <td>pop</td>\n",
       "      <td>track</td>\n",
       "    </tr>\n",
       "    <tr>\n",
       "      <th>1246</th>\n",
       "      <td>antonio pereira</td>\n",
       "      <td>Codajás</td>\n",
       "      <td>2023</td>\n",
       "      <td>pop</td>\n",
       "      <td>track</td>\n",
       "    </tr>\n",
       "    <tr>\n",
       "      <th>1247</th>\n",
       "      <td>Meena Rana</td>\n",
       "      <td>Bhair Twe Bhair</td>\n",
       "      <td>2023</td>\n",
       "      <td>pop</td>\n",
       "      <td>track</td>\n",
       "    </tr>\n",
       "    <tr>\n",
       "      <th>1248</th>\n",
       "      <td>POTRET</td>\n",
       "      <td>Belum Tentu - Remastered 2023</td>\n",
       "      <td>2023</td>\n",
       "      <td>pop</td>\n",
       "      <td>track</td>\n",
       "    </tr>\n",
       "    <tr>\n",
       "      <th>1249</th>\n",
       "      <td>Pawan Singh</td>\n",
       "      <td>Dal Dal Me Godwa Fas Gail</td>\n",
       "      <td>2023</td>\n",
       "      <td>pop</td>\n",
       "      <td>track</td>\n",
       "    </tr>\n",
       "  </tbody>\n",
       "</table>\n",
       "<p>1250 rows × 5 columns</p>\n",
       "</div>"
      ],
      "text/plain": [
       "       nombre_artista                           nombre_cancion  \\\n",
       "0     Various Artists                             Un boomerang   \n",
       "1        Los Rebeldes  Land of Thousand Dances - Remasterizado   \n",
       "2     Various Artists                           No te enamores   \n",
       "3     Various Artists                             Walk Me Home   \n",
       "4               VINAI              Break the Beat - Radio Edit   \n",
       "...               ...                                      ...   \n",
       "1245       Joy Sarkar                      Poila Shobaar Thaak   \n",
       "1246  antonio pereira                                  Codajás   \n",
       "1247       Meena Rana                          Bhair Twe Bhair   \n",
       "1248           POTRET            Belum Tentu - Remastered 2023   \n",
       "1249      Pawan Singh                Dal Dal Me Godwa Fas Gail   \n",
       "\n",
       "     año_lanzamiento género_musical   tipo  \n",
       "0               2019            pop  track  \n",
       "1               2019            pop  track  \n",
       "2               2019            pop  track  \n",
       "3               2019            pop  track  \n",
       "4               2019            pop  track  \n",
       "...              ...            ...    ...  \n",
       "1245            2023            pop  track  \n",
       "1246            2023            pop  track  \n",
       "1247            2023            pop  track  \n",
       "1248            2023            pop  track  \n",
       "1249            2023            pop  track  \n",
       "\n",
       "[1250 rows x 5 columns]"
      ]
     },
     "execution_count": 61,
     "metadata": {},
     "output_type": "execute_result"
    }
   ],
   "source": [
    "canciones_pop = {\"nombre_artista\": [], \"nombre_cancion\": [], \"año_lanzamiento\": [], 'género_musical': [], 'tipo': []}\n",
    "for anio in range(2019,2024):\n",
    "    for offset in range(0, 250, 50):\n",
    "        datos_pop = sp.search(q=f\"genre:pop, year:{anio}\", type=\"track\", limit=50, offset=offset)\n",
    "        for cancion in datos_pop[\"tracks\"][\"items\"]:\n",
    "            canciones_pop[\"nombre_artista\"].append(cancion[\"album\"][\"artists\"][0][\"name\"])\n",
    "            canciones_pop[\"nombre_cancion\"].append(cancion[\"name\"])\n",
    "            canciones_pop[\"año_lanzamiento\"].append(cancion[\"album\"][\"release_date\"][0:4])\n",
    "            canciones_pop[\"género_musical\"].append('pop')\n",
    "            canciones_pop[\"tipo\"].append(cancion[\"type\"])\n",
    "df_pop = pd.DataFrame(canciones_pop)\n",
    "df_pop"
   ]
  },
  {
   "cell_type": "code",
   "execution_count": 62,
   "id": "f768f74c",
   "metadata": {},
   "outputs": [],
   "source": [
    "df_pop.to_csv('pop_spotifydatabase.csv')"
   ]
  },
  {
   "cell_type": "code",
   "execution_count": 63,
   "id": "ce454316",
   "metadata": {},
   "outputs": [],
   "source": [
    "df_values=pd.read_csv(\"pop_spotifydatabase.csv\",index_col=0)"
   ]
  },
  {
   "cell_type": "code",
   "execution_count": 64,
   "id": "2c92d05d",
   "metadata": {},
   "outputs": [],
   "source": [
    "values = list(df_values.itertuples(index=False, name=None))"
   ]
  },
  {
   "cell_type": "code",
   "execution_count": 65,
   "id": "99895fe8",
   "metadata": {},
   "outputs": [],
   "source": [
    "cnx = mysql.connector.connect(user='root', password='AlumnaAdalab',\n",
    "                              host='127.0.0.1', database='prueba_musictrends')\n",
    "\n",
    "\n",
    "mycursor = cnx.cursor()\n",
    "mycursor.execute(\"SELECT id_artista, nombre_artista FROM lastfm\")\n",
    "artistas = mycursor.fetchall()\n",
    "# Diccionario: nombre_artista.lower() -> id_artista para relacionar el id en las dos tablas\n",
    "diccionario_artistas = {nombre.lower(): id for id, nombre in artistas}"
   ]
  },
  {
   "cell_type": "code",
   "execution_count": null,
   "id": "dd247487",
   "metadata": {},
   "outputs": [],
   "source": [
    "# insertando todos los artistas:\n",
    "valores_spotify = []\n",
    "\n",
    "for fila in values:\n",
    "    nombre_artista = fila[0].strip().lower()\n",
    "    id_artista = diccionario_artistas.get(nombre_artista)\n",
    "\n",
    "    if id_artista is not None:\n",
    "        # Se encontró ID del artista\n",
    "        valores_spotify.append((id_artista, *fila))\n",
    "    else:\n",
    "        # No se encontró el artista: se inserta con id_artista = None (SQL NULL)\n",
    "        valores_spotify.append((None, *fila)) # captura el resto de los valores de la lista\n",
    "        #print(f\"⚠️ Artista no encontrado en lastfm (se insertará con id_artista = NULL): {nombre_artista}\")"
   ]
  },
  {
   "cell_type": "code",
   "execution_count": 67,
   "id": "acf20457",
   "metadata": {},
   "outputs": [
    {
     "data": {
      "text/plain": [
       "1250"
      ]
     },
     "execution_count": 67,
     "metadata": {},
     "output_type": "execute_result"
    }
   ],
   "source": [
    "len(valores_spotify)"
   ]
  },
  {
   "cell_type": "code",
   "execution_count": 68,
   "id": "6c3653d5",
   "metadata": {},
   "outputs": [
    {
     "name": "stdout",
     "output_type": "stream",
     "text": [
      "1250 registro/s insertado/s.\n"
     ]
    }
   ],
   "source": [
    "cnx = mysql.connector.connect(user='root', password='AlumnaAdalab',\n",
    "                              host='127.0.0.1', database='prueba_musictrends')\n",
    "\n",
    "\n",
    "mycursor = cnx.cursor()\n",
    "sql = \"INSERT INTO Spotify (id_artista, nombre_artista, nombre_cancion, año_lanzamiento, género_musical, tipo) VALUES (%s, %s, %s, %s, %s,%s)\"\n",
    "val = values\n",
    "\n",
    "try: \n",
    "    mycursor.executemany(sql, valores_spotify)\n",
    "    cnx.commit()\n",
    "    print(mycursor.rowcount, \"registro/s insertado/s.\")\n",
    "\n",
    "except mysql.connector.Error as err:\n",
    "    print(err)\n",
    "    print(\"Error Code:\", err.errno)\n",
    "    print(\"SQLSTATE\", err.sqlstate)\n",
    "    print(\"Message\", err.msg)"
   ]
  }
 ],
 "metadata": {
  "kernelspec": {
   "display_name": "base",
   "language": "python",
   "name": "python3"
  },
  "language_info": {
   "codemirror_mode": {
    "name": "ipython",
    "version": 3
   },
   "file_extension": ".py",
   "mimetype": "text/x-python",
   "name": "python",
   "nbconvert_exporter": "python",
   "pygments_lexer": "ipython3",
   "version": "3.12.7"
  }
 },
 "nbformat": 4,
 "nbformat_minor": 5
}
