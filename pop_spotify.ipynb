{
 "cells": [
  {
   "cell_type": "code",
   "execution_count": 1,
   "id": "5c725e67",
   "metadata": {},
   "outputs": [],
   "source": [
    "#pip install python-dotenv"
   ]
  },
  {
   "cell_type": "code",
   "execution_count": 2,
   "id": "6cf3af44",
   "metadata": {},
   "outputs": [],
   "source": [
    "import spotipy\n",
    "from spotipy.oauth2 import SpotifyClientCredentials"
   ]
  },
  {
   "cell_type": "code",
   "execution_count": 3,
   "id": "18b37f84",
   "metadata": {},
   "outputs": [],
   "source": [
    "import os\n",
    "from dotenv import load_dotenv"
   ]
  },
  {
   "cell_type": "code",
   "execution_count": 4,
   "id": "9b0a453e",
   "metadata": {},
   "outputs": [],
   "source": [
    "import pandas as pd\n",
    "import json\n",
    "import csv"
   ]
  },
  {
   "cell_type": "code",
   "execution_count": 5,
   "id": "cce69bbc",
   "metadata": {},
   "outputs": [
    {
     "data": {
      "text/plain": [
       "True"
      ]
     },
     "execution_count": 5,
     "metadata": {},
     "output_type": "execute_result"
    }
   ],
   "source": [
    "load_dotenv()"
   ]
  },
  {
   "cell_type": "code",
   "execution_count": 6,
   "id": "0e1cae5a",
   "metadata": {},
   "outputs": [],
   "source": [
    "sp_clave = os.getenv(\"miriam_id_spotify\")\n",
    "sp_contraseña = os.getenv(\"miriam_secret_spotify\")"
   ]
  },
  {
   "cell_type": "code",
   "execution_count": 7,
   "id": "3330f961",
   "metadata": {},
   "outputs": [],
   "source": [
    "#Autentificación:\n",
    "auth_manager = sp = SpotifyClientCredentials(client_id=sp_clave,\n",
    "                                             client_secret=sp_contraseña)\n",
    "\n",
    "sp = spotipy.Spotify(auth_manager=auth_manager)"
   ]
  },
  {
   "cell_type": "code",
   "execution_count": 8,
   "id": "168797fc",
   "metadata": {},
   "outputs": [],
   "source": [
    "#Autentificación:\n",
    "auth_manager = sp = SpotifyClientCredentials(client_id=sp_clave,\n",
    "                                             client_secret=sp_contraseña)\n",
    "\n",
    "sp = spotipy.Spotify(auth_manager=auth_manager)"
   ]
  },
  {
   "cell_type": "code",
   "execution_count": 9,
   "id": "e2311cdc",
   "metadata": {},
   "outputs": [],
   "source": [
    "datos_pop = sp.search(q=\"genre:pop, year:2019\", type=\"track\", limit=50, offset=0)"
   ]
  },
  {
   "cell_type": "code",
   "execution_count": 10,
   "id": "ccbf4cee",
   "metadata": {},
   "outputs": [
    {
     "data": {
      "text/html": [
       "<div>\n",
       "<style scoped>\n",
       "    .dataframe tbody tr th:only-of-type {\n",
       "        vertical-align: middle;\n",
       "    }\n",
       "\n",
       "    .dataframe tbody tr th {\n",
       "        vertical-align: top;\n",
       "    }\n",
       "\n",
       "    .dataframe thead th {\n",
       "        text-align: right;\n",
       "    }\n",
       "</style>\n",
       "<table border=\"1\" class=\"dataframe\">\n",
       "  <thead>\n",
       "    <tr style=\"text-align: right;\">\n",
       "      <th></th>\n",
       "      <th>nombre_artista</th>\n",
       "      <th>nombre_cancion</th>\n",
       "      <th>año_lanzamiento</th>\n",
       "      <th>género_musical</th>\n",
       "      <th>tipo</th>\n",
       "    </tr>\n",
       "  </thead>\n",
       "  <tbody>\n",
       "    <tr>\n",
       "      <th>0</th>\n",
       "      <td>Various Artists</td>\n",
       "      <td>Un boomerang</td>\n",
       "      <td>2019-11-22</td>\n",
       "      <td>pop</td>\n",
       "      <td>track</td>\n",
       "    </tr>\n",
       "    <tr>\n",
       "      <th>1</th>\n",
       "      <td>Los Rebeldes</td>\n",
       "      <td>Land of Thousand Dances - Remasterizado</td>\n",
       "      <td>2019-11-15</td>\n",
       "      <td>pop</td>\n",
       "      <td>track</td>\n",
       "    </tr>\n",
       "    <tr>\n",
       "      <th>2</th>\n",
       "      <td>Various Artists</td>\n",
       "      <td>No te enamores</td>\n",
       "      <td>2019-07-05</td>\n",
       "      <td>pop</td>\n",
       "      <td>track</td>\n",
       "    </tr>\n",
       "    <tr>\n",
       "      <th>3</th>\n",
       "      <td>Da Igual</td>\n",
       "      <td>Ojos Que No Ven Hostia Que Te Pegas</td>\n",
       "      <td>2019-04-12</td>\n",
       "      <td>pop</td>\n",
       "      <td>track</td>\n",
       "    </tr>\n",
       "    <tr>\n",
       "      <th>4</th>\n",
       "      <td>Various Artists</td>\n",
       "      <td>Walk Me Home</td>\n",
       "      <td>2019-06-07</td>\n",
       "      <td>pop</td>\n",
       "      <td>track</td>\n",
       "    </tr>\n",
       "    <tr>\n",
       "      <th>...</th>\n",
       "      <td>...</td>\n",
       "      <td>...</td>\n",
       "      <td>...</td>\n",
       "      <td>...</td>\n",
       "      <td>...</td>\n",
       "    </tr>\n",
       "    <tr>\n",
       "      <th>1245</th>\n",
       "      <td>Skd Raj</td>\n",
       "      <td>Iyarwe Ke Den Ha Kahat Bada Papa</td>\n",
       "      <td>2023-03-11</td>\n",
       "      <td>pop</td>\n",
       "      <td>track</td>\n",
       "    </tr>\n",
       "    <tr>\n",
       "      <th>1246</th>\n",
       "      <td>Various Artists</td>\n",
       "      <td>Irgendwann irgendwo irgendwie - Stereoact #Remix</td>\n",
       "      <td>2023-01-07</td>\n",
       "      <td>pop</td>\n",
       "      <td>track</td>\n",
       "    </tr>\n",
       "    <tr>\n",
       "      <th>1247</th>\n",
       "      <td>Panini Brunch</td>\n",
       "      <td>Tell me why</td>\n",
       "      <td>2023-01-05</td>\n",
       "      <td>pop</td>\n",
       "      <td>track</td>\n",
       "    </tr>\n",
       "    <tr>\n",
       "      <th>1248</th>\n",
       "      <td>Kinjal Dave</td>\n",
       "      <td>Dj Cheharmaa</td>\n",
       "      <td>2023-03-20</td>\n",
       "      <td>pop</td>\n",
       "      <td>track</td>\n",
       "    </tr>\n",
       "    <tr>\n",
       "      <th>1249</th>\n",
       "      <td>Sumit Singh Chandravanshi</td>\n",
       "      <td>Patna Me Ghar</td>\n",
       "      <td>2023-08-28</td>\n",
       "      <td>pop</td>\n",
       "      <td>track</td>\n",
       "    </tr>\n",
       "  </tbody>\n",
       "</table>\n",
       "<p>1250 rows × 5 columns</p>\n",
       "</div>"
      ],
      "text/plain": [
       "                 nombre_artista  \\\n",
       "0               Various Artists   \n",
       "1                  Los Rebeldes   \n",
       "2               Various Artists   \n",
       "3                      Da Igual   \n",
       "4               Various Artists   \n",
       "...                         ...   \n",
       "1245                    Skd Raj   \n",
       "1246            Various Artists   \n",
       "1247              Panini Brunch   \n",
       "1248                Kinjal Dave   \n",
       "1249  Sumit Singh Chandravanshi   \n",
       "\n",
       "                                        nombre_cancion año_lanzamiento  \\\n",
       "0                                         Un boomerang      2019-11-22   \n",
       "1              Land of Thousand Dances - Remasterizado      2019-11-15   \n",
       "2                                       No te enamores      2019-07-05   \n",
       "3                  Ojos Que No Ven Hostia Que Te Pegas      2019-04-12   \n",
       "4                                         Walk Me Home      2019-06-07   \n",
       "...                                                ...             ...   \n",
       "1245                  Iyarwe Ke Den Ha Kahat Bada Papa      2023-03-11   \n",
       "1246  Irgendwann irgendwo irgendwie - Stereoact #Remix      2023-01-07   \n",
       "1247                                       Tell me why      2023-01-05   \n",
       "1248                                      Dj Cheharmaa      2023-03-20   \n",
       "1249                                     Patna Me Ghar      2023-08-28   \n",
       "\n",
       "     género_musical   tipo  \n",
       "0               pop  track  \n",
       "1               pop  track  \n",
       "2               pop  track  \n",
       "3               pop  track  \n",
       "4               pop  track  \n",
       "...             ...    ...  \n",
       "1245            pop  track  \n",
       "1246            pop  track  \n",
       "1247            pop  track  \n",
       "1248            pop  track  \n",
       "1249            pop  track  \n",
       "\n",
       "[1250 rows x 5 columns]"
      ]
     },
     "execution_count": 10,
     "metadata": {},
     "output_type": "execute_result"
    }
   ],
   "source": [
    "canciones_pop = {\"nombre_artista\": [], \"nombre_cancion\": [], \"año_lanzamiento\": [], 'género_musical': [], 'tipo': []}\n",
    "for anio in range(2019,2024):\n",
    "    for offset in range(0, 250, 50):\n",
    "        datos_pop = sp.search(q=f\"genre:pop, year:{anio}\", type=\"track\", limit=50, offset=offset)\n",
    "        for cancion in datos_pop[\"tracks\"][\"items\"]:\n",
    "            canciones_pop[\"nombre_artista\"].append(cancion[\"album\"][\"artists\"][0][\"name\"])\n",
    "            canciones_pop[\"nombre_cancion\"].append(cancion[\"name\"])\n",
    "            canciones_pop[\"año_lanzamiento\"].append(cancion[\"album\"][\"release_date\"])\n",
    "            canciones_pop[\"género_musical\"].append('pop')\n",
    "            canciones_pop[\"tipo\"].append(cancion[\"type\"])\n",
    "df_pop = pd.DataFrame(canciones_pop)\n",
    "df_pop"
   ]
  },
  {
   "cell_type": "code",
   "execution_count": null,
   "id": "f768f74c",
   "metadata": {},
   "outputs": [],
   "source": [
    "df_pop.to_csv('pop_spotifydatabase.csv')"
   ]
  }
 ],
 "metadata": {
  "kernelspec": {
   "display_name": "base",
   "language": "python",
   "name": "python3"
  },
  "language_info": {
   "codemirror_mode": {
    "name": "ipython",
    "version": 3
   },
   "file_extension": ".py",
   "mimetype": "text/x-python",
   "name": "python",
   "nbconvert_exporter": "python",
   "pygments_lexer": "ipython3",
   "version": "3.12.7"
  }
 },
 "nbformat": 4,
 "nbformat_minor": 5
}
