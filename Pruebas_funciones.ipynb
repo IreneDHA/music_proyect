{
 "cells": [
  {
   "cell_type": "markdown",
   "id": "9ff13135",
   "metadata": {},
   "source": [
    "# FUNCIONES"
   ]
  },
  {
   "cell_type": "markdown",
   "id": "835006f1",
   "metadata": {},
   "source": [
    "LIBRERIAS Y AUTENTIFICACIONES"
   ]
  },
  {
   "cell_type": "code",
   "execution_count": 2,
   "id": "560a3219",
   "metadata": {},
   "outputs": [],
   "source": [
    "# importamos las librerías que necesitaremos:\n",
    "\n",
    "# Uso de API's\n",
    "# -----------------------------------------------------------------------\n",
    "import requests\n",
    "\n",
    "# Importar librería para interactuar con la API de Spotify y generar los credenciales necesarios para la autentificación \n",
    "# -----------------------------------------------------------------------\n",
    "import spotipy\n",
    "from spotipy.oauth2 import SpotifyClientCredentials\n",
    "\n",
    "# Importar librería para trabajar con variables de entorno en Python, permite cargar variables de entorno desde un archivo .env en el directorio del proyecto\n",
    "# -----------------------------------------------------------------------\n",
    "import os\n",
    "from dotenv import load_dotenv\n",
    "\n",
    "# Importar librería para trabajar con archivos JSON\n",
    "# -----------------------------------------------------------------------\n",
    "import json\n",
    "\n",
    "# Importar librerías para manipulación y análisis de datos\n",
    "# -----------------------------------------------------------------------\n",
    "import pandas as pd\n",
    "# Importar librerías para procesamiento de texto\n",
    "# -----------------------------------------------------------------------\n",
    "import re\n",
    "\n",
    "\n",
    "# Importar librería para la conexión con MySQL\n",
    "# -----------------------------------------------------------------------\n",
    "import mysql.connector\n",
    "from mysql.connector import errorcode\n",
    "\n",
    "# Configuración\n",
    "# -----------------------------------------------------------------------\n",
    "pd.set_option('display.max_columns', None) # para poder visualizar todas las columnas de los DataFrames\n"
   ]
  },
  {
   "cell_type": "code",
   "execution_count": 3,
   "id": "1185a639",
   "metadata": {},
   "outputs": [
    {
     "data": {
      "text/plain": [
       "True"
      ]
     },
     "execution_count": 3,
     "metadata": {},
     "output_type": "execute_result"
    }
   ],
   "source": [
    "load_dotenv()"
   ]
  },
  {
   "cell_type": "code",
   "execution_count": 4,
   "id": "b7238f7d",
   "metadata": {},
   "outputs": [],
   "source": [
    "sp_clave = os.getenv(\"Spotify_id\")\n",
    "sp_contraseña = os.getenv(\"Spotify_secret\")"
   ]
  },
  {
   "cell_type": "code",
   "execution_count": 17,
   "id": "650fdbc3",
   "metadata": {},
   "outputs": [],
   "source": [
    "####celda maria borrar#####\n",
    "sp_clave = os.getenv(\"client_id\")\n",
    "sp_contraseña = os.getenv(\"client_secret\")"
   ]
  },
  {
   "cell_type": "code",
   "execution_count": 20,
   "id": "4b045862",
   "metadata": {},
   "outputs": [],
   "source": [
    "########celda maria borrar2 ######\n",
    "import spotipy\n",
    "from spotipy.oauth2 import SpotifyOAuth\n",
    "\n",
    "scope = \"user-library-read\"\n",
    "\n",
    "sp = spotipy.Spotify(auth_manager=SpotifyOAuth(client_id=sp_clave,\n",
    "                                               client_secret=sp_contraseña,\n",
    "                                               redirect_uri=\"https://www.google.com\",\n",
    "                                               scope=\"user-library-read\"))"
   ]
  },
  {
   "cell_type": "code",
   "execution_count": 18,
   "id": "74410c7b",
   "metadata": {},
   "outputs": [],
   "source": [
    "#Autentificación SPOTIFY:\n",
    "auth_manager = sp = SpotifyClientCredentials(client_id=sp_clave,\n",
    "                                             client_secret=sp_contraseña)\n",
    "\n",
    "sp = spotipy.Spotify(auth_manager=auth_manager)"
   ]
  },
  {
   "cell_type": "code",
   "execution_count": 6,
   "id": "ca955598",
   "metadata": {},
   "outputs": [],
   "source": [
    "#Autentificación LASTFM:\n",
    "lastfm_clave = os.getenv(\"lastfm_id\")"
   ]
  },
  {
   "cell_type": "markdown",
   "id": "0f240c36",
   "metadata": {},
   "source": [
    "FUNCIÓN SACAR CANCIONES DE SPOTIFY"
   ]
  },
  {
   "cell_type": "markdown",
   "id": "a99a60ee",
   "metadata": {},
   "source": [
    "SERIA GUAY HACER UNA LISTA CON TODOS LOS GENEROS PARA QUE SAQUE LA FUNCION UN CSV YA COMBINADO"
   ]
  },
  {
   "cell_type": "code",
   "execution_count": 31,
   "id": "54f15212",
   "metadata": {},
   "outputs": [],
   "source": [
    "canciones = {\"nombre_artista\": [], \"nombre_canción\": [], \"año_lanzamiento\": [], \"género_musical\": [], \"tipo\": []}\n",
    "\n",
    "def canciones_spotify(género):\n",
    "    for anio in range(2019,2024):\n",
    "        for offset in range(0, 250, 50):\n",
    "            datos_trance = sp.search(q=f\"genre:{género}, year:{anio}\", type=\"track\", limit=50, offset=offset)\n",
    "        # valorar si podemos meter el género como un range o enumerate o algo así para meter los 4 géneros\n",
    "            for cancion in datos_trance[\"tracks\"][\"items\"]:\n",
    "                canciones[\"nombre_artista\"].append(cancion[\"album\"][\"artists\"][0][\"name\"])\n",
    "                canciones[\"nombre_canción\"].append(cancion[\"name\"])\n",
    "                canciones[\"género_musical\"].append(\"trance\")\n",
    "                canciones[\"año_lanzamiento\"].append(cancion[\"album\"][\"release_date\"][0:4]) \n",
    "                canciones[\"tipo\"].append(cancion[\"type\"])\n",
    "\n",
    "    df_spotify = pd.DataFrame(canciones)\n",
    "\n",
    "    return df_spotify # y conseguir un df de los 4 géneros\n",
    "\n",
    "\n",
    "#genero= trance , techno , pop, rock"
   ]
  },
  {
   "cell_type": "markdown",
   "id": "66a874cb",
   "metadata": {},
   "source": [
    "FUNCION PARA SACAR TODOS LOS GENEROS AL MISMO TIEMPO"
   ]
  },
  {
   "cell_type": "code",
   "execution_count": null,
   "id": "2bdfe531",
   "metadata": {},
   "outputs": [],
   "source": [
    "def canciones_spotifycombinada():\n",
    "    canciones = {\"nombre_artista\": [], \"nombre_canción\": [], \"año_lanzamiento\": [], \"género_musical\": [], \"tipo\": []}\n",
    "    generos = ['pop','rock','techno','trance']\n",
    "    for anio in range(2019,2024):\n",
    "        for offset in range(0, 250, 50):\n",
    "            for genero in generos:\n",
    "                datos_trance = sp.search(q=f\"genre:{genero}, year:{anio}\", type=\"track\", limit=50, offset=offset)\n",
    "                # valorar si podemos meter el género como un range o enumerate o algo así para meter los 4 géneros\n",
    "                for cancion in datos_trance[\"tracks\"][\"items\"]:\n",
    "                    canciones[\"nombre_artista\"].append(cancion[\"album\"][\"artists\"][0][\"name\"])\n",
    "                    canciones[\"nombre_canción\"].append(cancion[\"name\"])\n",
    "                    canciones[\"género_musical\"].append(f\"{genero}\")\n",
    "                    canciones[\"año_lanzamiento\"].append(cancion[\"album\"][\"release_date\"][0:4])\n",
    "                    canciones[\"tipo\"].append(cancion[\"type\"])\n",
    "    df_spotify = pd.DataFrame(canciones)\n",
    "    return df_spotify # y conseguir un df de los 4 géneros"
   ]
  },
  {
   "cell_type": "code",
   "execution_count": null,
   "id": "2a5cb676",
   "metadata": {},
   "outputs": [],
   "source": [
    "canciones_spotify(\"trance\")"
   ]
  },
  {
   "cell_type": "code",
   "execution_count": null,
   "id": "3c55bdfc",
   "metadata": {},
   "outputs": [
    {
     "data": {
      "text/html": [
       "<div>\n",
       "<style scoped>\n",
       "    .dataframe tbody tr th:only-of-type {\n",
       "        vertical-align: middle;\n",
       "    }\n",
       "\n",
       "    .dataframe tbody tr th {\n",
       "        vertical-align: top;\n",
       "    }\n",
       "\n",
       "    .dataframe thead th {\n",
       "        text-align: right;\n",
       "    }\n",
       "</style>\n",
       "<table border=\"1\" class=\"dataframe\">\n",
       "  <thead>\n",
       "    <tr style=\"text-align: right;\">\n",
       "      <th></th>\n",
       "      <th>nombre_artista</th>\n",
       "      <th>nombre_canción</th>\n",
       "      <th>año_lanzamiento</th>\n",
       "      <th>género_musical</th>\n",
       "      <th>tipo</th>\n",
       "    </tr>\n",
       "  </thead>\n",
       "  <tbody>\n",
       "    <tr>\n",
       "      <th>0</th>\n",
       "      <td>BTS</td>\n",
       "      <td>HOME</td>\n",
       "      <td>2019</td>\n",
       "      <td>pop</td>\n",
       "      <td>track</td>\n",
       "    </tr>\n",
       "    <tr>\n",
       "      <th>1</th>\n",
       "      <td>Ariana Grande</td>\n",
       "      <td>thank u, next</td>\n",
       "      <td>2019</td>\n",
       "      <td>pop</td>\n",
       "      <td>track</td>\n",
       "    </tr>\n",
       "    <tr>\n",
       "      <th>2</th>\n",
       "      <td>Sebastian Yatra</td>\n",
       "      <td>Un Año</td>\n",
       "      <td>2019</td>\n",
       "      <td>pop</td>\n",
       "      <td>track</td>\n",
       "    </tr>\n",
       "    <tr>\n",
       "      <th>3</th>\n",
       "      <td>Alejandro Sanz</td>\n",
       "      <td>Mi Persona Favorita</td>\n",
       "      <td>2019</td>\n",
       "      <td>pop</td>\n",
       "      <td>track</td>\n",
       "    </tr>\n",
       "    <tr>\n",
       "      <th>4</th>\n",
       "      <td>Lana Del Rey</td>\n",
       "      <td>Doin' Time</td>\n",
       "      <td>2019</td>\n",
       "      <td>pop</td>\n",
       "      <td>track</td>\n",
       "    </tr>\n",
       "    <tr>\n",
       "      <th>...</th>\n",
       "      <td>...</td>\n",
       "      <td>...</td>\n",
       "      <td>...</td>\n",
       "      <td>...</td>\n",
       "      <td>...</td>\n",
       "    </tr>\n",
       "    <tr>\n",
       "      <th>4931</th>\n",
       "      <td>Various Artists</td>\n",
       "      <td>Sonic Adventure</td>\n",
       "      <td>2023</td>\n",
       "      <td>techno</td>\n",
       "      <td>track</td>\n",
       "    </tr>\n",
       "    <tr>\n",
       "      <th>4932</th>\n",
       "      <td>Fred Linger</td>\n",
       "      <td>Time Out</td>\n",
       "      <td>2023</td>\n",
       "      <td>techno</td>\n",
       "      <td>track</td>\n",
       "    </tr>\n",
       "    <tr>\n",
       "      <th>4933</th>\n",
       "      <td>Various Artists</td>\n",
       "      <td>The Sun</td>\n",
       "      <td>2023</td>\n",
       "      <td>techno</td>\n",
       "      <td>track</td>\n",
       "    </tr>\n",
       "    <tr>\n",
       "      <th>4934</th>\n",
       "      <td>Various Artists</td>\n",
       "      <td>Shot On Top - Deetech Remix</td>\n",
       "      <td>2023</td>\n",
       "      <td>techno</td>\n",
       "      <td>track</td>\n",
       "    </tr>\n",
       "    <tr>\n",
       "      <th>4935</th>\n",
       "      <td>Various Artists</td>\n",
       "      <td>Make Me Feel Better</td>\n",
       "      <td>2023</td>\n",
       "      <td>techno</td>\n",
       "      <td>track</td>\n",
       "    </tr>\n",
       "  </tbody>\n",
       "</table>\n",
       "<p>4936 rows × 5 columns</p>\n",
       "</div>"
      ],
      "text/plain": [
       "       nombre_artista               nombre_canción año_lanzamiento  \\\n",
       "0                 BTS                         HOME            2019   \n",
       "1       Ariana Grande                thank u, next            2019   \n",
       "2     Sebastian Yatra                       Un Año            2019   \n",
       "3      Alejandro Sanz          Mi Persona Favorita            2019   \n",
       "4        Lana Del Rey                   Doin' Time            2019   \n",
       "...               ...                          ...             ...   \n",
       "4931  Various Artists              Sonic Adventure            2023   \n",
       "4932      Fred Linger                     Time Out            2023   \n",
       "4933  Various Artists                      The Sun            2023   \n",
       "4934  Various Artists  Shot On Top - Deetech Remix            2023   \n",
       "4935  Various Artists          Make Me Feel Better            2023   \n",
       "\n",
       "     género_musical   tipo  \n",
       "0               pop  track  \n",
       "1               pop  track  \n",
       "2               pop  track  \n",
       "3               pop  track  \n",
       "4               pop  track  \n",
       "...             ...    ...  \n",
       "4931         techno  track  \n",
       "4932         techno  track  \n",
       "4933         techno  track  \n",
       "4934         techno  track  \n",
       "4935         techno  track  \n",
       "\n",
       "[4936 rows x 5 columns]"
      ]
     },
     "execution_count": 46,
     "metadata": {},
     "output_type": "execute_result"
    }
   ],
   "source": [
    "canciones_spotifycombinada() #para llamar a la función de la base de datos combinada"
   ]
  },
  {
   "cell_type": "code",
   "execution_count": null,
   "id": "42cbee6c",
   "metadata": {},
   "outputs": [],
   "source": [
    "#####llamar a spotify por la función , sino solo con el df_spotify peta#####\n",
    "canciones_spotify(\"trance\").to_csv(\"spotifydatabase2222.csv\")"
   ]
  },
  {
   "cell_type": "code",
   "execution_count": null,
   "id": "9f3d0d8e",
   "metadata": {},
   "outputs": [
    {
     "ename": "NameError",
     "evalue": "name 'df_spotify' is not defined",
     "output_type": "error",
     "traceback": [
      "\u001b[1;31m---------------------------------------------------------------------------\u001b[0m",
      "\u001b[1;31mNameError\u001b[0m                                 Traceback (most recent call last)",
      "Cell \u001b[1;32mIn[34], line 1\u001b[0m\n\u001b[1;32m----> 1\u001b[0m df_spotify\u001b[38;5;241m.\u001b[39mto_csv(\u001b[38;5;124m\"\u001b[39m\u001b[38;5;124mspotifydatabase2222.csv\u001b[39m\u001b[38;5;124m\"\u001b[39m)\n",
      "\u001b[1;31mNameError\u001b[0m: name 'df_spotify' is not defined"
     ]
    }
   ],
   "source": [
    "#esto estaría fallando al tener la función creada\n",
    "df_spotify.to_csv(\"spotifydatabase.csv\")"
   ]
  },
  {
   "cell_type": "code",
   "execution_count": null,
   "id": "7352780f",
   "metadata": {},
   "outputs": [],
   "source": [
    "df_values_spotify=pd.read_csv(\"spotifydatabase.csv\",index_col=0)\n",
    "# ponemos el index_col= 0 para q no nos cree el Unnamed"
   ]
  },
  {
   "cell_type": "code",
   "execution_count": null,
   "id": "a96a6baa",
   "metadata": {},
   "outputs": [],
   "source": [
    "df_values_spotify\n",
    "# el índice va a salir pero lo quitamos al hacer el itertuples"
   ]
  },
  {
   "cell_type": "code",
   "execution_count": null,
   "id": "1a2abb39",
   "metadata": {},
   "outputs": [],
   "source": [
    "list(df_values_spotify.itertuples(index=False, name=None))\n",
    "# aqui no incluye ni el índice ni los títulos de las colmnas\n",
    "\n",
    "values_spotify = list(df_values_spotify.itertuples(index=False, name=None))"
   ]
  },
  {
   "cell_type": "markdown",
   "id": "1cf98110",
   "metadata": {},
   "source": [
    "FUNCIÓN SACAR CANCIONES DE LASTFM"
   ]
  },
  {
   "cell_type": "code",
   "execution_count": null,
   "id": "9bd1fbf5",
   "metadata": {},
   "outputs": [],
   "source": [
    "pd.read_csv(\"spotifydatabase.csv\", index_col=0)"
   ]
  },
  {
   "cell_type": "code",
   "execution_count": null,
   "id": "c5e59ce2",
   "metadata": {},
   "outputs": [],
   "source": [
    "cosaslista = pd.read_csv(\"spotifydatabase.csv\")\n",
    "columnanombreartista = cosaslista[\"nombre_artista\"].tolist()"
   ]
  },
  {
   "cell_type": "code",
   "execution_count": null,
   "id": "860dd2ab",
   "metadata": {},
   "outputs": [],
   "source": [
    "def llamar_api(url):\n",
    "    llamada = requests.get(url)\n",
    "    \n",
    "    if llamada.status_code != 200:\n",
    "        print(llamada.reason)\n",
    "    else:\n",
    "        return llamada.json()"
   ]
  },
  {
   "cell_type": "code",
   "execution_count": null,
   "id": "9930dd61",
   "metadata": {},
   "outputs": [],
   "source": [
    "infoartistas={\"nombre_artista\":[],\"bio\":[],\"listeners\":[],\"playcount\":[],\"similar\":[]}\n",
    "\n",
    "for nombreartista in columnanombreartista:\n",
    "    \n",
    "    if nombreartista == \"Various Artists\":  # elimiamos Various artists para q no salgan datos erróneos en las bio\n",
    "        continue\n",
    "\n",
    "    elif nombreartista in infoartistas[\"nombre_artista\"]: \n",
    "        continue  # Skip this iteration if the artist is a duplicate \n",
    "\n",
    "    else:    \n",
    "        try: \n",
    "            url = f\"http://ws.audioscrobbler.com/2.0/?method=artist.getinfo&artist={nombreartista}&api_key={lastfm_clave}&format=json\"\n",
    "            respuesta = llamar_api(url)\n",
    "\n",
    "            #Para hacer esto: infoartistas[\"similar\"].append(respuesta[\"artist\"][\"similar\"][\"artist\"][0]['name'])\n",
    "            similares=[]\n",
    "            for artistaejemplo in respuesta[\"artist\"][\"similar\"][\"artist\"]:\n",
    "                similares.append(artistaejemplo['name'])\n",
    "\n",
    "            infoartistas[\"similar\"].append(similares)\n",
    "            infoartistas[\"nombre_artista\"].append(nombreartista)\n",
    "            infoartistas[\"bio\"].append(respuesta[\"artist\"][\"bio\"][\"summary\"])\n",
    "            infoartistas[\"listeners\"].append(respuesta[\"artist\"][\"stats\"][\"listeners\"])\n",
    "            infoartistas[\"playcount\"].append(respuesta[\"artist\"][\"stats\"][\"playcount\"])\n",
    "\n",
    "            \n",
    "\n",
    "        except KeyError:\n",
    "            continue \n",
    "\n",
    "print(infoartistas)"
   ]
  },
  {
   "cell_type": "code",
   "execution_count": null,
   "id": "1f860fe6",
   "metadata": {},
   "outputs": [],
   "source": [
    "df=pd.DataFrame(infoartistas)"
   ]
  },
  {
   "cell_type": "code",
   "execution_count": null,
   "id": "9523f7cf",
   "metadata": {},
   "outputs": [],
   "source": [
    "df.to_csv(\"lastfmdatabase.csv\")"
   ]
  },
  {
   "cell_type": "code",
   "execution_count": null,
   "id": "d8d6c73e",
   "metadata": {},
   "outputs": [],
   "source": [
    "df_values_lastfm=pd.read_csv(\"lastfmdatabase.csv\",index_col=0)"
   ]
  },
  {
   "cell_type": "code",
   "execution_count": null,
   "id": "7b4c07a5",
   "metadata": {},
   "outputs": [],
   "source": [
    "values_lastfm = list(df_values_lastfm.itertuples(index=False, name=None))\n",
    "# aqui no incluye ni el índice ni los títulos de las colmnas"
   ]
  },
  {
   "cell_type": "markdown",
   "id": "0f7d90a1",
   "metadata": {},
   "source": [
    "FUNCIONES DE BBDD MUSIC TRENDS"
   ]
  },
  {
   "cell_type": "markdown",
   "id": "b4ea813c",
   "metadata": {},
   "source": [
    "- FUNCIÓN CREAR BASE DE DATOS MUSICTRENDS:"
   ]
  },
  {
   "cell_type": "code",
   "execution_count": null,
   "id": "dc2f0e49",
   "metadata": {},
   "outputs": [],
   "source": [
    "cnx = mysql.connector.connect(user='root', password='AlumnaAdalab',\n",
    "                              host='127.0.0.1')\n",
    "\n",
    "mycursor = cnx.cursor()\n",
    "sql = \"CREATE DATABASE MusicTrends\"\n",
    "\n",
    "\n",
    "try: \n",
    "    mycursor.execute(sql)\n",
    "    print(mycursor.rowcount, \"base de datos creada.\")\n",
    "\n",
    "except mysql.connector.Error as err:\n",
    "    print(err)\n",
    "    print(\"Error Code:\", err.errno)\n",
    "    print(\"SQLSTATE\", err.sqlstate)\n",
    "    print(\"Message\", err.msg)"
   ]
  },
  {
   "cell_type": "markdown",
   "id": "2bedf25b",
   "metadata": {},
   "source": [
    "- FUNCIÓN CREAR TABLA LASTFM:"
   ]
  },
  {
   "cell_type": "code",
   "execution_count": null,
   "id": "15bb290c",
   "metadata": {},
   "outputs": [],
   "source": [
    "cnx = mysql.connector.connect(user='root', password='AlumnaAdalab',\n",
    "                              host='127.0.0.1', database='MusicTrends')\n",
    "\n",
    "\n",
    "mycursor = cnx.cursor()\n",
    "sql = \"CREATE TABLE LastFM (id_artista INT AUTO_INCREMENT NOT NULL, nombre_artista VARCHAR(100) NOT NULL, bio LONGTEXT NULL, listeners INT NULL, playcount INT NULL, similar LONGTEXT NULL, PRIMARY KEY (id_artista)\"\n",
    "\n",
    "try: \n",
    "    mycursor.execute(sql)\n",
    "    cnx.commit()\n",
    "    print(mycursor.rowcount, \"registro/s insertado/s.\")\n",
    "\n",
    "except mysql.connector.Error as err:\n",
    "    print(err)\n",
    "    print(\"Error Code:\", err.errno)\n",
    "    print(\"SQLSTATE\", err.sqlstate)\n",
    "    print(\"Message\", err.msg)"
   ]
  },
  {
   "cell_type": "markdown",
   "id": "a6ee240b",
   "metadata": {},
   "source": [
    "- FUNCIÓN CREAR TABLA SPOTIFY:"
   ]
  },
  {
   "cell_type": "code",
   "execution_count": null,
   "id": "304338b7",
   "metadata": {},
   "outputs": [],
   "source": [
    "cnx = mysql.connector.connect(user='root', password='AlumnaAdalab',\n",
    "                              host='127.0.0.1', database='MusicTrends')\n",
    "\n",
    "\n",
    "mycursor = cnx.cursor()\n",
    "sql = \"CREATE TABLE Spotify (id_track INT NOT NULL AUTO_INCREMENT, nombre_canción VARCHAR(200) NULL, nombre_artista VARCHAR(100) NOT NULL, id_artista INT NULL, año_lanzamiento VARCHAR(4), género_musical VARCHAR(45) NULL, tipo VARCHAR(10) NULL, PRIMARY KEY(id_track), CONSTRAINT fk_LastFM FOREIGN KEY (id_artista) REFERENCES LastFM(id_artista) ON DELETE CASCADE ON UPDATE CASCADE)\"\n",
    "\n",
    "try: \n",
    "    mycursor.execute(sql)\n",
    "    cnx.commit()\n",
    "    print(mycursor.rowcount, \"registro/s insertado/s.\")\n",
    "\n",
    "except mysql.connector.Error as err:\n",
    "    print(err)\n",
    "    print(\"Error Code:\", err.errno)\n",
    "    print(\"SQLSTATE\", err.sqlstate)\n",
    "    print(\"Message\", err.msg)"
   ]
  },
  {
   "cell_type": "markdown",
   "id": "119b4682",
   "metadata": {},
   "source": [
    "- FUNCIÓN INSERTAR DATOS EN LASTFM:"
   ]
  },
  {
   "cell_type": "code",
   "execution_count": null,
   "id": "92b8cf8e",
   "metadata": {},
   "outputs": [],
   "source": [
    "cnx = mysql.connector.connect(user='root', password='AlumnaAdalab',\n",
    "                              host='127.0.0.1', database='MusicTrends')\n",
    "\n",
    "\n",
    "mycursor = cnx.cursor()\n",
    "sql = \"INSERT INTO LastFM (nombre_artista, bio, listeners, playcount, similar) VALUES (%s, %s, %s, %s,%s)\"\n",
    "val = values_lastfm\n",
    "\n",
    "try: \n",
    "    mycursor.executemany(sql, val)\n",
    "    cnx.commit()\n",
    "    print(mycursor.rowcount, \"registro/s insertado/s.\")\n",
    "\n",
    "except mysql.connector.Error as err:\n",
    "    print(err)\n",
    "    print(\"Error Code:\", err.errno)\n",
    "    print(\"SQLSTATE\", err.sqlstate)\n",
    "    print(\"Message\", err.msg)"
   ]
  },
  {
   "cell_type": "markdown",
   "id": "c6c2d7e1",
   "metadata": {},
   "source": [
    "- FUNCIÓN DE CREAR DICCIONARIO DE ARTISTAS:"
   ]
  },
  {
   "cell_type": "code",
   "execution_count": 41,
   "id": "579b8434",
   "metadata": {},
   "outputs": [],
   "source": [
    "##########celda maria test borrar si eso##########\n",
    "\n",
    "def dictartistas():\n",
    "    cnx = mysql.connector.connect(user='root', password='AlumnaAdalab',\n",
    "                                host='127.0.0.1', database='prueba_musictrends')\n",
    "\n",
    "\n",
    "    mycursor = cnx.cursor()\n",
    "    mycursor.execute(\"SELECT id_artista, nombre_artista FROM LastFM\")\n",
    "    artistas = mycursor.fetchall()\n",
    "    # Diccionario: nombre_artista.lower() -> id_artista para relacionar el id en las dos tablas\n",
    "    diccionario_artistas = {nombre.lower(): id for id, nombre in artistas}\n",
    "\n",
    "\n",
    "    diccionario_artistas\n",
    "\n",
    "\n",
    "    valores_spotify = []\n",
    "\n",
    "    for fila in valores_spotify:\n",
    "            nombre_artista = fila[0].lower()\n",
    "            id_artista = diccionario_artistas.get(nombre_artista)\n",
    "\n",
    "            if id_artista is not None:\n",
    "                # Creamos: (id_artista, nombre_artista, nombre_cancion, año_lanzamiento, género_musical, tipo)\n",
    "                valores_spotify.append((id_artista, *fila))\n",
    "            else:\n",
    "                valores_spotify.append((None, *fila))\n",
    "                print(f\"⚠️ Artista no encontrado en LastFM: {nombre_artista}\")\n",
    "\n",
    "\n",
    "    valores_spotify # ver si tiene sentido con este nombre"
   ]
  },
  {
   "cell_type": "code",
   "execution_count": 42,
   "id": "c219c740",
   "metadata": {},
   "outputs": [],
   "source": [
    "dictartistas()"
   ]
  },
  {
   "cell_type": "code",
   "execution_count": null,
   "id": "bd60d5c6",
   "metadata": {},
   "outputs": [],
   "source": [
    "cnx = mysql.connector.connect(user='root', password='AlumnaAdalab',\n",
    "                              host='127.0.0.1', database='MusicTrends')\n",
    "\n",
    "\n",
    "mycursor = cnx.cursor()\n",
    "mycursor.execute(\"SELECT id_artista, nombre_artista FROM LastFM\")\n",
    "artistas = mycursor.fetchall()\n",
    "# Diccionario: nombre_artista.lower() -> id_artista para relacionar el id en las dos tablas\n",
    "diccionario_artistas = {nombre.lower(): id for id, nombre in artistas}\n",
    "\n",
    "\n",
    "diccionario_artistas"
   ]
  },
  {
   "cell_type": "code",
   "execution_count": null,
   "id": "3fd946a2",
   "metadata": {},
   "outputs": [],
   "source": [
    "valores_spotify = []\n",
    "\n",
    "for fila in values_spotify:\n",
    "    nombre_artista = fila[0].lower()\n",
    "    id_artista = diccionario_artistas.get(nombre_artista)\n",
    "\n",
    "    if id_artista is not None:\n",
    "        # Creamos: (id_artista, nombre_artista, nombre_cancion, año_lanzamiento, género_musical, tipo)\n",
    "        valores_spotify.append((id_artista, *fila))\n",
    "    else:\n",
    "        valores_spotify.append((None, *fila))\n",
    "        print(f\"⚠️ Artista no encontrado en LastFM: {nombre_artista}\")\n",
    "\n",
    "\n",
    "valores_spotify # ver si tiene sentido con este nombre"
   ]
  },
  {
   "cell_type": "markdown",
   "id": "4405b4ba",
   "metadata": {},
   "source": [
    "- FUNCIÓN INSERTAR DATOS EN SPOTIFY:"
   ]
  },
  {
   "cell_type": "code",
   "execution_count": null,
   "id": "9d71d2bc",
   "metadata": {},
   "outputs": [],
   "source": [
    "cnx = mysql.connector.connect(user='root', password='AlumnaAdalab',\n",
    "                              host='127.0.0.1', database='MusicTrends')\n",
    "\n",
    "\n",
    "mycursor = cnx.cursor()\n",
    "sql = \"INSERT INTO Spotify (id_artista, nombre_artista, nombre_canción, año_lanzamiento, género_musical, tipo) VALUES (%s, %s, %s, %s,%s,%s)\"\n",
    "val = values_spotify\n",
    "\n",
    "try: \n",
    "    mycursor.executemany(sql, valores_spotify)\n",
    "    cnx.commit()\n",
    "    print(mycursor.rowcount, \"registro/s insertado/s.\")\n",
    "\n",
    "except mysql.connector.Error as err:\n",
    "    print(err)\n",
    "    print(\"Error Code:\", err.errno)\n",
    "    print(\"SQLSTATE\", err.sqlstate)\n",
    "    print(\"Message\", err.msg)"
   ]
  }
 ],
 "metadata": {
  "kernelspec": {
   "display_name": "base",
   "language": "python",
   "name": "python3"
  },
  "language_info": {
   "codemirror_mode": {
    "name": "ipython",
    "version": 3
   },
   "file_extension": ".py",
   "mimetype": "text/x-python",
   "name": "python",
   "nbconvert_exporter": "python",
   "pygments_lexer": "ipython3",
   "version": "3.12.7"
  }
 },
 "nbformat": 4,
 "nbformat_minor": 5
}
