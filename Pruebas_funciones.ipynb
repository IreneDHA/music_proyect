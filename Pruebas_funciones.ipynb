{
 "cells": [
  {
   "cell_type": "markdown",
   "id": "9ff13135",
   "metadata": {},
   "source": [
    "# FUNCIONES"
   ]
  },
  {
   "cell_type": "markdown",
   "id": "835006f1",
   "metadata": {},
   "source": [
    "LIBRERIAS Y AUTENTIFICACIONES"
   ]
  },
  {
   "cell_type": "code",
   "execution_count": null,
   "id": "560a3219",
   "metadata": {},
   "outputs": [],
   "source": [
    "# importamos las librerías que necesitaremos:\n",
    "\n",
    "# Uso de API's\n",
    "# -----------------------------------------------------------------------\n",
    "import requests\n",
    "\n",
    "# Importar librería para interactuar con la API de Spotify y generar los credenciales necesarios para la autentificación \n",
    "# -----------------------------------------------------------------------\n",
    "import spotipy\n",
    "from spotipy.oauth2 import SpotifyClientCredentials\n",
    "\n",
    "# Importar librería para trabajar con variables de entorno en Python, permite cargar variables de entorno desde un archivo .env en el directorio del proyecto\n",
    "# -----------------------------------------------------------------------\n",
    "import os\n",
    "from dotenv import load_dotenv\n",
    "\n",
    "# Importar librería para trabajar con archivos JSON\n",
    "# -----------------------------------------------------------------------\n",
    "import json\n",
    "\n",
    "# Importar librerías para manipulación y análisis de datos\n",
    "# -----------------------------------------------------------------------\n",
    "import pandas as pd\n",
    "# Importar librerías para procesamiento de texto\n",
    "# -----------------------------------------------------------------------\n",
    "import re\n",
    "\n",
    "\n",
    "# Importar librería para la conexión con MySQL\n",
    "# -----------------------------------------------------------------------\n",
    "import mysql.connector\n",
    "from mysql.connector import errorcode\n",
    "\n",
    "# Configuración\n",
    "# -----------------------------------------------------------------------\n",
    "pd.set_option('display.max_columns', None) # para poder visualizar todas las columnas de los DataFrames\n"
   ]
  },
  {
   "cell_type": "code",
   "execution_count": null,
   "id": "1185a639",
   "metadata": {},
   "outputs": [],
   "source": [
    "load_dotenv()"
   ]
  },
  {
   "cell_type": "code",
   "execution_count": null,
   "id": "b7238f7d",
   "metadata": {},
   "outputs": [],
   "source": [
    "sp_clave = os.getenv(\"Spotify_id\")\n",
    "sp_contraseña = os.getenv(\"Spotify_secret\")"
   ]
  },
  {
   "cell_type": "code",
   "execution_count": null,
   "id": "74410c7b",
   "metadata": {},
   "outputs": [],
   "source": [
    "#Autentificación SPOTIFY:\n",
    "auth_manager = sp = SpotifyClientCredentials(client_id=sp_clave,\n",
    "                                             client_secret=sp_contraseña)\n",
    "\n",
    "sp = spotipy.Spotify(auth_manager=auth_manager)"
   ]
  },
  {
   "cell_type": "code",
   "execution_count": null,
   "id": "ca955598",
   "metadata": {},
   "outputs": [],
   "source": [
    "#Autentificación LASTFM:\n",
    "lastfm_clave = os.getenv(\"lastfm_id\")"
   ]
  },
  {
   "cell_type": "markdown",
   "id": "0f240c36",
   "metadata": {},
   "source": [
    "FUNCIÓN SACAR CANCIONES DE SPOTIFY"
   ]
  },
  {
   "cell_type": "code",
   "execution_count": null,
   "id": "54f15212",
   "metadata": {},
   "outputs": [],
   "source": [
    "canciones = {\"nombre_artista\": [], \"nombre_canción\": [], \"año_lanzamiento\": [], \"género_musical\": [], \"tipo\": []}\n",
    "\n",
    "def canciones_spotify(género):\n",
    "input=(\"Dime un género\")\n",
    "for anio in range(2019,2024):\n",
    "    for offset in range(0, 250, 50):\n",
    "        datos_trance = sp.search(q=f\"genre:{input}, year:{anio}\", type=\"track\", limit=50, offset=offset)\n",
    "        # valorar si podemos meter el género como un range o enumerate o algo así para meter los 4 géneros\n",
    "        for cancion in datos_trance[\"tracks\"][\"items\"]:\n",
    "            canciones[\"nombre_artista\"].append(cancion[\"album\"][\"artists\"][0][\"name\"])\n",
    "            canciones[\"nombre_canción\"].append(cancion[\"name\"])\n",
    "            canciones[\"género_musical\"].append(\"trance\")\n",
    "            canciones[\"año_lanzamiento\"].append(cancion[\"album\"][\"release_date\"][0:4]) \n",
    "            canciones[\"tipo\"].append(cancion[\"type\"])\n",
    "\n",
    "df_spotify = pd.DataFrame(canciones)\n",
    "\n",
    "return df_spotify # y conseguir un df de los 4 géneros\n",
    "\n",
    "\n",
    "genero= trance"
   ]
  },
  {
   "cell_type": "code",
   "execution_count": null,
   "id": "9f3d0d8e",
   "metadata": {},
   "outputs": [],
   "source": [
    "df_spotify.to_csv(\"spotifydatabase.csv\")"
   ]
  },
  {
   "cell_type": "code",
   "execution_count": null,
   "id": "7352780f",
   "metadata": {},
   "outputs": [],
   "source": [
    "df_values_spotify=pd.read_csv(\"spotifydatabase.csv\",index_col=0)\n",
    "# ponemos el index_col= 0 para q no nos cree el Unnamed"
   ]
  },
  {
   "cell_type": "code",
   "execution_count": null,
   "id": "a96a6baa",
   "metadata": {},
   "outputs": [],
   "source": [
    "df_values_spotify\n",
    "# el índice va a salir pero lo quitamos al hacer el itertuples"
   ]
  },
  {
   "cell_type": "code",
   "execution_count": null,
   "id": "1a2abb39",
   "metadata": {},
   "outputs": [],
   "source": [
    "list(df_values_spotify.itertuples(index=False, name=None))\n",
    "# aqui no incluye ni el índice ni los títulos de las colmnas\n",
    "\n",
    "values_spotify = list(df_values_spotify.itertuples(index=False, name=None))"
   ]
  },
  {
   "cell_type": "markdown",
   "id": "1cf98110",
   "metadata": {},
   "source": [
    "FUNCIÓN SACAR CANCIONES DE LASTFM"
   ]
  },
  {
   "cell_type": "code",
   "execution_count": null,
   "id": "9bd1fbf5",
   "metadata": {},
   "outputs": [],
   "source": [
    "pd.read_csv(\"spotifydatabase.csv\", index_col=0)"
   ]
  },
  {
   "cell_type": "code",
   "execution_count": null,
   "id": "c5e59ce2",
   "metadata": {},
   "outputs": [],
   "source": [
    "cosaslista = pd.read_csv(\"spotifydatabase.csv\")\n",
    "columnanombreartista = cosaslista[\"nombre_artista\"].tolist()"
   ]
  },
  {
   "cell_type": "code",
   "execution_count": null,
   "id": "860dd2ab",
   "metadata": {},
   "outputs": [],
   "source": [
    "def llamar_api(url):\n",
    "    llamada = requests.get(url)\n",
    "    \n",
    "    if llamada.status_code != 200:\n",
    "        print(llamada.reason)\n",
    "    else:\n",
    "        return llamada.json()"
   ]
  },
  {
   "cell_type": "code",
   "execution_count": null,
   "id": "9930dd61",
   "metadata": {},
   "outputs": [],
   "source": [
    "infoartistas={\"nombre_artista\":[],\"bio\":[],\"listeners\":[],\"playcount\":[],\"similar\":[]}\n",
    "\n",
    "for nombreartista in columnanombreartista:\n",
    "    \n",
    "    if nombreartista == \"Various Artists\":  # elimiamos Various artists para q no salgan datos erróneos en las bio\n",
    "        continue\n",
    "\n",
    "    elif nombreartista in infoartistas[\"nombre_artista\"]: \n",
    "        continue  # Skip this iteration if the artist is a duplicate \n",
    "\n",
    "    else:    \n",
    "        try: \n",
    "            url = f\"http://ws.audioscrobbler.com/2.0/?method=artist.getinfo&artist={nombreartista}&api_key={lastfm_clave}&format=json\"\n",
    "            respuesta = llamar_api(url)\n",
    "\n",
    "            #Para hacer esto: infoartistas[\"similar\"].append(respuesta[\"artist\"][\"similar\"][\"artist\"][0]['name'])\n",
    "            similares=[]\n",
    "            for artistaejemplo in respuesta[\"artist\"][\"similar\"][\"artist\"]:\n",
    "                similares.append(artistaejemplo['name'])\n",
    "\n",
    "            infoartistas[\"similar\"].append(similares)\n",
    "            infoartistas[\"nombre_artista\"].append(nombreartista)\n",
    "            infoartistas[\"bio\"].append(respuesta[\"artist\"][\"bio\"][\"summary\"])\n",
    "            infoartistas[\"listeners\"].append(respuesta[\"artist\"][\"stats\"][\"listeners\"])\n",
    "            infoartistas[\"playcount\"].append(respuesta[\"artist\"][\"stats\"][\"playcount\"])\n",
    "\n",
    "            \n",
    "\n",
    "        except KeyError:\n",
    "            continue \n",
    "\n",
    "print(infoartistas)"
   ]
  },
  {
   "cell_type": "code",
   "execution_count": null,
   "id": "1f860fe6",
   "metadata": {},
   "outputs": [],
   "source": [
    "df=pd.DataFrame(infoartistas)"
   ]
  },
  {
   "cell_type": "code",
   "execution_count": null,
   "id": "9523f7cf",
   "metadata": {},
   "outputs": [],
   "source": [
    "df.to_csv(\"lastfmdatabase.csv\")"
   ]
  },
  {
   "cell_type": "code",
   "execution_count": null,
   "id": "d8d6c73e",
   "metadata": {},
   "outputs": [],
   "source": [
    "df_values_lastfm=pd.read_csv(\"lastfmdatabase.csv\",index_col=0)"
   ]
  },
  {
   "cell_type": "code",
   "execution_count": null,
   "id": "7b4c07a5",
   "metadata": {},
   "outputs": [],
   "source": [
    "values_lastfm = list(df_values_lastfm.itertuples(index=False, name=None))\n",
    "# aqui no incluye ni el índice ni los títulos de las colmnas"
   ]
  },
  {
   "cell_type": "markdown",
   "id": "0f7d90a1",
   "metadata": {},
   "source": [
    "FUNCIONES DE BBDD MUSIC TRENDS"
   ]
  },
  {
   "cell_type": "markdown",
   "id": "b4ea813c",
   "metadata": {},
   "source": [
    "- FUNCIÓN CREAR BASE DE DATOS MUSICTRENDS:"
   ]
  },
  {
   "cell_type": "code",
   "execution_count": null,
   "id": "dc2f0e49",
   "metadata": {},
   "outputs": [],
   "source": [
    "cnx = mysql.connector.connect(user='root', password='AlumnaAdalab',\n",
    "                              host='127.0.0.1')\n",
    "\n",
    "mycursor = cnx.cursor()\n",
    "sql = \"CREATE DATABASE MusicTrends\"\n",
    "\n",
    "\n",
    "try: \n",
    "    mycursor.execute(sql)\n",
    "    print(mycursor.rowcount, \"base de datos creada.\")\n",
    "\n",
    "except mysql.connector.Error as err:\n",
    "    print(err)\n",
    "    print(\"Error Code:\", err.errno)\n",
    "    print(\"SQLSTATE\", err.sqlstate)\n",
    "    print(\"Message\", err.msg)"
   ]
  },
  {
   "cell_type": "markdown",
   "id": "2bedf25b",
   "metadata": {},
   "source": [
    "- FUNCIÓN CREAR TABLA LASTFM:"
   ]
  },
  {
   "cell_type": "code",
   "execution_count": null,
   "id": "15bb290c",
   "metadata": {},
   "outputs": [],
   "source": [
    "cnx = mysql.connector.connect(user='root', password='AlumnaAdalab',\n",
    "                              host='127.0.0.1', database='MusicTrends')\n",
    "\n",
    "\n",
    "mycursor = cnx.cursor()\n",
    "sql = \"CREATE TABLE LastFM (id_artista INT AUTO_INCREMENT NOT NULL, nombre_artista VARCHAR(100) NOT NULL, bio LONGTEXT NULL, listeners INT NULL, playcount INT NULL, similar LONGTEXT NULL, PRIMARY KEY (id_artista)\"\n",
    "\n",
    "try: \n",
    "    mycursor.execute(sql)\n",
    "    cnx.commit()\n",
    "    print(mycursor.rowcount, \"registro/s insertado/s.\")\n",
    "\n",
    "except mysql.connector.Error as err:\n",
    "    print(err)\n",
    "    print(\"Error Code:\", err.errno)\n",
    "    print(\"SQLSTATE\", err.sqlstate)\n",
    "    print(\"Message\", err.msg)"
   ]
  },
  {
   "cell_type": "markdown",
   "id": "a6ee240b",
   "metadata": {},
   "source": [
    "- FUNCIÓN CREAR TABLA SPOTIFY:"
   ]
  },
  {
   "cell_type": "code",
   "execution_count": null,
   "id": "304338b7",
   "metadata": {},
   "outputs": [],
   "source": [
    "cnx = mysql.connector.connect(user='root', password='AlumnaAdalab',\n",
    "                              host='127.0.0.1', database='MusicTrends')\n",
    "\n",
    "\n",
    "mycursor = cnx.cursor()\n",
    "sql = \"CREATE TABLE Spotify (id_track INT NOT NULL AUTO_INCREMENT, nombre_canción VARCHAR(200) NULL, nombre_artista VARCHAR(100) NOT NULL, id_artista INT NULL, año_lanzamiento VARCHAR(4), género_musical VARCHAR(45) NULL, tipo VARCHAR(10) NULL, PRIMARY KEY(id_track), CONSTRAINT fk_LastFM FOREIGN KEY (id_artista) REFERENCES LastFM(id_artista) ON DELETE CASCADE ON UPDATE CASCADE)\"\n",
    "\n",
    "try: \n",
    "    mycursor.execute(sql)\n",
    "    cnx.commit()\n",
    "    print(mycursor.rowcount, \"registro/s insertado/s.\")\n",
    "\n",
    "except mysql.connector.Error as err:\n",
    "    print(err)\n",
    "    print(\"Error Code:\", err.errno)\n",
    "    print(\"SQLSTATE\", err.sqlstate)\n",
    "    print(\"Message\", err.msg)"
   ]
  },
  {
   "cell_type": "markdown",
   "id": "119b4682",
   "metadata": {},
   "source": [
    "- FUNCIÓN INSERTAR DATOS EN LASTFM:"
   ]
  },
  {
   "cell_type": "code",
   "execution_count": null,
   "id": "92b8cf8e",
   "metadata": {},
   "outputs": [],
   "source": [
    "cnx = mysql.connector.connect(user='root', password='AlumnaAdalab',\n",
    "                              host='127.0.0.1', database='MusicTrends')\n",
    "\n",
    "\n",
    "mycursor = cnx.cursor()\n",
    "sql = \"INSERT INTO LastFM (nombre_artista, bio, listeners, playcount, similar) VALUES (%s, %s, %s, %s,%s)\"\n",
    "val = values_lastfm\n",
    "\n",
    "try: \n",
    "    mycursor.executemany(sql, val)\n",
    "    cnx.commit()\n",
    "    print(mycursor.rowcount, \"registro/s insertado/s.\")\n",
    "\n",
    "except mysql.connector.Error as err:\n",
    "    print(err)\n",
    "    print(\"Error Code:\", err.errno)\n",
    "    print(\"SQLSTATE\", err.sqlstate)\n",
    "    print(\"Message\", err.msg)"
   ]
  },
  {
   "cell_type": "markdown",
   "id": "c6c2d7e1",
   "metadata": {},
   "source": [
    "- FUNCIÓN DE CREAR DICCIONARIO DE ARTISTAS:"
   ]
  },
  {
   "cell_type": "code",
   "execution_count": null,
   "id": "bd60d5c6",
   "metadata": {},
   "outputs": [],
   "source": [
    "cnx = mysql.connector.connect(user='root', password='AlumnaAdalab',\n",
    "                              host='127.0.0.1', database='MusicTrends')\n",
    "\n",
    "\n",
    "mycursor = cnx.cursor()\n",
    "mycursor.execute(\"SELECT id_artista, nombre_artista FROM LastFM\")\n",
    "artistas = mycursor.fetchall()\n",
    "# Diccionario: nombre_artista.lower() -> id_artista para relacionar el id en las dos tablas\n",
    "diccionario_artistas = {nombre.lower(): id for id, nombre in artistas}\n",
    "\n",
    "\n",
    "diccionario_artistas"
   ]
  },
  {
   "cell_type": "code",
   "execution_count": null,
   "id": "3fd946a2",
   "metadata": {},
   "outputs": [],
   "source": [
    "valores_spotify = []\n",
    "\n",
    "for fila in values_spotify:\n",
    "    nombre_artista = fila[0].lower()\n",
    "    id_artista = diccionario_artistas.get(nombre_artista)\n",
    "\n",
    "    if id_artista is not None:\n",
    "        # Creamos: (id_artista, nombre_artista, nombre_cancion, año_lanzamiento, género_musical, tipo)\n",
    "        valores_spotify.append((id_artista, *fila))\n",
    "    else:\n",
    "        valores_spotify.append((None, *fila))\n",
    "        print(f\"⚠️ Artista no encontrado en LastFM: {nombre_artista}\")\n",
    "\n",
    "\n",
    "valores_spotify # ver si tiene sentido con este nombre"
   ]
  },
  {
   "cell_type": "markdown",
   "id": "4405b4ba",
   "metadata": {},
   "source": [
    "- FUNCIÓN INSERTAR DATOS EN SPOTIFY:"
   ]
  },
  {
   "cell_type": "code",
   "execution_count": null,
   "id": "9d71d2bc",
   "metadata": {},
   "outputs": [],
   "source": [
    "cnx = mysql.connector.connect(user='root', password='AlumnaAdalab',\n",
    "                              host='127.0.0.1', database='MusicTrends')\n",
    "\n",
    "\n",
    "mycursor = cnx.cursor()\n",
    "sql = \"INSERT INTO Spotify (id_artista, nombre_artista, nombre_canción, año_lanzamiento, género_musical, tipo) VALUES (%s, %s, %s, %s,%s,%s)\"\n",
    "val = values_spotify\n",
    "\n",
    "try: \n",
    "    mycursor.executemany(sql, valores_spotify)\n",
    "    cnx.commit()\n",
    "    print(mycursor.rowcount, \"registro/s insertado/s.\")\n",
    "\n",
    "except mysql.connector.Error as err:\n",
    "    print(err)\n",
    "    print(\"Error Code:\", err.errno)\n",
    "    print(\"SQLSTATE\", err.sqlstate)\n",
    "    print(\"Message\", err.msg)"
   ]
  }
 ],
 "metadata": {
  "kernelspec": {
   "display_name": "base",
   "language": "python",
   "name": "python3"
  },
  "language_info": {
   "name": "python",
   "version": "3.12.7"
  }
 },
 "nbformat": 4,
 "nbformat_minor": 5
}
