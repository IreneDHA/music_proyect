{
 "cells": [
  {
   "cell_type": "code",
   "execution_count": 2,
   "id": "5c725e67",
   "metadata": {},
   "outputs": [],
   "source": [
    "#pip install python-dotenv"
   ]
  },
  {
   "cell_type": "code",
   "execution_count": 3,
   "id": "6cf3af44",
   "metadata": {},
   "outputs": [],
   "source": [
    "import spotipy\n",
    "from spotipy.oauth2 import SpotifyClientCredentials"
   ]
  },
  {
   "cell_type": "code",
   "execution_count": 4,
   "id": "18b37f84",
   "metadata": {},
   "outputs": [],
   "source": [
    "import os\n",
    "from dotenv import load_dotenv"
   ]
  },
  {
   "cell_type": "code",
   "execution_count": 15,
   "id": "9b0a453e",
   "metadata": {},
   "outputs": [],
   "source": [
    "import pandas as pd\n",
    "import json\n",
    "import csv"
   ]
  },
  {
   "cell_type": "code",
   "execution_count": 5,
   "id": "cce69bbc",
   "metadata": {},
   "outputs": [
    {
     "data": {
      "text/plain": [
       "True"
      ]
     },
     "execution_count": 5,
     "metadata": {},
     "output_type": "execute_result"
    }
   ],
   "source": [
    "load_dotenv()"
   ]
  },
  {
   "cell_type": "code",
   "execution_count": 6,
   "id": "0e1cae5a",
   "metadata": {},
   "outputs": [],
   "source": [
    "sp_clave = os.getenv(\"miriam_id_spotify\")\n",
    "sp_contraseña = os.getenv(\"miriam_secret_spotify\")"
   ]
  },
  {
   "cell_type": "code",
   "execution_count": 7,
   "id": "168797fc",
   "metadata": {},
   "outputs": [],
   "source": [
    "#Autentificación:\n",
    "auth_manager = sp = SpotifyClientCredentials(client_id=sp_clave,\n",
    "                                             client_secret=sp_contraseña)\n",
    "\n",
    "sp = spotipy.Spotify(auth_manager=auth_manager)"
   ]
  },
  {
   "cell_type": "code",
   "execution_count": 9,
   "id": "e2311cdc",
   "metadata": {},
   "outputs": [],
   "source": [
    "datos_funk_brazil = sp.search(q=\"genre:funk_brazil, year:2019\", type=\"track\", limit=50, offset=0)"
   ]
  },
  {
   "cell_type": "code",
   "execution_count": null,
   "id": "ccbf4cee",
   "metadata": {},
   "outputs": [
    {
     "data": {
      "text/html": [
       "<div>\n",
       "<style scoped>\n",
       "    .dataframe tbody tr th:only-of-type {\n",
       "        vertical-align: middle;\n",
       "    }\n",
       "\n",
       "    .dataframe tbody tr th {\n",
       "        vertical-align: top;\n",
       "    }\n",
       "\n",
       "    .dataframe thead th {\n",
       "        text-align: right;\n",
       "    }\n",
       "</style>\n",
       "<table border=\"1\" class=\"dataframe\">\n",
       "  <thead>\n",
       "    <tr style=\"text-align: right;\">\n",
       "      <th></th>\n",
       "      <th>nombre_artista</th>\n",
       "      <th>nombre_cancion</th>\n",
       "      <th>año_lanzamiento</th>\n",
       "      <th>genero_musical</th>\n",
       "      <th>tipo</th>\n",
       "    </tr>\n",
       "  </thead>\n",
       "  <tbody>\n",
       "    <tr>\n",
       "      <th>0</th>\n",
       "      <td>Various Artists</td>\n",
       "      <td>Killer Queen</td>\n",
       "      <td>2019-04-05</td>\n",
       "      <td>funk_brazil</td>\n",
       "      <td>track</td>\n",
       "    </tr>\n",
       "    <tr>\n",
       "      <th>1</th>\n",
       "      <td>David Moleon</td>\n",
       "      <td>Doctor Groove</td>\n",
       "      <td>2019-09-26</td>\n",
       "      <td>funk_brazil</td>\n",
       "      <td>track</td>\n",
       "    </tr>\n",
       "    <tr>\n",
       "      <th>2</th>\n",
       "      <td>Vendex</td>\n",
       "      <td>Cocytus</td>\n",
       "      <td>2019-11-24</td>\n",
       "      <td>funk_brazil</td>\n",
       "      <td>track</td>\n",
       "    </tr>\n",
       "    <tr>\n",
       "      <th>3</th>\n",
       "      <td>Various Artists</td>\n",
       "      <td>Cool Cat - Julio Leal &amp; Daniel Aguayo Remix</td>\n",
       "      <td>2019-01-04</td>\n",
       "      <td>funk_brazil</td>\n",
       "      <td>track</td>\n",
       "    </tr>\n",
       "    <tr>\n",
       "      <th>4</th>\n",
       "      <td>Various Artists</td>\n",
       "      <td>Margrats</td>\n",
       "      <td>2019-05-31</td>\n",
       "      <td>funk_brazil</td>\n",
       "      <td>track</td>\n",
       "    </tr>\n",
       "    <tr>\n",
       "      <th>...</th>\n",
       "      <td>...</td>\n",
       "      <td>...</td>\n",
       "      <td>...</td>\n",
       "      <td>...</td>\n",
       "      <td>...</td>\n",
       "    </tr>\n",
       "    <tr>\n",
       "      <th>1245</th>\n",
       "      <td>Traful</td>\n",
       "      <td>Perspective - Mixed</td>\n",
       "      <td>2023-12-29</td>\n",
       "      <td>funk_brazil</td>\n",
       "      <td>track</td>\n",
       "    </tr>\n",
       "    <tr>\n",
       "      <th>1246</th>\n",
       "      <td>Various Artists</td>\n",
       "      <td>Hematom - Original Mix</td>\n",
       "      <td>2023-02-17</td>\n",
       "      <td>funk_brazil</td>\n",
       "      <td>track</td>\n",
       "    </tr>\n",
       "    <tr>\n",
       "      <th>1247</th>\n",
       "      <td>Various Artists</td>\n",
       "      <td>World Of Deep - Jesse Rose Respect To Detroit ...</td>\n",
       "      <td>2023-11-03</td>\n",
       "      <td>funk_brazil</td>\n",
       "      <td>track</td>\n",
       "    </tr>\n",
       "    <tr>\n",
       "      <th>1248</th>\n",
       "      <td>Various Artists</td>\n",
       "      <td>Balenoo</td>\n",
       "      <td>2023-09-04</td>\n",
       "      <td>funk_brazil</td>\n",
       "      <td>track</td>\n",
       "    </tr>\n",
       "    <tr>\n",
       "      <th>1249</th>\n",
       "      <td>Carara</td>\n",
       "      <td>Dark and Raw</td>\n",
       "      <td>2023-12-15</td>\n",
       "      <td>funk_brazil</td>\n",
       "      <td>track</td>\n",
       "    </tr>\n",
       "  </tbody>\n",
       "</table>\n",
       "<p>1250 rows × 5 columns</p>\n",
       "</div>"
      ],
      "text/plain": [
       "       nombre_artista                                     nombre_cancion  \\\n",
       "0     Various Artists                                       Killer Queen   \n",
       "1        David Moleon                                      Doctor Groove   \n",
       "2              Vendex                                            Cocytus   \n",
       "3     Various Artists        Cool Cat - Julio Leal & Daniel Aguayo Remix   \n",
       "4     Various Artists                                           Margrats   \n",
       "...               ...                                                ...   \n",
       "1245           Traful                                Perspective - Mixed   \n",
       "1246  Various Artists                             Hematom - Original Mix   \n",
       "1247  Various Artists  World Of Deep - Jesse Rose Respect To Detroit ...   \n",
       "1248  Various Artists                                            Balenoo   \n",
       "1249           Carara                                       Dark and Raw   \n",
       "\n",
       "     año_lanzamiento genero_musical   tipo  \n",
       "0         2019-04-05    funk_brazil  track  \n",
       "1         2019-09-26    funk_brazil  track  \n",
       "2         2019-11-24    funk_brazil  track  \n",
       "3         2019-01-04    funk_brazil  track  \n",
       "4         2019-05-31    funk_brazil  track  \n",
       "...              ...            ...    ...  \n",
       "1245      2023-12-29    funk_brazil  track  \n",
       "1246      2023-02-17    funk_brazil  track  \n",
       "1247      2023-11-03    funk_brazil  track  \n",
       "1248      2023-09-04    funk_brazil  track  \n",
       "1249      2023-12-15    funk_brazil  track  \n",
       "\n",
       "[1250 rows x 5 columns]"
      ]
     },
     "execution_count": 26,
     "metadata": {},
     "output_type": "execute_result"
    }
   ],
   "source": [
    "canciones_funk_brazil = {\"nombre_artista\": [], \"nombre_cancion\": [], \"año_lanzamiento\": [], 'género_musical': [], 'tipo': []}\n",
    "for anio in range(2019,2024):\n",
    "    for offset in range(0, 250, 50):\n",
    "        datos_funk_brazil = sp.search(q=f\"genre:techno, year:{anio}\", type=\"track\", limit=50, offset=offset)\n",
    "        for cancion in datos_funk_brazil[\"tracks\"][\"items\"]:\n",
    "            canciones_funk_brazil[\"nombre_artista\"].append(cancion[\"album\"][\"artists\"][0][\"name\"])\n",
    "            canciones_funk_brazil[\"nombre_cancion\"].append(cancion[\"name\"])\n",
    "            canciones_funk_brazil[\"año_lanzamiento\"].append(cancion[\"album\"][\"release_date\"])\n",
    "            canciones_funk_brazil[\"genero_musical\"].append('funk_brazil')\n",
    "            canciones_funk_brazil[\"tipo\"].append(cancion[\"type\"])\n",
    "df_techno = pd.DataFrame(canciones_funk_brazil)\n",
    "df_techno"
   ]
  }
 ],
 "metadata": {
  "kernelspec": {
   "display_name": "base",
   "language": "python",
   "name": "python3"
  },
  "language_info": {
   "codemirror_mode": {
    "name": "ipython",
    "version": 3
   },
   "file_extension": ".py",
   "mimetype": "text/x-python",
   "name": "python",
   "nbconvert_exporter": "python",
   "pygments_lexer": "ipython3",
   "version": "3.12.7"
  }
 },
 "nbformat": 4,
 "nbformat_minor": 5
}
