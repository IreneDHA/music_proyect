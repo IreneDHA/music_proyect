{
 "cells": [
  {
   "cell_type": "code",
   "execution_count": 26,
   "id": "5c725e67",
   "metadata": {},
   "outputs": [],
   "source": [
    "#pip install python-dotenv"
   ]
  },
  {
   "cell_type": "code",
   "execution_count": 27,
   "id": "6cf3af44",
   "metadata": {},
   "outputs": [],
   "source": [
    "import spotipy\n",
    "from spotipy.oauth2 import SpotifyClientCredentials"
   ]
  },
  {
   "cell_type": "code",
   "execution_count": 28,
   "id": "18b37f84",
   "metadata": {},
   "outputs": [],
   "source": [
    "import os\n",
    "from dotenv import load_dotenv"
   ]
  },
  {
   "cell_type": "code",
   "execution_count": 29,
   "id": "9b0a453e",
   "metadata": {},
   "outputs": [],
   "source": [
    "import pandas as pd\n",
    "import json\n",
    "import csv"
   ]
  },
  {
   "cell_type": "code",
   "execution_count": 30,
   "id": "cce69bbc",
   "metadata": {},
   "outputs": [
    {
     "data": {
      "text/plain": [
       "True"
      ]
     },
     "execution_count": 30,
     "metadata": {},
     "output_type": "execute_result"
    }
   ],
   "source": [
    "load_dotenv()"
   ]
  },
  {
   "cell_type": "code",
   "execution_count": 31,
   "id": "0e1cae5a",
   "metadata": {},
   "outputs": [],
   "source": [
    "sp_clave = os.getenv(\"miriam_id_spotify\")\n",
    "sp_contraseña = os.getenv(\"miriam_secret_spotify\")"
   ]
  },
  {
   "cell_type": "code",
   "execution_count": 32,
   "id": "3330f961",
   "metadata": {},
   "outputs": [],
   "source": [
    "#Autentificación:\n",
    "auth_manager = sp = SpotifyClientCredentials(client_id=sp_clave,\n",
    "                                             client_secret=sp_contraseña)\n",
    "\n",
    "sp = spotipy.Spotify(auth_manager=auth_manager)"
   ]
  },
  {
   "cell_type": "code",
   "execution_count": 33,
   "id": "168797fc",
   "metadata": {},
   "outputs": [],
   "source": [
    "#Autentificación:\n",
    "auth_manager = sp = SpotifyClientCredentials(client_id=sp_clave,\n",
    "                                             client_secret=sp_contraseña)\n",
    "\n",
    "sp = spotipy.Spotify(auth_manager=auth_manager)"
   ]
  },
  {
   "cell_type": "code",
   "execution_count": 34,
   "id": "e2311cdc",
   "metadata": {},
   "outputs": [],
   "source": [
    "datos_funk_brazil = sp.search(q=\"genre:funk_brazil, year:2019\", type=\"track\", limit=50, offset=0)"
   ]
  },
  {
   "cell_type": "code",
   "execution_count": 36,
   "id": "ccbf4cee",
   "metadata": {},
   "outputs": [
    {
     "data": {
      "text/html": [
       "<div>\n",
       "<style scoped>\n",
       "    .dataframe tbody tr th:only-of-type {\n",
       "        vertical-align: middle;\n",
       "    }\n",
       "\n",
       "    .dataframe tbody tr th {\n",
       "        vertical-align: top;\n",
       "    }\n",
       "\n",
       "    .dataframe thead th {\n",
       "        text-align: right;\n",
       "    }\n",
       "</style>\n",
       "<table border=\"1\" class=\"dataframe\">\n",
       "  <thead>\n",
       "    <tr style=\"text-align: right;\">\n",
       "      <th></th>\n",
       "      <th>nombre_artista</th>\n",
       "      <th>nombre_cancion</th>\n",
       "      <th>año_lanzamiento</th>\n",
       "      <th>género_musical</th>\n",
       "      <th>tipo</th>\n",
       "    </tr>\n",
       "  </thead>\n",
       "  <tbody>\n",
       "    <tr>\n",
       "      <th>0</th>\n",
       "      <td>nCamargo</td>\n",
       "      <td>Cold Front</td>\n",
       "      <td>2019-02-19</td>\n",
       "      <td>funk_brazil</td>\n",
       "      <td>track</td>\n",
       "    </tr>\n",
       "    <tr>\n",
       "      <th>1</th>\n",
       "      <td>Various Artists</td>\n",
       "      <td>Come On Baby</td>\n",
       "      <td>2019-01-07</td>\n",
       "      <td>funk_brazil</td>\n",
       "      <td>track</td>\n",
       "    </tr>\n",
       "    <tr>\n",
       "      <th>2</th>\n",
       "      <td>Duoscience</td>\n",
       "      <td>Hold It - Original</td>\n",
       "      <td>2019-05-27</td>\n",
       "      <td>funk_brazil</td>\n",
       "      <td>track</td>\n",
       "    </tr>\n",
       "    <tr>\n",
       "      <th>3</th>\n",
       "      <td>Various Artists</td>\n",
       "      <td>Souvenirs - Miami Master 2k19</td>\n",
       "      <td>2019-04-13</td>\n",
       "      <td>funk_brazil</td>\n",
       "      <td>track</td>\n",
       "    </tr>\n",
       "    <tr>\n",
       "      <th>4</th>\n",
       "      <td>nCamargo</td>\n",
       "      <td>Submersion</td>\n",
       "      <td>2019-02-19</td>\n",
       "      <td>funk_brazil</td>\n",
       "      <td>track</td>\n",
       "    </tr>\n",
       "    <tr>\n",
       "      <th>...</th>\n",
       "      <td>...</td>\n",
       "      <td>...</td>\n",
       "      <td>...</td>\n",
       "      <td>...</td>\n",
       "      <td>...</td>\n",
       "    </tr>\n",
       "    <tr>\n",
       "      <th>1009</th>\n",
       "      <td>Various Artists</td>\n",
       "      <td>24 Horas</td>\n",
       "      <td>2023-08-23</td>\n",
       "      <td>funk_brazil</td>\n",
       "      <td>track</td>\n",
       "    </tr>\n",
       "    <tr>\n",
       "      <th>1010</th>\n",
       "      <td>Various Artists</td>\n",
       "      <td>All I Got</td>\n",
       "      <td>2023-12-11</td>\n",
       "      <td>funk_brazil</td>\n",
       "      <td>track</td>\n",
       "    </tr>\n",
       "    <tr>\n",
       "      <th>1011</th>\n",
       "      <td>Softmal</td>\n",
       "      <td>Mind Up</td>\n",
       "      <td>2023-04-14</td>\n",
       "      <td>funk_brazil</td>\n",
       "      <td>track</td>\n",
       "    </tr>\n",
       "    <tr>\n",
       "      <th>1012</th>\n",
       "      <td>Various Artists</td>\n",
       "      <td>Como ela vem</td>\n",
       "      <td>2023-07-14</td>\n",
       "      <td>funk_brazil</td>\n",
       "      <td>track</td>\n",
       "    </tr>\n",
       "    <tr>\n",
       "      <th>1013</th>\n",
       "      <td>Various Artists</td>\n",
       "      <td>A Part Of Me</td>\n",
       "      <td>2023-12-11</td>\n",
       "      <td>funk_brazil</td>\n",
       "      <td>track</td>\n",
       "    </tr>\n",
       "  </tbody>\n",
       "</table>\n",
       "<p>1014 rows × 5 columns</p>\n",
       "</div>"
      ],
      "text/plain": [
       "       nombre_artista                 nombre_cancion año_lanzamiento  \\\n",
       "0            nCamargo                     Cold Front      2019-02-19   \n",
       "1     Various Artists                   Come On Baby      2019-01-07   \n",
       "2          Duoscience             Hold It - Original      2019-05-27   \n",
       "3     Various Artists  Souvenirs - Miami Master 2k19      2019-04-13   \n",
       "4            nCamargo                     Submersion      2019-02-19   \n",
       "...               ...                            ...             ...   \n",
       "1009  Various Artists                       24 Horas      2023-08-23   \n",
       "1010  Various Artists                      All I Got      2023-12-11   \n",
       "1011          Softmal                        Mind Up      2023-04-14   \n",
       "1012  Various Artists                   Como ela vem      2023-07-14   \n",
       "1013  Various Artists                   A Part Of Me      2023-12-11   \n",
       "\n",
       "     género_musical   tipo  \n",
       "0       funk_brazil  track  \n",
       "1       funk_brazil  track  \n",
       "2       funk_brazil  track  \n",
       "3       funk_brazil  track  \n",
       "4       funk_brazil  track  \n",
       "...             ...    ...  \n",
       "1009    funk_brazil  track  \n",
       "1010    funk_brazil  track  \n",
       "1011    funk_brazil  track  \n",
       "1012    funk_brazil  track  \n",
       "1013    funk_brazil  track  \n",
       "\n",
       "[1014 rows x 5 columns]"
      ]
     },
     "execution_count": 36,
     "metadata": {},
     "output_type": "execute_result"
    }
   ],
   "source": [
    "canciones_funk_brazil = {\"nombre_artista\": [], \"nombre_cancion\": [], \"año_lanzamiento\": [], 'género_musical': [], 'tipo': []}\n",
    "for anio in range(2019,2024):\n",
    "    for offset in range(0, 250, 50):\n",
    "        datos_funk_brazil = sp.search(q=f\"genre:funk_brazil, year:{anio}\", type=\"track\", limit=50, offset=offset)\n",
    "        for cancion in datos_funk_brazil[\"tracks\"][\"items\"]:\n",
    "            canciones_funk_brazil[\"nombre_artista\"].append(cancion[\"album\"][\"artists\"][0][\"name\"])\n",
    "            canciones_funk_brazil[\"nombre_cancion\"].append(cancion[\"name\"])\n",
    "            canciones_funk_brazil[\"año_lanzamiento\"].append(cancion[\"album\"][\"release_date\"])\n",
    "            canciones_funk_brazil[\"género_musical\"].append('funk_brazil')\n",
    "            canciones_funk_brazil[\"tipo\"].append(cancion[\"type\"])\n",
    "df_funk_brazil = pd.DataFrame(canciones_funk_brazil)\n",
    "df_funk_brazil"
   ]
  },
  {
   "cell_type": "code",
   "execution_count": 37,
   "id": "f768f74c",
   "metadata": {},
   "outputs": [],
   "source": [
    "df_funk_brazil.to_csv('datafunk.csv')"
   ]
  }
 ],
 "metadata": {
  "kernelspec": {
   "display_name": "base",
   "language": "python",
   "name": "python3"
  },
  "language_info": {
   "codemirror_mode": {
    "name": "ipython",
    "version": 3
   },
   "file_extension": ".py",
   "mimetype": "text/x-python",
   "name": "python",
   "nbconvert_exporter": "python",
   "pygments_lexer": "ipython3",
   "version": "3.12.7"
  }
 },
 "nbformat": 4,
 "nbformat_minor": 5
}
