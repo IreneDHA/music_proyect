{
 "cells": [
  {
   "cell_type": "code",
   "execution_count": 1,
   "id": "ed5daf3b",
   "metadata": {},
   "outputs": [],
   "source": [
    "import spotipy\n",
    "from spotipy.oauth2 import SpotifyClientCredentials"
   ]
  },
  {
   "cell_type": "code",
   "execution_count": null,
   "id": "7080f1d2",
   "metadata": {},
   "outputs": [],
   "source": [
    "CLIENT_ID = ''\n",
    "CLIENT_SECRET = ''\n",
    "\n",
    "# Autenticación\n",
    "auth_manager = SpotifyClientCredentials(client_id=CLIENT_ID, client_secret=CLIENT_SECRET)\n",
    "sp = spotipy.Spotify(auth_manager=auth_manager)"
   ]
  },
  {
   "cell_type": "code",
   "execution_count": null,
   "id": "9274cf27",
   "metadata": {},
   "outputs": [],
   "source": [
    "datos = sp.search(q=\"genre:techno, year:2019\", type=\"track\", limit=50, offset=0)"
   ]
  },
  {
   "cell_type": "code",
   "execution_count": 39,
   "id": "56fc498b",
   "metadata": {},
   "outputs": [
    {
     "name": "stdout",
     "output_type": "stream",
     "text": [
      "<class 'dict'>\n"
     ]
    }
   ],
   "source": [
    "print(type(datos))"
   ]
  },
  {
   "cell_type": "code",
   "execution_count": 40,
   "id": "7fd8c510",
   "metadata": {},
   "outputs": [
    {
     "data": {
      "text/plain": [
       "dict_keys(['tracks', 'albums'])"
      ]
     },
     "execution_count": 40,
     "metadata": {},
     "output_type": "execute_result"
    }
   ],
   "source": [
    "datos.keys()"
   ]
  },
  {
   "cell_type": "code",
   "execution_count": 41,
   "id": "e0da3090",
   "metadata": {},
   "outputs": [
    {
     "data": {
      "text/plain": [
       "{'href': 'https://api.spotify.com/v1/search?offset=0&limit=50&query=genre%3Atechno%2C%20year%3A2019&type=album',\n",
       " 'limit': 50,\n",
       " 'next': None,\n",
       " 'offset': 0,\n",
       " 'previous': None,\n",
       " 'total': 0,\n",
       " 'items': []}"
      ]
     },
     "execution_count": 41,
     "metadata": {},
     "output_type": "execute_result"
    }
   ],
   "source": [
    "datos[\"albums\"]"
   ]
  },
  {
   "cell_type": "code",
   "execution_count": 13,
   "id": "8c2ad48e",
   "metadata": {},
   "outputs": [
    {
     "data": {
      "text/plain": [
       "dict_keys(['album', 'artists', 'available_markets', 'disc_number', 'duration_ms', 'explicit', 'external_ids', 'external_urls', 'href', 'id', 'is_local', 'is_playable', 'name', 'popularity', 'preview_url', 'track_number', 'type', 'uri'])"
      ]
     },
     "execution_count": 13,
     "metadata": {},
     "output_type": "execute_result"
    }
   ],
   "source": [
    "datos[\"tracks\"][\"items\"][0].keys()"
   ]
  },
  {
   "cell_type": "code",
   "execution_count": null,
   "id": "133f4279",
   "metadata": {},
   "outputs": [],
   "source": [
    "\"\"\"datos = sp.search(q=\"genre:techno, year:2019\", type=\"track\", limit=50, offset=0)\n",
    "print(type(datos))\n",
    "datos.keys()\n",
    "datos[\"tracks\"]\n",
    "datos[\"tracks\"][\"items\"][0].keys()\"\"\""
   ]
  },
  {
   "cell_type": "code",
   "execution_count": 19,
   "id": "43e4bf70",
   "metadata": {},
   "outputs": [],
   "source": [
    "datos = sp.search(q=\"genre:k-pop, year:2019\", type=\"track\", limit=50, offset=0)"
   ]
  },
  {
   "cell_type": "code",
   "execution_count": 20,
   "id": "52503b85",
   "metadata": {},
   "outputs": [
    {
     "name": "stdout",
     "output_type": "stream",
     "text": [
      "<class 'dict'>\n"
     ]
    }
   ],
   "source": [
    "print(type(datos))"
   ]
  },
  {
   "cell_type": "code",
   "execution_count": 21,
   "id": "0fb8986d",
   "metadata": {},
   "outputs": [
    {
     "data": {
      "text/plain": [
       "dict_keys(['tracks'])"
      ]
     },
     "execution_count": 21,
     "metadata": {},
     "output_type": "execute_result"
    }
   ],
   "source": [
    "datos.keys()"
   ]
  },
  {
   "cell_type": "code",
   "execution_count": 23,
   "id": "1a7b9c1a",
   "metadata": {},
   "outputs": [
    {
     "data": {
      "text/plain": [
       "dict_keys(['album', 'artists', 'available_markets', 'disc_number', 'duration_ms', 'explicit', 'external_ids', 'external_urls', 'href', 'id', 'is_local', 'is_playable', 'name', 'popularity', 'preview_url', 'track_number', 'type', 'uri'])"
      ]
     },
     "execution_count": 23,
     "metadata": {},
     "output_type": "execute_result"
    }
   ],
   "source": [
    "datos[\"tracks\"][\"items\"][0].keys()"
   ]
  },
  {
   "cell_type": "code",
   "execution_count": 32,
   "id": "8714a53c",
   "metadata": {},
   "outputs": [],
   "source": [
    "datos = sp.search(q=\"genre:funk-brazil, year:2019\", type=\"track\", limit=50, offset=0)"
   ]
  },
  {
   "cell_type": "code",
   "execution_count": 33,
   "id": "813cfeed",
   "metadata": {},
   "outputs": [
    {
     "name": "stdout",
     "output_type": "stream",
     "text": [
      "<class 'dict'>\n"
     ]
    }
   ],
   "source": [
    "print(type(datos))"
   ]
  },
  {
   "cell_type": "code",
   "execution_count": 34,
   "id": "7b057fea",
   "metadata": {},
   "outputs": [
    {
     "data": {
      "text/plain": [
       "dict_keys(['tracks'])"
      ]
     },
     "execution_count": 34,
     "metadata": {},
     "output_type": "execute_result"
    }
   ],
   "source": [
    "datos.keys()"
   ]
  },
  {
   "cell_type": "code",
   "execution_count": 36,
   "id": "c49a6c78",
   "metadata": {},
   "outputs": [
    {
     "data": {
      "text/plain": [
       "dict_keys(['album', 'artists', 'available_markets', 'disc_number', 'duration_ms', 'explicit', 'external_ids', 'external_urls', 'href', 'id', 'is_local', 'is_playable', 'name', 'popularity', 'preview_url', 'track_number', 'type', 'uri'])"
      ]
     },
     "execution_count": 36,
     "metadata": {},
     "output_type": "execute_result"
    }
   ],
   "source": [
    "datos[\"tracks\"][\"items\"][0].keys()"
   ]
  },
  {
   "cell_type": "code",
   "execution_count": null,
   "id": "3da6524b",
   "metadata": {},
   "outputs": [],
   "source": [
    "datos = sp.search(q=\"genre:trans, year:2019\", type=\"track\", limit=50, offset=0)"
   ]
  },
  {
   "cell_type": "code",
   "execution_count": null,
   "id": "61e68049",
   "metadata": {},
   "outputs": [],
   "source": [
    "\"\"\"# queremos preparar los datos qnos interesan, por ejemplo sacar el personaje con su \"name\", \"id\", \"house\" y \"yearOfBirth\":\n",
    "personajes = {\"nombre\": [], \"id\": [], \"casa\": [], \"año_nacimiento\":[]}\n",
    "for personaje in datos:\n",
    "    personajes[\"nombre\"].append(personaje[\"name\"])\n",
    "    personajes[\"id\"].append(personaje[\"id\"])\n",
    "    personajes[\"casa\"].append(personaje[\"house\"])\n",
    "    personajes[\"año_nacimiento\"].append(personaje[\"yearOfBirth\"])\n",
    "    break\n",
    "personajes\n",
    "# si quitaramos el break nos saldrían todos los personajes\"\"\""
   ]
  }
 ],
 "metadata": {
  "kernelspec": {
   "display_name": "base",
   "language": "python",
   "name": "python3"
  },
  "language_info": {
   "codemirror_mode": {
    "name": "ipython",
    "version": 3
   },
   "file_extension": ".py",
   "mimetype": "text/x-python",
   "name": "python",
   "nbconvert_exporter": "python",
   "pygments_lexer": "ipython3",
   "version": "3.12.7"
  }
 },
 "nbformat": 4,
 "nbformat_minor": 5
}
