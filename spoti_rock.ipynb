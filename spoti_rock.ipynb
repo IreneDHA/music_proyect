{
 "cells": [
  {
   "cell_type": "code",
   "execution_count": 9,
   "id": "2bc626f3",
   "metadata": {},
   "outputs": [],
   "source": [
    "import pandas as pd\n",
    "import requests\n",
    "import re\n",
    "pd.set_option('display.max_columns', None)\n",
    "import os\n"
   ]
  },
  {
   "cell_type": "code",
   "execution_count": 10,
   "id": "578af6a8",
   "metadata": {},
   "outputs": [],
   "source": [
    "from dotenv import load_dotenv"
   ]
  },
  {
   "cell_type": "code",
   "execution_count": 11,
   "id": "e5217b2b",
   "metadata": {},
   "outputs": [
    {
     "data": {
      "text/plain": [
       "True"
      ]
     },
     "execution_count": 11,
     "metadata": {},
     "output_type": "execute_result"
    }
   ],
   "source": [
    "load_dotenv()"
   ]
  },
  {
   "cell_type": "code",
   "execution_count": 12,
   "id": "3e90b6f2",
   "metadata": {},
   "outputs": [],
   "source": [
    "sp_clave = os.getenv(\"client_id\")\n",
    "sp_contraseña = os.getenv(\"client_secret\")"
   ]
  },
  {
   "cell_type": "code",
   "execution_count": 13,
   "id": "96e10ee2",
   "metadata": {},
   "outputs": [
    {
     "name": "stdout",
     "output_type": "stream",
     "text": [
      "Requirement already satisfied: spotipy in c:\\users\\pc\\anaconda3\\lib\\site-packages (2.25.1)\n",
      "Requirement already satisfied: redis>=3.5.3 in c:\\users\\pc\\anaconda3\\lib\\site-packages (from spotipy) (6.2.0)\n",
      "Requirement already satisfied: requests>=2.25.0 in c:\\users\\pc\\anaconda3\\lib\\site-packages (from spotipy) (2.32.3)\n",
      "Requirement already satisfied: urllib3>=1.26.0 in c:\\users\\pc\\anaconda3\\lib\\site-packages (from spotipy) (2.2.3)\n",
      "Requirement already satisfied: charset-normalizer<4,>=2 in c:\\users\\pc\\anaconda3\\lib\\site-packages (from requests>=2.25.0->spotipy) (3.3.2)\n",
      "Requirement already satisfied: idna<4,>=2.5 in c:\\users\\pc\\anaconda3\\lib\\site-packages (from requests>=2.25.0->spotipy) (3.7)\n",
      "Requirement already satisfied: certifi>=2017.4.17 in c:\\users\\pc\\anaconda3\\lib\\site-packages (from requests>=2.25.0->spotipy) (2025.4.26)\n",
      "Note: you may need to restart the kernel to use updated packages.\n"
     ]
    }
   ],
   "source": [
    "pip install spotipy --upgrade"
   ]
  },
  {
   "cell_type": "code",
   "execution_count": 14,
   "id": "c510299b",
   "metadata": {},
   "outputs": [],
   "source": [
    "import spotipy\n",
    "from spotipy.oauth2 import SpotifyOAuth\n",
    "\n",
    "scope = \"user-library-read\"\n",
    "\n",
    "sp = spotipy.Spotify(auth_manager=SpotifyOAuth(client_id=sp_clave,\n",
    "                                               client_secret=sp_contraseña,\n",
    "                                               redirect_uri=\"https://www.google.com\",\n",
    "                                               scope=\"user-library-read\"))\n"
   ]
  },
  {
   "cell_type": "code",
   "execution_count": 16,
   "id": "2279e5a7",
   "metadata": {},
   "outputs": [
    {
     "data": {
      "text/html": [
       "<div>\n",
       "<style scoped>\n",
       "    .dataframe tbody tr th:only-of-type {\n",
       "        vertical-align: middle;\n",
       "    }\n",
       "\n",
       "    .dataframe tbody tr th {\n",
       "        vertical-align: top;\n",
       "    }\n",
       "\n",
       "    .dataframe thead th {\n",
       "        text-align: right;\n",
       "    }\n",
       "</style>\n",
       "<table border=\"1\" class=\"dataframe\">\n",
       "  <thead>\n",
       "    <tr style=\"text-align: right;\">\n",
       "      <th></th>\n",
       "      <th>nombre_artista</th>\n",
       "      <th>nombre_cancion</th>\n",
       "      <th>año_lanzamiento</th>\n",
       "      <th>género_musical</th>\n",
       "      <th>tipo</th>\n",
       "    </tr>\n",
       "  </thead>\n",
       "  <tbody>\n",
       "    <tr>\n",
       "      <th>0</th>\n",
       "      <td>MAN WITH A MISSION</td>\n",
       "      <td>Dark Crow</td>\n",
       "      <td>2019-10-13</td>\n",
       "      <td>rock</td>\n",
       "      <td>track</td>\n",
       "    </tr>\n",
       "    <tr>\n",
       "      <th>1</th>\n",
       "      <td>ONE OK ROCK</td>\n",
       "      <td>Stand Out Fit In</td>\n",
       "      <td>2019-02-15</td>\n",
       "      <td>rock</td>\n",
       "      <td>track</td>\n",
       "    </tr>\n",
       "    <tr>\n",
       "      <th>2</th>\n",
       "      <td>Bring Me The Horizon</td>\n",
       "      <td>MANTRA</td>\n",
       "      <td>2019-01-25</td>\n",
       "      <td>rock</td>\n",
       "      <td>track</td>\n",
       "    </tr>\n",
       "    <tr>\n",
       "      <th>3</th>\n",
       "      <td>YUNGBLUD</td>\n",
       "      <td>parents</td>\n",
       "      <td>2019-10-18</td>\n",
       "      <td>rock</td>\n",
       "      <td>track</td>\n",
       "    </tr>\n",
       "    <tr>\n",
       "      <th>4</th>\n",
       "      <td>Bring Me The Horizon</td>\n",
       "      <td>sugar honey ice &amp; tea</td>\n",
       "      <td>2019-01-25</td>\n",
       "      <td>rock</td>\n",
       "      <td>track</td>\n",
       "    </tr>\n",
       "    <tr>\n",
       "      <th>...</th>\n",
       "      <td>...</td>\n",
       "      <td>...</td>\n",
       "      <td>...</td>\n",
       "      <td>...</td>\n",
       "      <td>...</td>\n",
       "    </tr>\n",
       "    <tr>\n",
       "      <th>1245</th>\n",
       "      <td>Meldrop</td>\n",
       "      <td>Goodman</td>\n",
       "      <td>2023-12-23</td>\n",
       "      <td>rock</td>\n",
       "      <td>track</td>\n",
       "    </tr>\n",
       "    <tr>\n",
       "      <th>1246</th>\n",
       "      <td>Avenged Sevenfold</td>\n",
       "      <td>Nobody</td>\n",
       "      <td>2023-06-02</td>\n",
       "      <td>rock</td>\n",
       "      <td>track</td>\n",
       "    </tr>\n",
       "    <tr>\n",
       "      <th>1247</th>\n",
       "      <td>Kublaii</td>\n",
       "      <td>Dynamite</td>\n",
       "      <td>2023-06-24</td>\n",
       "      <td>rock</td>\n",
       "      <td>track</td>\n",
       "    </tr>\n",
       "    <tr>\n",
       "      <th>1248</th>\n",
       "      <td>Bayron Caicedo</td>\n",
       "      <td>En la Vida Hay Que Gozar</td>\n",
       "      <td>2023-07-24</td>\n",
       "      <td>rock</td>\n",
       "      <td>track</td>\n",
       "    </tr>\n",
       "    <tr>\n",
       "      <th>1249</th>\n",
       "      <td>Bayron Caicedo</td>\n",
       "      <td>Sola, Sola</td>\n",
       "      <td>2023-07-24</td>\n",
       "      <td>rock</td>\n",
       "      <td>track</td>\n",
       "    </tr>\n",
       "  </tbody>\n",
       "</table>\n",
       "<p>1250 rows × 5 columns</p>\n",
       "</div>"
      ],
      "text/plain": [
       "            nombre_artista            nombre_cancion año_lanzamiento  \\\n",
       "0       MAN WITH A MISSION                 Dark Crow      2019-10-13   \n",
       "1              ONE OK ROCK          Stand Out Fit In      2019-02-15   \n",
       "2     Bring Me The Horizon                    MANTRA      2019-01-25   \n",
       "3                 YUNGBLUD                   parents      2019-10-18   \n",
       "4     Bring Me The Horizon     sugar honey ice & tea      2019-01-25   \n",
       "...                    ...                       ...             ...   \n",
       "1245               Meldrop                   Goodman      2023-12-23   \n",
       "1246     Avenged Sevenfold                    Nobody      2023-06-02   \n",
       "1247               Kublaii                  Dynamite      2023-06-24   \n",
       "1248        Bayron Caicedo  En la Vida Hay Que Gozar      2023-07-24   \n",
       "1249        Bayron Caicedo                Sola, Sola      2023-07-24   \n",
       "\n",
       "     género_musical   tipo  \n",
       "0              rock  track  \n",
       "1              rock  track  \n",
       "2              rock  track  \n",
       "3              rock  track  \n",
       "4              rock  track  \n",
       "...             ...    ...  \n",
       "1245           rock  track  \n",
       "1246           rock  track  \n",
       "1247           rock  track  \n",
       "1248           rock  track  \n",
       "1249           rock  track  \n",
       "\n",
       "[1250 rows x 5 columns]"
      ]
     },
     "execution_count": 16,
     "metadata": {},
     "output_type": "execute_result"
    }
   ],
   "source": [
    "canciones_rock = {\"nombre_artista\": [], \"nombre_cancion\": [], \"año_lanzamiento\": [], \"género_musical\": [], \"tipo\": []}\n",
    "for anio in range(2019,2024):\n",
    "    for offset in range(0, 250, 50):\n",
    "        datos_rock = sp.search(q=f\"genre:rock, year:{anio}\", type=\"track\", limit=50, offset=offset)        \n",
    "        for cancion in datos_rock[\"tracks\"][\"items\"]:\n",
    "            canciones_rock[\"nombre_artista\"].append(cancion[\"album\"][\"artists\"][0][\"name\"])\n",
    "            canciones_rock[\"nombre_cancion\"].append(cancion[\"name\"])\n",
    "            canciones_rock[\"género_musical\"].append(\"rock\")\n",
    "            canciones_rock[\"año_lanzamiento\"].append(cancion[\"album\"][\"release_date\"])\n",
    "            canciones_rock[\"tipo\"].append(cancion[\"type\"])\n",
    "df_rock = pd.DataFrame(canciones_rock)\n",
    "df_rock"
   ]
  },
  {
   "cell_type": "code",
   "execution_count": 17,
   "id": "f01fb282",
   "metadata": {},
   "outputs": [],
   "source": [
    "df_rock.to_csv(\"rockdatabase.csv\")"
   ]
  }
 ],
 "metadata": {
  "kernelspec": {
   "display_name": "base",
   "language": "python",
   "name": "python3"
  },
  "language_info": {
   "codemirror_mode": {
    "name": "ipython",
    "version": 3
   },
   "file_extension": ".py",
   "mimetype": "text/x-python",
   "name": "python",
   "nbconvert_exporter": "python",
   "pygments_lexer": "ipython3",
   "version": "3.12.7"
  }
 },
 "nbformat": 4,
 "nbformat_minor": 5
}
