{
 "cells": [
  {
   "cell_type": "code",
   "execution_count": null,
   "id": "1257c37f",
   "metadata": {},
   "outputs": [],
   "source": [
    "import pandas as pd\n",
    "import requests\n",
    "import re\n",
    "pd.set_option('display.max_columns', None)\n",
    "import os"
   ]
  },
  {
   "cell_type": "code",
   "execution_count": null,
   "id": "f1fc4729",
   "metadata": {},
   "outputs": [],
   "source": [
    "from dotenv import load_dotenv"
   ]
  },
  {
   "cell_type": "code",
   "execution_count": null,
   "id": "9eb3193e",
   "metadata": {},
   "outputs": [],
   "source": [
    "load_dotenv()"
   ]
  },
  {
   "cell_type": "code",
   "execution_count": null,
   "id": "e4e4bf3e",
   "metadata": {},
   "outputs": [],
   "source": [
    "api_key = os.getenv(\"api_key\")"
   ]
  },
  {
   "cell_type": "code",
   "execution_count": null,
   "id": "bcf33087",
   "metadata": {},
   "outputs": [],
   "source": [
    "auten = f\"http://www.last.fm/api/auth/?api_key=api_key={api_key}}\"\n",
    "respauten= requests.get(auten)"
   ]
  },
  {
   "cell_type": "code",
   "execution_count": null,
   "id": "45ad422d",
   "metadata": {},
   "outputs": [],
   "source": []
  },
  {
   "cell_type": "code",
   "execution_count": 3,
   "id": "fede5421",
   "metadata": {},
   "outputs": [
    {
     "data": {
      "text/plain": [
       "200"
      ]
     },
     "execution_count": 3,
     "metadata": {},
     "output_type": "execute_result"
    }
   ],
   "source": [
    "respauten.status_code"
   ]
  },
  {
   "cell_type": "code",
   "execution_count": null,
   "id": "f3b25915",
   "metadata": {},
   "outputs": [],
   "source": [
    "\n",
    "auten2 = f\"http://ws.audioscrobbler.com/2.0/?method=artist.getinfo&artist=Cher&api_key={api_key}&format=json\""
   ]
  },
  {
   "cell_type": "code",
   "execution_count": 15,
   "id": "422f6f89",
   "metadata": {},
   "outputs": [],
   "source": [
    "respuesta2=requests.get(auten2)"
   ]
  },
  {
   "cell_type": "code",
   "execution_count": 16,
   "id": "e9ad6205",
   "metadata": {},
   "outputs": [
    {
     "data": {
      "text/plain": [
       "200"
      ]
     },
     "execution_count": 16,
     "metadata": {},
     "output_type": "execute_result"
    }
   ],
   "source": [
    "respuesta2.status_code"
   ]
  },
  {
   "cell_type": "code",
   "execution_count": 17,
   "id": "66be8e45",
   "metadata": {},
   "outputs": [
    {
     "data": {
      "text/plain": [
       "'OK'"
      ]
     },
     "execution_count": 17,
     "metadata": {},
     "output_type": "execute_result"
    }
   ],
   "source": [
    "respuesta2.reason"
   ]
  },
  {
   "cell_type": "code",
   "execution_count": 24,
   "id": "e9aae936",
   "metadata": {},
   "outputs": [
    {
     "data": {
      "text/plain": [
       "{'artist': {'name': 'Cher',\n",
       "  'mbid': 'bfcc6d75-a6a5-4bc6-8282-47aec8531818',\n",
       "  'url': 'https://www.last.fm/music/Cher',\n",
       "  'image': [{'#text': 'https://lastfm.freetls.fastly.net/i/u/34s/2a96cbd8b46e442fc41c2b86b821562f.png',\n",
       "    'size': 'small'},\n",
       "   {'#text': 'https://lastfm.freetls.fastly.net/i/u/64s/2a96cbd8b46e442fc41c2b86b821562f.png',\n",
       "    'size': 'medium'},\n",
       "   {'#text': 'https://lastfm.freetls.fastly.net/i/u/174s/2a96cbd8b46e442fc41c2b86b821562f.png',\n",
       "    'size': 'large'},\n",
       "   {'#text': 'https://lastfm.freetls.fastly.net/i/u/300x300/2a96cbd8b46e442fc41c2b86b821562f.png',\n",
       "    'size': 'extralarge'},\n",
       "   {'#text': 'https://lastfm.freetls.fastly.net/i/u/300x300/2a96cbd8b46e442fc41c2b86b821562f.png',\n",
       "    'size': 'mega'},\n",
       "   {'#text': 'https://lastfm.freetls.fastly.net/i/u/300x300/2a96cbd8b46e442fc41c2b86b821562f.png',\n",
       "    'size': ''}],\n",
       "  'streamable': '0',\n",
       "  'ontour': '0',\n",
       "  'stats': {'listeners': '1916160', 'playcount': '30780418'},\n",
       "  'similar': {'artist': [{'name': 'Sonny & Cher',\n",
       "     'url': 'https://www.last.fm/music/Sonny+&+Cher',\n",
       "     'image': [{'#text': 'https://lastfm.freetls.fastly.net/i/u/34s/2a96cbd8b46e442fc41c2b86b821562f.png',\n",
       "       'size': 'small'},\n",
       "      {'#text': 'https://lastfm.freetls.fastly.net/i/u/64s/2a96cbd8b46e442fc41c2b86b821562f.png',\n",
       "       'size': 'medium'},\n",
       "      {'#text': 'https://lastfm.freetls.fastly.net/i/u/174s/2a96cbd8b46e442fc41c2b86b821562f.png',\n",
       "       'size': 'large'},\n",
       "      {'#text': 'https://lastfm.freetls.fastly.net/i/u/300x300/2a96cbd8b46e442fc41c2b86b821562f.png',\n",
       "       'size': 'extralarge'},\n",
       "      {'#text': 'https://lastfm.freetls.fastly.net/i/u/300x300/2a96cbd8b46e442fc41c2b86b821562f.png',\n",
       "       'size': 'mega'},\n",
       "      {'#text': 'https://lastfm.freetls.fastly.net/i/u/300x300/2a96cbd8b46e442fc41c2b86b821562f.png',\n",
       "       'size': ''}]},\n",
       "    {'name': 'Kylie Minogue',\n",
       "     'url': 'https://www.last.fm/music/Kylie+Minogue',\n",
       "     'image': [{'#text': 'https://lastfm.freetls.fastly.net/i/u/34s/2a96cbd8b46e442fc41c2b86b821562f.png',\n",
       "       'size': 'small'},\n",
       "      {'#text': 'https://lastfm.freetls.fastly.net/i/u/64s/2a96cbd8b46e442fc41c2b86b821562f.png',\n",
       "       'size': 'medium'},\n",
       "      {'#text': 'https://lastfm.freetls.fastly.net/i/u/174s/2a96cbd8b46e442fc41c2b86b821562f.png',\n",
       "       'size': 'large'},\n",
       "      {'#text': 'https://lastfm.freetls.fastly.net/i/u/300x300/2a96cbd8b46e442fc41c2b86b821562f.png',\n",
       "       'size': 'extralarge'},\n",
       "      {'#text': 'https://lastfm.freetls.fastly.net/i/u/300x300/2a96cbd8b46e442fc41c2b86b821562f.png',\n",
       "       'size': 'mega'},\n",
       "      {'#text': 'https://lastfm.freetls.fastly.net/i/u/300x300/2a96cbd8b46e442fc41c2b86b821562f.png',\n",
       "       'size': ''}]},\n",
       "    {'name': 'Céline Dion',\n",
       "     'url': 'https://www.last.fm/music/C%C3%A9line+Dion',\n",
       "     'image': [{'#text': 'https://lastfm.freetls.fastly.net/i/u/34s/2a96cbd8b46e442fc41c2b86b821562f.png',\n",
       "       'size': 'small'},\n",
       "      {'#text': 'https://lastfm.freetls.fastly.net/i/u/64s/2a96cbd8b46e442fc41c2b86b821562f.png',\n",
       "       'size': 'medium'},\n",
       "      {'#text': 'https://lastfm.freetls.fastly.net/i/u/174s/2a96cbd8b46e442fc41c2b86b821562f.png',\n",
       "       'size': 'large'},\n",
       "      {'#text': 'https://lastfm.freetls.fastly.net/i/u/300x300/2a96cbd8b46e442fc41c2b86b821562f.png',\n",
       "       'size': 'extralarge'},\n",
       "      {'#text': 'https://lastfm.freetls.fastly.net/i/u/300x300/2a96cbd8b46e442fc41c2b86b821562f.png',\n",
       "       'size': 'mega'},\n",
       "      {'#text': 'https://lastfm.freetls.fastly.net/i/u/300x300/2a96cbd8b46e442fc41c2b86b821562f.png',\n",
       "       'size': ''}]},\n",
       "    {'name': 'Tina Turner',\n",
       "     'url': 'https://www.last.fm/music/Tina+Turner',\n",
       "     'image': [{'#text': 'https://lastfm.freetls.fastly.net/i/u/34s/2a96cbd8b46e442fc41c2b86b821562f.png',\n",
       "       'size': 'small'},\n",
       "      {'#text': 'https://lastfm.freetls.fastly.net/i/u/64s/2a96cbd8b46e442fc41c2b86b821562f.png',\n",
       "       'size': 'medium'},\n",
       "      {'#text': 'https://lastfm.freetls.fastly.net/i/u/174s/2a96cbd8b46e442fc41c2b86b821562f.png',\n",
       "       'size': 'large'},\n",
       "      {'#text': 'https://lastfm.freetls.fastly.net/i/u/300x300/2a96cbd8b46e442fc41c2b86b821562f.png',\n",
       "       'size': 'extralarge'},\n",
       "      {'#text': 'https://lastfm.freetls.fastly.net/i/u/300x300/2a96cbd8b46e442fc41c2b86b821562f.png',\n",
       "       'size': 'mega'},\n",
       "      {'#text': 'https://lastfm.freetls.fastly.net/i/u/300x300/2a96cbd8b46e442fc41c2b86b821562f.png',\n",
       "       'size': ''}]},\n",
       "    {'name': 'Madonna',\n",
       "     'url': 'https://www.last.fm/music/Madonna',\n",
       "     'image': [{'#text': 'https://lastfm.freetls.fastly.net/i/u/34s/2a96cbd8b46e442fc41c2b86b821562f.png',\n",
       "       'size': 'small'},\n",
       "      {'#text': 'https://lastfm.freetls.fastly.net/i/u/64s/2a96cbd8b46e442fc41c2b86b821562f.png',\n",
       "       'size': 'medium'},\n",
       "      {'#text': 'https://lastfm.freetls.fastly.net/i/u/174s/2a96cbd8b46e442fc41c2b86b821562f.png',\n",
       "       'size': 'large'},\n",
       "      {'#text': 'https://lastfm.freetls.fastly.net/i/u/300x300/2a96cbd8b46e442fc41c2b86b821562f.png',\n",
       "       'size': 'extralarge'},\n",
       "      {'#text': 'https://lastfm.freetls.fastly.net/i/u/300x300/2a96cbd8b46e442fc41c2b86b821562f.png',\n",
       "       'size': 'mega'},\n",
       "      {'#text': 'https://lastfm.freetls.fastly.net/i/u/300x300/2a96cbd8b46e442fc41c2b86b821562f.png',\n",
       "       'size': ''}]}]},\n",
       "  'tags': {'tag': [{'name': 'pop', 'url': 'https://www.last.fm/tag/pop'},\n",
       "    {'name': 'female vocalists',\n",
       "     'url': 'https://www.last.fm/tag/female+vocalists'},\n",
       "    {'name': '80s', 'url': 'https://www.last.fm/tag/80s'},\n",
       "    {'name': 'dance', 'url': 'https://www.last.fm/tag/dance'},\n",
       "    {'name': 'rock', 'url': 'https://www.last.fm/tag/rock'}]},\n",
       "  'bio': {'links': {'link': {'#text': '',\n",
       "     'rel': 'original',\n",
       "     'href': 'https://last.fm/music/Cher/+wiki'}},\n",
       "   'published': '17 Feb 2006, 22:09',\n",
       "   'summary': 'Cher (born Cheryl Sarkisian; May 20, 1946) is an American singer, actress and television personality. Often referred to by the media as the \"Goddess of Pop\", she has been described as embodying female autonomy in a male-dominated industry. Cher is known for her distinctive contralto singing voice and for having worked in numerous areas of entertainment, as well as adopting a variety of styles and appearances throughout her six-decade-long career. <a href=\"https://www.last.fm/music/Cher\">Read more on Last.fm</a>',\n",
       "   'content': 'Cher (born Cheryl Sarkisian; May 20, 1946) is an American singer, actress and television personality. Often referred to by the media as the \"Goddess of Pop\", she has been described as embodying female autonomy in a male-dominated industry. Cher is known for her distinctive contralto singing voice and for having worked in numerous areas of entertainment, as well as adopting a variety of styles and appearances throughout her six-decade-long career.\\n\\nCher gained popularity in 1965 as one-half of the folk rock husband-wife duo Sonny & Cher after their song \"I Got You Babe\" peaked at number one on the US and UK charts. Together they sold 40 million records worldwide. Her solo career was established during the same time, with the top-ten singles \"Bang Bang (My Baby Shot Me Down)\" and \"You Better Sit Down Kids\". She became a television personality in the 1970s with her CBS shows; first The Sonny & Cher Comedy Hour, watched by over 30 million viewers weekly during its three-year run, and then the namesake Cher. She emerged as a fashion trendsetter by wearing elaborate outfits on her television shows.\\n\\nWhile working on television, Cher released the US Billboard Hot 100 number-one singles \"Gypsys, Tramps & Thieves\", \"Half-Breed\", and \"Dark Lady\", becoming the female artist with the most number-one singles in United States history at the time. After her divorce from Sonny Bono in 1975, she released the disco album Take Me Home (1979) and earned $300,000 a week for her 1979–1982 concert residency in Las Vegas.\\n\\nIn 1982, Cher made her Broadway debut in the play Come Back to the 5 & Dime, Jimmy Dean, Jimmy Dean and starred in its film adaptation. She subsequently garnered critical acclaim for her performances in films such as Silkwood (1983), Mask (1985), The Witches of Eastwick (1987), and Moonstruck (1987), the last of which won her the Academy Award for Best Actress. She then revived her music career by recording the rock-inflected albums Cher (1987), Heart of Stone (1989), and Love Hurts (1991), all of which yielded successful singles such as \"I Found Someone\", \"If I Could Turn Back Time\", and \"Love and Understanding\". Cher contributed to the soundtrack for her next film, Mermaids (1990), which spawned the UK number-one single \"The Shoop Shoop Song (It\\'s in His Kiss)\". She made her directorial debut with a segment in the abortion-themed anthology If These Walls Could Talk (1996).\\n\\nCher reached a new commercial peak in 1998 with the dance-pop album Believe, whose title track topped the Billboard Year-End Hot 100 singles of 1999 and became the biggest-selling single of all time by a female artist in the UK. It features pioneering use of Auto-Tune to distort her vocals, known as the \"Cher effect\". Her 2002–2005 Living Proof: The Farewell Tour became one of the highest-grossing concert tours of all time, earning $250 million. In 2008, she signed a $60 million deal to headline the Colosseum at Caesars Palace in Las Vegas for three years. During the 2010s, she landed starring roles in the films Burlesque (2010) and Mamma Mia! Here We Go Again (2018) and released studio albums Closer to the Truth (2013) and Dancing Queen (2018), both of which debuted at number three on the Billboard 200.\\n\\nHaving sold 100 million records, Cher is one of the world\\'s best-selling music artists. Her achievements include a Grammy Award, an Emmy Award, an Academy Award, three Golden Globe Awards, the Billboard Icon Award, and awards from the Kennedy Center Honors and the Council of Fashion Designers of America. She is the only artist to date to have a number-one single on a Billboard chart in six consecutive decades, from the 1960s to the 2020s. Aside from music and acting, she is noted for her political views, social media presence, philanthropic endeavors, and social activism, including LGBT rights and HIV/AIDS prevention.\\n\\nCher Official Website: https://www.cherfanclub.com\\nYouTube Channel: https://youtube.com/cher <a href=\"https://www.last.fm/music/Cher\">Read more on Last.fm</a>. User-contributed text is available under the Creative Commons By-SA License; additional terms may apply.'}}}"
      ]
     },
     "execution_count": 24,
     "metadata": {},
     "output_type": "execute_result"
    }
   ],
   "source": [
    "datos = respuesta2.json()\n",
    "datos"
   ]
  },
  {
   "cell_type": "code",
   "execution_count": 20,
   "id": "33264457",
   "metadata": {},
   "outputs": [
    {
     "data": {
      "text/plain": [
       "{'artist': {'name': 'Cher',\n",
       "  'mbid': 'bfcc6d75-a6a5-4bc6-8282-47aec8531818',\n",
       "  'url': 'https://www.last.fm/music/Cher',\n",
       "  'image': [{'#text': 'https://lastfm.freetls.fastly.net/i/u/34s/2a96cbd8b46e442fc41c2b86b821562f.png',\n",
       "    'size': 'small'},\n",
       "   {'#text': 'https://lastfm.freetls.fastly.net/i/u/64s/2a96cbd8b46e442fc41c2b86b821562f.png',\n",
       "    'size': 'medium'},\n",
       "   {'#text': 'https://lastfm.freetls.fastly.net/i/u/174s/2a96cbd8b46e442fc41c2b86b821562f.png',\n",
       "    'size': 'large'},\n",
       "   {'#text': 'https://lastfm.freetls.fastly.net/i/u/300x300/2a96cbd8b46e442fc41c2b86b821562f.png',\n",
       "    'size': 'extralarge'},\n",
       "   {'#text': 'https://lastfm.freetls.fastly.net/i/u/300x300/2a96cbd8b46e442fc41c2b86b821562f.png',\n",
       "    'size': 'mega'},\n",
       "   {'#text': 'https://lastfm.freetls.fastly.net/i/u/300x300/2a96cbd8b46e442fc41c2b86b821562f.png',\n",
       "    'size': ''}],\n",
       "  'streamable': '0',\n",
       "  'ontour': '0',\n",
       "  'stats': {'listeners': '1916160', 'playcount': '30780418'},\n",
       "  'similar': {'artist': [{'name': 'Sonny & Cher',\n",
       "     'url': 'https://www.last.fm/music/Sonny+&+Cher',\n",
       "     'image': [{'#text': 'https://lastfm.freetls.fastly.net/i/u/34s/2a96cbd8b46e442fc41c2b86b821562f.png',\n",
       "       'size': 'small'},\n",
       "      {'#text': 'https://lastfm.freetls.fastly.net/i/u/64s/2a96cbd8b46e442fc41c2b86b821562f.png',\n",
       "       'size': 'medium'},\n",
       "      {'#text': 'https://lastfm.freetls.fastly.net/i/u/174s/2a96cbd8b46e442fc41c2b86b821562f.png',\n",
       "       'size': 'large'},\n",
       "      {'#text': 'https://lastfm.freetls.fastly.net/i/u/300x300/2a96cbd8b46e442fc41c2b86b821562f.png',\n",
       "       'size': 'extralarge'},\n",
       "      {'#text': 'https://lastfm.freetls.fastly.net/i/u/300x300/2a96cbd8b46e442fc41c2b86b821562f.png',\n",
       "       'size': 'mega'},\n",
       "      {'#text': 'https://lastfm.freetls.fastly.net/i/u/300x300/2a96cbd8b46e442fc41c2b86b821562f.png',\n",
       "       'size': ''}]},\n",
       "    {'name': 'Kylie Minogue',\n",
       "     'url': 'https://www.last.fm/music/Kylie+Minogue',\n",
       "     'image': [{'#text': 'https://lastfm.freetls.fastly.net/i/u/34s/2a96cbd8b46e442fc41c2b86b821562f.png',\n",
       "       'size': 'small'},\n",
       "      {'#text': 'https://lastfm.freetls.fastly.net/i/u/64s/2a96cbd8b46e442fc41c2b86b821562f.png',\n",
       "       'size': 'medium'},\n",
       "      {'#text': 'https://lastfm.freetls.fastly.net/i/u/174s/2a96cbd8b46e442fc41c2b86b821562f.png',\n",
       "       'size': 'large'},\n",
       "      {'#text': 'https://lastfm.freetls.fastly.net/i/u/300x300/2a96cbd8b46e442fc41c2b86b821562f.png',\n",
       "       'size': 'extralarge'},\n",
       "      {'#text': 'https://lastfm.freetls.fastly.net/i/u/300x300/2a96cbd8b46e442fc41c2b86b821562f.png',\n",
       "       'size': 'mega'},\n",
       "      {'#text': 'https://lastfm.freetls.fastly.net/i/u/300x300/2a96cbd8b46e442fc41c2b86b821562f.png',\n",
       "       'size': ''}]},\n",
       "    {'name': 'Céline Dion',\n",
       "     'url': 'https://www.last.fm/music/C%C3%A9line+Dion',\n",
       "     'image': [{'#text': 'https://lastfm.freetls.fastly.net/i/u/34s/2a96cbd8b46e442fc41c2b86b821562f.png',\n",
       "       'size': 'small'},\n",
       "      {'#text': 'https://lastfm.freetls.fastly.net/i/u/64s/2a96cbd8b46e442fc41c2b86b821562f.png',\n",
       "       'size': 'medium'},\n",
       "      {'#text': 'https://lastfm.freetls.fastly.net/i/u/174s/2a96cbd8b46e442fc41c2b86b821562f.png',\n",
       "       'size': 'large'},\n",
       "      {'#text': 'https://lastfm.freetls.fastly.net/i/u/300x300/2a96cbd8b46e442fc41c2b86b821562f.png',\n",
       "       'size': 'extralarge'},\n",
       "      {'#text': 'https://lastfm.freetls.fastly.net/i/u/300x300/2a96cbd8b46e442fc41c2b86b821562f.png',\n",
       "       'size': 'mega'},\n",
       "      {'#text': 'https://lastfm.freetls.fastly.net/i/u/300x300/2a96cbd8b46e442fc41c2b86b821562f.png',\n",
       "       'size': ''}]},\n",
       "    {'name': 'Tina Turner',\n",
       "     'url': 'https://www.last.fm/music/Tina+Turner',\n",
       "     'image': [{'#text': 'https://lastfm.freetls.fastly.net/i/u/34s/2a96cbd8b46e442fc41c2b86b821562f.png',\n",
       "       'size': 'small'},\n",
       "      {'#text': 'https://lastfm.freetls.fastly.net/i/u/64s/2a96cbd8b46e442fc41c2b86b821562f.png',\n",
       "       'size': 'medium'},\n",
       "      {'#text': 'https://lastfm.freetls.fastly.net/i/u/174s/2a96cbd8b46e442fc41c2b86b821562f.png',\n",
       "       'size': 'large'},\n",
       "      {'#text': 'https://lastfm.freetls.fastly.net/i/u/300x300/2a96cbd8b46e442fc41c2b86b821562f.png',\n",
       "       'size': 'extralarge'},\n",
       "      {'#text': 'https://lastfm.freetls.fastly.net/i/u/300x300/2a96cbd8b46e442fc41c2b86b821562f.png',\n",
       "       'size': 'mega'},\n",
       "      {'#text': 'https://lastfm.freetls.fastly.net/i/u/300x300/2a96cbd8b46e442fc41c2b86b821562f.png',\n",
       "       'size': ''}]},\n",
       "    {'name': 'Madonna',\n",
       "     'url': 'https://www.last.fm/music/Madonna',\n",
       "     'image': [{'#text': 'https://lastfm.freetls.fastly.net/i/u/34s/2a96cbd8b46e442fc41c2b86b821562f.png',\n",
       "       'size': 'small'},\n",
       "      {'#text': 'https://lastfm.freetls.fastly.net/i/u/64s/2a96cbd8b46e442fc41c2b86b821562f.png',\n",
       "       'size': 'medium'},\n",
       "      {'#text': 'https://lastfm.freetls.fastly.net/i/u/174s/2a96cbd8b46e442fc41c2b86b821562f.png',\n",
       "       'size': 'large'},\n",
       "      {'#text': 'https://lastfm.freetls.fastly.net/i/u/300x300/2a96cbd8b46e442fc41c2b86b821562f.png',\n",
       "       'size': 'extralarge'},\n",
       "      {'#text': 'https://lastfm.freetls.fastly.net/i/u/300x300/2a96cbd8b46e442fc41c2b86b821562f.png',\n",
       "       'size': 'mega'},\n",
       "      {'#text': 'https://lastfm.freetls.fastly.net/i/u/300x300/2a96cbd8b46e442fc41c2b86b821562f.png',\n",
       "       'size': ''}]}]},\n",
       "  'tags': {'tag': [{'name': 'pop', 'url': 'https://www.last.fm/tag/pop'},\n",
       "    {'name': 'female vocalists',\n",
       "     'url': 'https://www.last.fm/tag/female+vocalists'},\n",
       "    {'name': '80s', 'url': 'https://www.last.fm/tag/80s'},\n",
       "    {'name': 'dance', 'url': 'https://www.last.fm/tag/dance'},\n",
       "    {'name': 'rock', 'url': 'https://www.last.fm/tag/rock'}]},\n",
       "  'bio': {'links': {'link': {'#text': '',\n",
       "     'rel': 'original',\n",
       "     'href': 'https://last.fm/music/Cher/+wiki'}},\n",
       "   'published': '17 Feb 2006, 22:09',\n",
       "   'summary': 'Cher (born Cheryl Sarkisian; May 20, 1946) is an American singer, actress and television personality. Often referred to by the media as the \"Goddess of Pop\", she has been described as embodying female autonomy in a male-dominated industry. Cher is known for her distinctive contralto singing voice and for having worked in numerous areas of entertainment, as well as adopting a variety of styles and appearances throughout her six-decade-long career. <a href=\"https://www.last.fm/music/Cher\">Read more on Last.fm</a>',\n",
       "   'content': 'Cher (born Cheryl Sarkisian; May 20, 1946) is an American singer, actress and television personality. Often referred to by the media as the \"Goddess of Pop\", she has been described as embodying female autonomy in a male-dominated industry. Cher is known for her distinctive contralto singing voice and for having worked in numerous areas of entertainment, as well as adopting a variety of styles and appearances throughout her six-decade-long career.\\n\\nCher gained popularity in 1965 as one-half of the folk rock husband-wife duo Sonny & Cher after their song \"I Got You Babe\" peaked at number one on the US and UK charts. Together they sold 40 million records worldwide. Her solo career was established during the same time, with the top-ten singles \"Bang Bang (My Baby Shot Me Down)\" and \"You Better Sit Down Kids\". She became a television personality in the 1970s with her CBS shows; first The Sonny & Cher Comedy Hour, watched by over 30 million viewers weekly during its three-year run, and then the namesake Cher. She emerged as a fashion trendsetter by wearing elaborate outfits on her television shows.\\n\\nWhile working on television, Cher released the US Billboard Hot 100 number-one singles \"Gypsys, Tramps & Thieves\", \"Half-Breed\", and \"Dark Lady\", becoming the female artist with the most number-one singles in United States history at the time. After her divorce from Sonny Bono in 1975, she released the disco album Take Me Home (1979) and earned $300,000 a week for her 1979–1982 concert residency in Las Vegas.\\n\\nIn 1982, Cher made her Broadway debut in the play Come Back to the 5 & Dime, Jimmy Dean, Jimmy Dean and starred in its film adaptation. She subsequently garnered critical acclaim for her performances in films such as Silkwood (1983), Mask (1985), The Witches of Eastwick (1987), and Moonstruck (1987), the last of which won her the Academy Award for Best Actress. She then revived her music career by recording the rock-inflected albums Cher (1987), Heart of Stone (1989), and Love Hurts (1991), all of which yielded successful singles such as \"I Found Someone\", \"If I Could Turn Back Time\", and \"Love and Understanding\". Cher contributed to the soundtrack for her next film, Mermaids (1990), which spawned the UK number-one single \"The Shoop Shoop Song (It\\'s in His Kiss)\". She made her directorial debut with a segment in the abortion-themed anthology If These Walls Could Talk (1996).\\n\\nCher reached a new commercial peak in 1998 with the dance-pop album Believe, whose title track topped the Billboard Year-End Hot 100 singles of 1999 and became the biggest-selling single of all time by a female artist in the UK. It features pioneering use of Auto-Tune to distort her vocals, known as the \"Cher effect\". Her 2002–2005 Living Proof: The Farewell Tour became one of the highest-grossing concert tours of all time, earning $250 million. In 2008, she signed a $60 million deal to headline the Colosseum at Caesars Palace in Las Vegas for three years. During the 2010s, she landed starring roles in the films Burlesque (2010) and Mamma Mia! Here We Go Again (2018) and released studio albums Closer to the Truth (2013) and Dancing Queen (2018), both of which debuted at number three on the Billboard 200.\\n\\nHaving sold 100 million records, Cher is one of the world\\'s best-selling music artists. Her achievements include a Grammy Award, an Emmy Award, an Academy Award, three Golden Globe Awards, the Billboard Icon Award, and awards from the Kennedy Center Honors and the Council of Fashion Designers of America. She is the only artist to date to have a number-one single on a Billboard chart in six consecutive decades, from the 1960s to the 2020s. Aside from music and acting, she is noted for her political views, social media presence, philanthropic endeavors, and social activism, including LGBT rights and HIV/AIDS prevention.\\n\\nCher Official Website: https://www.cherfanclub.com\\nYouTube Channel: https://youtube.com/cher <a href=\"https://www.last.fm/music/Cher\">Read more on Last.fm</a>. User-contributed text is available under the Creative Commons By-SA License; additional terms may apply.'}}}"
      ]
     },
     "execution_count": 20,
     "metadata": {},
     "output_type": "execute_result"
    }
   ],
   "source": [
    "respuesta2.json()"
   ]
  },
  {
   "cell_type": "code",
   "execution_count": 25,
   "id": "a72c1c10",
   "metadata": {},
   "outputs": [
    {
     "data": {
      "text/plain": [
       "dict"
      ]
     },
     "execution_count": 25,
     "metadata": {},
     "output_type": "execute_result"
    }
   ],
   "source": [
    "type(datos)"
   ]
  },
  {
   "cell_type": "code",
   "execution_count": 26,
   "id": "973042d1",
   "metadata": {},
   "outputs": [
    {
     "data": {
      "text/plain": [
       "dict_keys(['artist'])"
      ]
     },
     "execution_count": 26,
     "metadata": {},
     "output_type": "execute_result"
    }
   ],
   "source": [
    "datos.keys()"
   ]
  },
  {
   "cell_type": "code",
   "execution_count": 31,
   "id": "c413ceba",
   "metadata": {},
   "outputs": [
    {
     "data": {
      "text/plain": [
       "5"
      ]
     },
     "execution_count": 31,
     "metadata": {},
     "output_type": "execute_result"
    }
   ],
   "source": [
    "len(datos[\"artist\"][\"similar\"][\"artist\"])"
   ]
  },
  {
   "cell_type": "code",
   "execution_count": 32,
   "id": "d7a39521",
   "metadata": {},
   "outputs": [
    {
     "data": {
      "text/plain": [
       "'Céline Dion'"
      ]
     },
     "execution_count": 32,
     "metadata": {},
     "output_type": "execute_result"
    }
   ],
   "source": [
    "datos[\"artist\"][\"similar\"][\"artist\"][2]['name']"
   ]
  },
  {
   "cell_type": "code",
   "execution_count": 38,
   "id": "ef3be33a",
   "metadata": {},
   "outputs": [
    {
     "data": {
      "text/plain": [
       "'Cher (born Cheryl Sarkisian; May 20, 1946) is an American singer, actress and television personality. Often referred to by the media as the \"Goddess of Pop\", she has been described as embodying female autonomy in a male-dominated industry. Cher is known for her distinctive contralto singing voice and for having worked in numerous areas of entertainment, as well as adopting a variety of styles and appearances throughout her six-decade-long career. <a href=\"https://www.last.fm/music/Cher\">Read more on Last.fm</a>'"
      ]
     },
     "execution_count": 38,
     "metadata": {},
     "output_type": "execute_result"
    }
   ],
   "source": [
    "datos[\"artist\"][\"bio\"][\"summary\"]"
   ]
  },
  {
   "cell_type": "code",
   "execution_count": 42,
   "id": "acbfd91d",
   "metadata": {},
   "outputs": [
    {
     "data": {
      "text/plain": [
       "'1916160'"
      ]
     },
     "execution_count": 42,
     "metadata": {},
     "output_type": "execute_result"
    }
   ],
   "source": [
    "datos[\"artist\"][\"stats\"][\"listeners\"]"
   ]
  },
  {
   "cell_type": "markdown",
   "id": "fd3f1de1",
   "metadata": {},
   "source": [
    "estadisticas reproduccion"
   ]
  },
  {
   "cell_type": "code",
   "execution_count": 43,
   "id": "d8183d6e",
   "metadata": {},
   "outputs": [
    {
     "data": {
      "text/plain": [
       "'30780418'"
      ]
     },
     "execution_count": 43,
     "metadata": {},
     "output_type": "execute_result"
    }
   ],
   "source": [
    "datos[\"artist\"][\"stats\"][\"playcount\"]"
   ]
  },
  {
   "cell_type": "code",
   "execution_count": 49,
   "id": "df4ab912",
   "metadata": {},
   "outputs": [
    {
     "name": "stdout",
     "output_type": "stream",
     "text": [
      "{'similar': [], 'bio': [], 'listeners': [], 'playcount': []}\n"
     ]
    }
   ],
   "source": [
    "Cher={\"similar\":[],\"bio\":[],\"listeners\":[],\"playcount\":[]}\n",
    "\n",
    "similar=datos[\"artist\"][\"similar\"][\"artist\"][2]['name']\n",
    "bio=datos[\"artist\"][\"bio\"][\"summary\"]\n",
    "listeners=datos[\"artist\"][\"stats\"][\"listeners\"]\n",
    "playcount=datos[\"artist\"][\"stats\"][\"playcount\"]\n",
    "\n",
    "print(Cher)"
   ]
  },
  {
   "cell_type": "code",
   "execution_count": 50,
   "id": "ee9829d9",
   "metadata": {},
   "outputs": [],
   "source": [
    "Cher[\"similar\"].append(similar)\n",
    "Cher[\"bio\"].append(bio)\n",
    "Cher[\"listeners\"].append(listeners)\n",
    "Cher[\"playcount\"].append(playcount)"
   ]
  },
  {
   "cell_type": "code",
   "execution_count": 51,
   "id": "788dc33b",
   "metadata": {},
   "outputs": [
    {
     "name": "stdout",
     "output_type": "stream",
     "text": [
      "{'similar': ['Céline Dion'], 'bio': ['Cher (born Cheryl Sarkisian; May 20, 1946) is an American singer, actress and television personality. Often referred to by the media as the \"Goddess of Pop\", she has been described as embodying female autonomy in a male-dominated industry. Cher is known for her distinctive contralto singing voice and for having worked in numerous areas of entertainment, as well as adopting a variety of styles and appearances throughout her six-decade-long career. <a href=\"https://www.last.fm/music/Cher\">Read more on Last.fm</a>'], 'listeners': ['1916160'], 'playcount': ['30780418']}\n"
     ]
    }
   ],
   "source": [
    "print(Cher)"
   ]
  },
  {
   "cell_type": "code",
   "execution_count": 54,
   "id": "28e92d22",
   "metadata": {},
   "outputs": [
    {
     "data": {
      "text/html": [
       "<div>\n",
       "<style scoped>\n",
       "    .dataframe tbody tr th:only-of-type {\n",
       "        vertical-align: middle;\n",
       "    }\n",
       "\n",
       "    .dataframe tbody tr th {\n",
       "        vertical-align: top;\n",
       "    }\n",
       "\n",
       "    .dataframe thead th {\n",
       "        text-align: right;\n",
       "    }\n",
       "</style>\n",
       "<table border=\"1\" class=\"dataframe\">\n",
       "  <thead>\n",
       "    <tr style=\"text-align: right;\">\n",
       "      <th></th>\n",
       "      <th>Unnamed: 0</th>\n",
       "      <th>nombre_artista</th>\n",
       "      <th>nombre_cancion</th>\n",
       "      <th>año_lanzamiento</th>\n",
       "      <th>género_musical</th>\n",
       "      <th>tipo</th>\n",
       "    </tr>\n",
       "  </thead>\n",
       "  <tbody>\n",
       "    <tr>\n",
       "      <th>0</th>\n",
       "      <td>0</td>\n",
       "      <td>MAN WITH A MISSION</td>\n",
       "      <td>Dark Crow</td>\n",
       "      <td>2019-10-13</td>\n",
       "      <td>rock</td>\n",
       "      <td>track</td>\n",
       "    </tr>\n",
       "    <tr>\n",
       "      <th>1</th>\n",
       "      <td>1</td>\n",
       "      <td>ONE OK ROCK</td>\n",
       "      <td>Stand Out Fit In</td>\n",
       "      <td>2019-02-15</td>\n",
       "      <td>rock</td>\n",
       "      <td>track</td>\n",
       "    </tr>\n",
       "    <tr>\n",
       "      <th>2</th>\n",
       "      <td>2</td>\n",
       "      <td>Bring Me The Horizon</td>\n",
       "      <td>MANTRA</td>\n",
       "      <td>2019-01-25</td>\n",
       "      <td>rock</td>\n",
       "      <td>track</td>\n",
       "    </tr>\n",
       "    <tr>\n",
       "      <th>3</th>\n",
       "      <td>3</td>\n",
       "      <td>YUNGBLUD</td>\n",
       "      <td>parents</td>\n",
       "      <td>2019-10-18</td>\n",
       "      <td>rock</td>\n",
       "      <td>track</td>\n",
       "    </tr>\n",
       "    <tr>\n",
       "      <th>4</th>\n",
       "      <td>4</td>\n",
       "      <td>Bring Me The Horizon</td>\n",
       "      <td>sugar honey ice &amp; tea</td>\n",
       "      <td>2019-01-25</td>\n",
       "      <td>rock</td>\n",
       "      <td>track</td>\n",
       "    </tr>\n",
       "    <tr>\n",
       "      <th>...</th>\n",
       "      <td>...</td>\n",
       "      <td>...</td>\n",
       "      <td>...</td>\n",
       "      <td>...</td>\n",
       "      <td>...</td>\n",
       "      <td>...</td>\n",
       "    </tr>\n",
       "    <tr>\n",
       "      <th>1245</th>\n",
       "      <td>1245</td>\n",
       "      <td>Meldrop</td>\n",
       "      <td>Goodman</td>\n",
       "      <td>2023-12-23</td>\n",
       "      <td>rock</td>\n",
       "      <td>track</td>\n",
       "    </tr>\n",
       "    <tr>\n",
       "      <th>1246</th>\n",
       "      <td>1246</td>\n",
       "      <td>Avenged Sevenfold</td>\n",
       "      <td>Nobody</td>\n",
       "      <td>2023-06-02</td>\n",
       "      <td>rock</td>\n",
       "      <td>track</td>\n",
       "    </tr>\n",
       "    <tr>\n",
       "      <th>1247</th>\n",
       "      <td>1247</td>\n",
       "      <td>Kublaii</td>\n",
       "      <td>Dynamite</td>\n",
       "      <td>2023-06-24</td>\n",
       "      <td>rock</td>\n",
       "      <td>track</td>\n",
       "    </tr>\n",
       "    <tr>\n",
       "      <th>1248</th>\n",
       "      <td>1248</td>\n",
       "      <td>Bayron Caicedo</td>\n",
       "      <td>En la Vida Hay Que Gozar</td>\n",
       "      <td>2023-07-24</td>\n",
       "      <td>rock</td>\n",
       "      <td>track</td>\n",
       "    </tr>\n",
       "    <tr>\n",
       "      <th>1249</th>\n",
       "      <td>1249</td>\n",
       "      <td>Bayron Caicedo</td>\n",
       "      <td>Sola, Sola</td>\n",
       "      <td>2023-07-24</td>\n",
       "      <td>rock</td>\n",
       "      <td>track</td>\n",
       "    </tr>\n",
       "  </tbody>\n",
       "</table>\n",
       "<p>1250 rows × 6 columns</p>\n",
       "</div>"
      ],
      "text/plain": [
       "      Unnamed: 0        nombre_artista            nombre_cancion  \\\n",
       "0              0    MAN WITH A MISSION                 Dark Crow   \n",
       "1              1           ONE OK ROCK          Stand Out Fit In   \n",
       "2              2  Bring Me The Horizon                    MANTRA   \n",
       "3              3              YUNGBLUD                   parents   \n",
       "4              4  Bring Me The Horizon     sugar honey ice & tea   \n",
       "...          ...                   ...                       ...   \n",
       "1245        1245               Meldrop                   Goodman   \n",
       "1246        1246     Avenged Sevenfold                    Nobody   \n",
       "1247        1247               Kublaii                  Dynamite   \n",
       "1248        1248        Bayron Caicedo  En la Vida Hay Que Gozar   \n",
       "1249        1249        Bayron Caicedo                Sola, Sola   \n",
       "\n",
       "     año_lanzamiento género_musical   tipo  \n",
       "0         2019-10-13           rock  track  \n",
       "1         2019-02-15           rock  track  \n",
       "2         2019-01-25           rock  track  \n",
       "3         2019-10-18           rock  track  \n",
       "4         2019-01-25           rock  track  \n",
       "...              ...            ...    ...  \n",
       "1245      2023-12-23           rock  track  \n",
       "1246      2023-06-02           rock  track  \n",
       "1247      2023-06-24           rock  track  \n",
       "1248      2023-07-24           rock  track  \n",
       "1249      2023-07-24           rock  track  \n",
       "\n",
       "[1250 rows x 6 columns]"
      ]
     },
     "execution_count": 54,
     "metadata": {},
     "output_type": "execute_result"
    }
   ],
   "source": [
    "pd.read_csv(\"rockdatabase.csv\")"
   ]
  },
  {
   "cell_type": "code",
   "execution_count": 57,
   "id": "052715b9",
   "metadata": {},
   "outputs": [],
   "source": [
    "cosaslista = pd.read_csv(\"rockdatabase.csv\")"
   ]
  },
  {
   "cell_type": "code",
   "execution_count": 58,
   "id": "4770fa0a",
   "metadata": {},
   "outputs": [
    {
     "data": {
      "text/html": [
       "<div>\n",
       "<style scoped>\n",
       "    .dataframe tbody tr th:only-of-type {\n",
       "        vertical-align: middle;\n",
       "    }\n",
       "\n",
       "    .dataframe tbody tr th {\n",
       "        vertical-align: top;\n",
       "    }\n",
       "\n",
       "    .dataframe thead th {\n",
       "        text-align: right;\n",
       "    }\n",
       "</style>\n",
       "<table border=\"1\" class=\"dataframe\">\n",
       "  <thead>\n",
       "    <tr style=\"text-align: right;\">\n",
       "      <th></th>\n",
       "      <th>Unnamed: 0</th>\n",
       "      <th>nombre_artista</th>\n",
       "      <th>nombre_cancion</th>\n",
       "      <th>año_lanzamiento</th>\n",
       "      <th>género_musical</th>\n",
       "      <th>tipo</th>\n",
       "    </tr>\n",
       "  </thead>\n",
       "  <tbody>\n",
       "    <tr>\n",
       "      <th>0</th>\n",
       "      <td>0</td>\n",
       "      <td>MAN WITH A MISSION</td>\n",
       "      <td>Dark Crow</td>\n",
       "      <td>2019-10-13</td>\n",
       "      <td>rock</td>\n",
       "      <td>track</td>\n",
       "    </tr>\n",
       "    <tr>\n",
       "      <th>1</th>\n",
       "      <td>1</td>\n",
       "      <td>ONE OK ROCK</td>\n",
       "      <td>Stand Out Fit In</td>\n",
       "      <td>2019-02-15</td>\n",
       "      <td>rock</td>\n",
       "      <td>track</td>\n",
       "    </tr>\n",
       "    <tr>\n",
       "      <th>2</th>\n",
       "      <td>2</td>\n",
       "      <td>Bring Me The Horizon</td>\n",
       "      <td>MANTRA</td>\n",
       "      <td>2019-01-25</td>\n",
       "      <td>rock</td>\n",
       "      <td>track</td>\n",
       "    </tr>\n",
       "    <tr>\n",
       "      <th>3</th>\n",
       "      <td>3</td>\n",
       "      <td>YUNGBLUD</td>\n",
       "      <td>parents</td>\n",
       "      <td>2019-10-18</td>\n",
       "      <td>rock</td>\n",
       "      <td>track</td>\n",
       "    </tr>\n",
       "    <tr>\n",
       "      <th>4</th>\n",
       "      <td>4</td>\n",
       "      <td>Bring Me The Horizon</td>\n",
       "      <td>sugar honey ice &amp; tea</td>\n",
       "      <td>2019-01-25</td>\n",
       "      <td>rock</td>\n",
       "      <td>track</td>\n",
       "    </tr>\n",
       "  </tbody>\n",
       "</table>\n",
       "</div>"
      ],
      "text/plain": [
       "   Unnamed: 0        nombre_artista         nombre_cancion año_lanzamiento  \\\n",
       "0           0    MAN WITH A MISSION              Dark Crow      2019-10-13   \n",
       "1           1           ONE OK ROCK       Stand Out Fit In      2019-02-15   \n",
       "2           2  Bring Me The Horizon                 MANTRA      2019-01-25   \n",
       "3           3              YUNGBLUD                parents      2019-10-18   \n",
       "4           4  Bring Me The Horizon  sugar honey ice & tea      2019-01-25   \n",
       "\n",
       "  género_musical   tipo  \n",
       "0           rock  track  \n",
       "1           rock  track  \n",
       "2           rock  track  \n",
       "3           rock  track  \n",
       "4           rock  track  "
      ]
     },
     "execution_count": 58,
     "metadata": {},
     "output_type": "execute_result"
    }
   ],
   "source": [
    "cosaslista.head()"
   ]
  },
  {
   "cell_type": "code",
   "execution_count": 59,
   "id": "fa0d9442",
   "metadata": {},
   "outputs": [],
   "source": [
    "columnanombreartista = cosaslista[\"nombre_artista\"].tolist()"
   ]
  },
  {
   "cell_type": "code",
   "execution_count": 60,
   "id": "d5cf3860",
   "metadata": {},
   "outputs": [
    {
     "name": "stdout",
     "output_type": "stream",
     "text": [
      "['MAN WITH A MISSION', 'ONE OK ROCK', 'Bring Me The Horizon', 'YUNGBLUD', 'Bring Me The Horizon', 'Bring Me The Horizon', 'El Cuarteto De Nos', 'Cage The Elephant', 'Celtian', 'Coldplay', 'Foals', 'Cage The Elephant', 'Sum 41', 'Tame Impala', 'The Mystery Lights', 'Foster The People', 'Skillet', 'Wallows', 'Vampire Weekend', 'Vampire Weekend', 'Cam Cole', 'Coldplay', 'The Backseat Lovers', 'No Te Va Gustar', 'Surf Curse', 'I Prevail', 'Skillet', 'Walls', 'Ghost', 'Valira', 'Falling In Reverse', 'No Te Va Gustar', 'Rival Sons', 'mgk', 'The Backseat Lovers', 'The Backseat Lovers', 'Wallows', 'Stick Figure', 'Rulo y la contrabanda', 'Bad Wolves', 'Falling In Reverse', 'Celtas Cortos', 'The Black Keys', 'Mala Hierba', 'Orchestral Manoeuvres In The Dark', 'Eyedress', 'Pugface', 'Los De Marras', 'The Black Keys', 'Tom Petty', 'Bring Me The Horizon', 'Bring Me The Horizon', 'Reignwolf', 'Bring Me The Horizon', 'Of Monsters and Men', 'Cage The Elephant', 'Boy Harsher', 'Fitz and The Tantrums', 'El Cuarteto De Nos', 'Local Natives', 'Coldplay', 'Keane', 'Cage The Elephant', 'The Raconteurs', 'Marshmello', 'carwash', 'El Cuarteto De Nos', 'STARSET', 'The Score', 'Lindemann', 'Cruzando El Charco', 'Palace', 'Los Rodriguez', 'Skillet', 'Ghost Funk Orchestra', 'Twin Tribes', 'Goth Babe', 'The Beatles', 'No Te Va Gustar', 'Fruit Bats', 'Cruzando El Charco', 'Serú Girán', 'Sum 41', 'Allah-Las', 'Motionless In White', 'The Animals', 'The Rolling Stones', 'Sinkope', 'The Black Keys', 'Los De Marras', 'Cam Cole', \"Somebody's Child\", 'Volbeat', 'Volbeat', 'Volbeat', 'The Rolling Stones', 'WildHeart', 'The Black Keys', 'WildHeart', 'WildHeart', 'DAY6', 'The Neighbourhood', 'David Glen Eisley', 'ONE OK ROCK', 'Sleep Token', 'Bring Me The Horizon', 'Once Monsters', 'Kids That Fly', 'X Ambassadors', 'Keane', 'Cage The Elephant', 'YUNGBLUD', 'The Heavy', 'Freddie Mercury', 'Bring Me The Horizon', 'Boy Harsher', 'Greta Van Fleet', 'Serú Girán', 'Reignwolf', 'Liam Gallagher', 'blink-182', 'Bryan Adams', 'Beth Hart', 'ZZ Top', 'I Prevail', 'Dayglow', 'DIIV', 'blink-182', 'STARSET', 'Demob Happy', 'Crumb', 'The Score', 'ZZ Top', 'Skillet', 'The Backseat Lovers', 'Fire From The Gods', 'I Prevail', 'Rival Sons', 'The Rolling Stones', 'LEISURE', 'No Te Va Gustar', 'The Black Keys', 'Eclipse', 'Volbeat', 'Dirty Honey', 'Jadu Heart', 'Cruzando El Charco', 'Bad Wolves', 'WildHeart', 'WildHeart', 'Bring Me The Horizon', 'Bring Me The Horizon', 'Matt Maeson', 'The Score', 'MorMor', 'The Score', 'beabadoobee', 'Foals', 'Vampire Weekend', 'Psychedelic Porn Crumpets', 'Boy Harsher', 'Alcest', 'White Lies', 'Dayglow', 'Skillet', 'Twin Tribes', 'Vanessa Van Ness', 'No Te Va Gustar', 'Grizfolk', 'STIFF RICHARDS', 'Stereophonics', 'David Lebón', 'The Script', 'Dayseeker', 'Stereophonics', 'Papa Roach', 'The Rolling Stones', 'Korn', 'Mötley Crüe', 'Samantha Fish', 'Christone \"Kingfish\" Ingram', 'I Prevail', 'Hamilton, Joe Frank & Reynolds', 'Rival Sons', 'Airbourne', 'Five Finger Death Punch', 'Snowy White', 'Allah-Las', 'Babe Rainbow', 'Allah-Las', 'The Mystery Lights', 'Quaker City Night Hawks', 'Orchestral Manoeuvres In The Dark', 'Volbeat', 'Snowy White', 'Bad Wolves', 'Sean Koch', 'The Black Keys', 'Lloyd Spiegel', 'Volbeat', 'N.Flying', 'The Rose', 'MY FIRST STORY', 'Reignwolf', 'American Authors', 'Watt White', 'LADYBABY', 'Animal Sun', 'Sum 41', 'The Voidz', 'Lil Peep', 'TOOL', 'Of Monsters and Men', 'The Rolling Stones', 'The Jins', 'Barns Courtney', 'The Reytons', 'The Backseat Lovers', 'The Score', 'The Garden', 'El Cuarteto De Nos', 'Boy Harsher', 'Sleep Token', 'MorMor', 'The Rolling Stones', 'Allah-Las', 'Whirr', 'Twin Tribes', 'Dehd', 'Foals', 'Royal Republic', 'STARSET', 'Cam Cole', 'El Cuarteto De Nos', 'The Score', 'White Lies', 'Vanessa Van Ness', 'The Rolling Stones', 'Gary Clark Jr.', 'Christone \"Kingfish\" Ingram', 'She Past Away', 'The Rolling Stones', 'Airbourne', 'Papa Roach', 'Crumb', 'Various Artists', 'Rival Sons', 'The Backseat Lovers', 'Yogi Lang', 'Snowy White', 'Bring Me The Horizon', 'Bring Me The Horizon', 'The Strokes', 'The Strokes', 'Bring Me The Horizon', 'The Strokes', 'Bring Me The Horizon', 'The Neighbourhood', 'The Strokes', 'YUNGBLUD', 'Biig Piig', 'All Time Low', 'mgk', 'The Neighbourhood', 'The Strokes', 'Hollow Ship', 'The Strokes', 'mgk', 'The Strokes', 'Enol', 'Theophilus London', 'The Strokes', 'Khruangbin', \"Guns N' Roses\", 'Desakato', 'AC/DC', 'Tame Impala', 'Will Paquin', 'Khruangbin', 'The Black Keys', 'Tame Impala', 'Tame Impala', 'YUNGBLUD', 'Noan', 'mgk', 'Tame Impala', 'Amenoskuarto', 'AC/DC', 'Cobardes', 'Various Artists', 'AC/DC', 'Ozzy Osbourne', 'Tame Impala', 'Cobardes', 'VOILÀ', 'Chubby Checker', 'The Black Keys', 'Bruce Springsteen', 'AC/DC', 'Leiva', 'YUNGBLUD', 'Foster The People', 'Oliver Tree', 'YUNGBLUD', 'El Plan De La Mariposa', 'grandson', 'Wallows', 'Various Artists', 'Oliver Tree', 'Loathe', 'The Beefs', 'Wanda Jackson', 'mgk', 'Various Artists', 'Conociendo Rusia', 'Tempesst', 'The Strokes', 'Various Artists', 'All Time Low', 'Yusuf / Cat Stevens', 'Tame Impala', 'Bombay Bicycle Club', 'Various Artists', 'Awaken I Am', 'Pearl Jam', 'Bunbury', \"O'Funk'illo\", 'Sun Room', 'The Neighbourhood', 'Falling In Reverse', 'Khruangbin', 'The Black Keys', 'The Score', 'AlaDeMoska', 'Porretas', \"Aunt Cynthia's Cabin\", 'Sinkope', 'Las Pastillas del Abuelo', 'Bayronn Caicedo', 'Five Finger Death Punch', 'Snowy White', 'Khruangbin', 'Marcus King', 'AC/DC', 'Sinkope', 'AC/DC', 'Cobardes', 'Bruce Springsteen', 'Cobardes', 'Leiva', 'Bring Me The Horizon', 'Palaye Royale', 'Giant Rooks', 'Deftones', 'Ultravox', 'Palaye Royale', 'The Killers', 'YUNGBLUD', 'Solence', 'El Plan De La Mariposa', 'Bad Nerves', 'Ozzy Osbourne', 'The Black Keys', 'Loathe', 'R.E.M.', 'ULTRA SUNN', 'Loathe', 'Tame Impala', 'The Black Keys', 'Various Artists', 'Luis Alberto Spinetta', 'The Black Keys', 'The Black Keys', 'Metallica', 'Three Days Grace', 'Conociendo Rusia', 'Deftones', 'julie', 'The Black Keys', 'Bayronn Caicedo', 'Bunbury', 'Eyedress', 'Tame Impala', 'Mareux', 'Thundermother', 'Five Finger Death Punch', 'Tame Impala', 'Eilen Jewell', 'Solence', 'AC/DC', 'Cory Marks', 'Rain City Drive', 'AC/DC', 'Miki Núñez', \"Aunt Cynthia's Cabin\", 'Khruangbin', 'Snowy White', 'BULEGO', 'Bocanada', 'Cobardes', 'Yusuf / Cat Stevens', 'Of Monsters and Men', 'The 1975', 'Temples', 'Noga Erez', 'Yusuf / Cat Stevens', 'Bunbury', 'Good Kid', 'Toño y su Grupo Centella', 'AWOLNATION', 'Deep Purple', 'The Happy Fits', 'Slomosa', 'Marilyn Manson', 'Slomosa', 'Young Gun Silver Fox', 'Autumn Kings', 'Peach Pit', 'The Rolling Stones', 'Various Artists', 'Local Natives', 'Tame Impala', 'Tame Impala', 'Vulkan', 'AC/DC', 'Pearl Jam', 'Toño y su Grupo Centella', 'Various Artists', 'All Them Witches', 'Tame Impala', 'Five Finger Death Punch', 'Slomosa', 'Khruangbin', 'AC/DC', 'Vestron Vulture', 'Los Diablitos', 'Young Gun Silver Fox', \"Somebody's Child\", 'Elvis Presley', 'Elvis Presley', \"Guns N' Roses\", 'Elles Bailey', 'Chubby Checker', \"Guns N' Roses\", 'AC/DC', 'Sonny Landreth', \"Aunt Cynthia's Cabin\", 'Elvis Presley', 'Chris Stapleton', 'Elvis Presley', 'YUNGBLUD', 'I DONT KNOW HOW BUT THEY FOUND ME', 'Royal Blood', 'AJR', 'Green Day', 'Leonora Post Punk', 'The Rose', 'Various Artists', 'Edwin Rosen', 'YUNGBLUD', 'YUNGBLUD', 'Rebounder', 'The Killers', 'flipturn', 'Self Deception', 'NO CIGAR', 'Point North', 'Letdown.', 'The Rumpled', 'Sir Chloe', 'Ciro y los Persas', 'All Them Witches', 'Parcels', 'POORSTACY', 'AC/DC', 'Leif Erikson', 'Metallica', 'Loathe', 'Bayronn Caicedo', 'Metallica', 'Bayronn Caicedo', \"Guns N' Roses\", 'Sam Tinnesz', 'Holding Absence', 'Tame Impala', 'Elvis Presley', 'Jaime Enrique Aymara', 'Tame Impala', 'Elvis Presley', 'Five Finger Death Punch', 'From Ashes to New', 'Los Internacionales Nenes de la Cumbia', 'Elvis Presley', \"Guns N' Roses\", 'Young Gun Silver Fox', 'Vestron Vulture', 'The Sweet Serenades', 'Elvis Presley', \"Somebody's Child\", 'Elvis Presley', 'YUNGBLUD', 'AJR', 'Royal Blood', 'Twenty One Pilots', 'The Rolling Stones', 'Walls, Daniel Sabater', 'Nessa Barrett', 'VIOLENT VIRA', 'C. Tangana', 'Various Artists', 'Serú Girán', 'Twenty One Pilots', 'Airbag', 'Twenty One Pilots', 'Miley Cyrus', 'Duran Duran', 'Milky Chance', 'Del Water Gap', 'Milky Chance', 'Greta Van Fleet', 'Fito y Fitipaldis', 'Turnstile', 'Måneskin', 'Caskets', 'Måneskin', 'Fran Mariscal', 'llvna', 'Imagine Dragons', 'The Offspring', 'Marlon', 'Metallica', 'Iron Maiden', 'Mareux', 'Robe', 'Robe', 'Los Fabulosos Cadillacs', 'Metallica', 'Mala Hierba', 'Kamikazes', 'Mala Hierba', 'Fito y Fitipaldis', 'Benito Kamelas', 'Fito y Fitipaldis', 'Volbeat', 'Benito Kamelas', 'Metallica', 'Benito Kamelas', 'Metallica', 'Metallica', 'Metallica', 'Greta Van Fleet', 'THE DRIVER ERA', 'The Rare Occasions', 'Royal Blood', 'Måneskin', 'Andrés Calamaro', 'IDLES', 'Andrés Calamaro', 'Limp Bizkit', 'The Dirty Shirts', 'jxdn', 'No Te Va Gustar', 'Huecco', 'late night drive home', 'Papa Roach', 'Solence', \"Guns N' Roses\", 'Marlon', 'Barua', 'Walls', 'Holding Absence', 'Walls', 'Caskets', 'Enol', 'Los Fabulosos Cadillacs', 'Imagine Dragons', 'Billy Idol', 'Greta Van Fleet', 'Los Fabulosos Cadillacs', 'Caskets', 'Poncho K', 'Huntza', 'Cableados', 'Carta Blanca', 'Sublevados', 'Mala Hierba', 'Los De Marras', 'Kamikazes', 'Iron Maiden', 'Kamikazes', 'Volbeat', 'Ozzy Osbourne', 'Metallica', 'Metallica', 'Volbeat', 'Mala Hierba', 'Metallica', 'Metallica', 'Heroes Del Silencio', 'Volbeat', 'Ragged Insomnia', 'grandson', 'Bring Me The Horizon', 'The Rose', 'Inhaler', 'Keanu Bicol', 'Los Auténticos Decadentes', 'AJR', 'Lasso', 'Surf Curse', \"Guns N' Roses\", 'WILLOW', 'Måneskin', 'Airbag', 'Kevin Walkman', 'Foo Fighters', 'Citizen Soldier', 'Saint Chaos', 'Falling In Reverse', 'Against The Current', 'Friday Pilots Club', 'Greta Van Fleet', 'Mitchel Dae', 'Royal Blood', 'Dead Poet Society', 'Ozzy Osbourne', 'Santana', 'Various Artists', 'Metallica', 'Greta Van Fleet', 'Wine Lips', 'Iskender', 'Limp Bizkit', 'Bayron Caicedo', 'Gary Moore', 'Jon and Roy', 'Metallica', 'Still Corners', 'Metallica', 'EKKSTACY', 'Metallica', 'Mala Hierba', 'Metallica', 'The Blue Stones', 'Poncho K', 'Heroes Del Silencio', 'Enol', 'Volbeat', 'llvna', 'Enol', 'Xdinary Heroes', 'Dirty Heads', 'Maggie Lindemann', 'Oliver Tree', 'Andrés Calamaro', 'Twenty One Pilots', 'Indio Solari', 'Los Auténticos Decadentes', 'Wallows', 'Wilderado', 'Airbag', 'Metallica', 'Brawl Stars', 'jxdn', 'Caramelos De Cianuro', 'Kings of Leon', 'Mogwai', 'Del Water Gap', 'Royal Republic', 'King Gizzard & The Lizard Wizard', 'Foo Fighters', 'Airbag', 'Greta Van Fleet', 'KALEO', 'Inhaler', 'Greta Van Fleet', 'King Gizzard & The Lizard Wizard', 'Airbag', 'Dropkick Murphys', 'Parcels', \"Rag'n'Bone Man\", 'jxdn', 'Nevertel', 'Architects', 'Chacalon Jr', 'Chacalon Jr', 'Stellar', 'Caskets', 'Sarmad', 'Azucena Aymara', 'Bayron Caicedo', 'EKKSTACY', 'Heroes Del Silencio', 'The Cold Stares', 'Volbeat', 'Volbeat', 'Eyedress', 'Jake Rose', 'Volbeat', 'Malted Milk', 'Maurizio Terracina', 'Maggie Lindemann', 'Milky Chance', 'The Snuts', 'Saint Motel', 'Twenty One Pilots', 'Alessia Cara', 'jxdn', 'Radiohead', 'mgk', 'Radiohead', 'Oliver Tree', 'The Plot In You', 'The Score', 'STARSET', 'Zach Hood', 'Radiohead', 'Nirvana', 'jxdn', 'Foo Fighters', 'Radiohead', 'Del Water Gap', 'With Confidence', 'Foo Fighters', 'Royal Republic', 'Mammoth', 'Evanescence', 'Memo Boy', 'Caramelos De Cianuro', 'Chacalon Jr', 'Wilderado', 'Airbag', 'Bayron Caicedo', 'Royal Republic', 'Airbag', 'Bad Nerves', 'Dropkick Murphys', 'Those Damn Crows', 'The Blue Stones', 'Greta Van Fleet', 'Mogwai', 'Chacalon Jr', 'Black Pistol Fire', 'Ozzy Osbourne', 'Lord Huron', 'Black Label Society', 'Los Fabulosos Cadillacs', 'Citizen Soldier', 'Wage War', 'John Mayer', 'Muse', 'alt-J', 'Muse', 'Queen', 'Red Hot Chili Peppers', 'Måneskin', 'Muse', 'Charlie USG', 'Hens', 'Måneskin', 'Motionless In White', 'Charlie USG', 'Maná', 'Khruangbin', 'Grover Washington, Jr.', 'Memphis May Fire', 'Motörhead', 'Wet Leg', 'Ghost', 'Paula Koops', 'Walls', 'Milky Chance', 'Walls', 'Khruangbin', 'llvna', 'Connor Kauffman', 'Papa Roach', 'VOILÀ', 'Ghost', 'Marea', 'Los Suaves', 'VOILÀ', 'Ghost', 'The Black Keys', 'Despistaos', 'Bad Omens', 'Walls', 'mgk', 'Walls', 'Marea', 'Dani Fernández', 'Falling In Reverse', 'Imagine Dragons', 'Marea', 'Imagine Dragons', 'Royel Otis', 'Marea', 'Queen', 'Dire Straits', 'Various Artists', 'Gorillaz', 'Shinedown', 'Bring Me The Horizon', 'mgk', 'Ed Sheeran', 'Måneskin', 'Black Country, New Road', 'The Warning', 'Foals', 'ELVIS (Original Motion Picture Soundtrack)', 'Lepoka', 'Men I Trust', 'Aziekel', 'quannnic', 'LEAP', 'Red Hot Chili Peppers', 'The Warning', 'Muse', 'Pathetic', 'Sable', 'Falling In Reverse', 'Muse', 'beabadoobee', 'El Cuarteto De Nos', 'Red Hot Chili Peppers', 'The Score', 'Placebo', 'Red Hot Chili Peppers', 'Red Hot Chili Peppers', 'Three Days Grace', 'Red Hot Chili Peppers', 'The Smile', 'The Score', 'mgk', 'Dynazty', 'Red Hot Chili Peppers', 'Marea', 'The Score', 'Los Suaves', 'Mabell de la Rosa', 'Imagine Dragons', 'Red Hot Chili Peppers', 'La Marmita', 'Los Suaves', 'Pity Party (Girls Club)', 'Goodbye June', \"Guns N' Roses\", 'Nickelback', 'Angst', 'Jerry Lee Lewis', 'ONE OK ROCK', 'Loveless', 'Sunflower Bean', 'YUNGBLUD', 'Emei', 'Sleep Token', 'Black Country, New Road', 'Red Hot Chili Peppers', 'Tame Impala', 'Memphis May Fire', 'Black Country, New Road', 'Tomas Chris', 'YUNGBLUD', 'All Good Things', 'The Rose', 'A Day To Remember', 'The Warning', 'Jeris Johnson', 'mgk', 'ONE OK ROCK', 'Cruzando El Charco', 'El Cuarteto De Nos', 'Franz Ferdinand', 'Black Country, New Road', 'Ghost', 'akiaura', 'Three Days Grace', 'Red Hot Chili Peppers', 'George Barnett', 'mgk', 'Memphis May Fire', 'Metallica', 'Aziekel', 'flipturn', 'Chri$tian Gate$', 'Jack Johnson', 'Stick Figure', 'Red Hot Chili Peppers', 'Red Hot Chili Peppers', 'Red Hot Chili Peppers', 'I Prevail', 'Dynazty', 'Connor Kauffman', 'I Prevail', 'Scorpions', 'Mabell de la Rosa', 'Dire Straits', 'Goodbye June', 'Surf Hat', 'Mitchel Dae', 'ONE OK ROCK', 'Black Country, New Road', 'Portugal. The Man', 'Sigur Rós', 'Elvis Presley', 'Babasonicos', 'The Warning', 'Muse', 'Babasonicos', 'mgk', 'PERSONA 749', 'Arcade Fire', 'Pixies', 'Arcade Fire', 'Juanita Burbano', 'Red Hot Chili Peppers', 'alt-J', 'Sueco', 'Muse', 'Keanu Bicol', 'Muse', 'Avril Lavigne', 'El Cuarteto De Nos', 'El Cuarteto De Nos', 'Red Hot Chili Peppers', 'Band of Horses', 'Ghost', 'El Cuarteto De Nos', 'Dehd', 'Maria De Los Angeles', 'The Bones of J.R. Jones', 'Red Hot Chili Peppers', 'King Gizzard & The Lizard Wizard', 'Still Corners', 'Red Hot Chili Peppers', 'Night Tapes', 'Cal in Red', 'Lø Spirit', 'Boy Harsher', 'Motionless In White', 'GHOSTWOMAN', 'Scorpions', 'The Hellacopters', 'Dire Straits', 'H.E.A.T', 'Five Finger Death Punch', 'Mitchel Dae', 'Goodbye June', 'Angel Guaraca', 'Dire Straits', 'Sayuri', 'ONE OK ROCK', 'Piti Fernández', 'coldrain', 'HEALTH', 'French Police', 'Molotov', 'Elvis Presley', 'Memphis May Fire', 'The Warning', 'The Warning', 'El Cuarteto De Nos', 'Milky Chance', 'Muse', 'Steve Aoki', 'Papa Roach', 'Red Hot Chili Peppers', 'Azucena Aymara', 'Arcade Fire', 'Placebo', 'Juanita Burbano', 'Angel Guaraca', 'Korn', 'Jagwar Twin', 'Black Country, New Road', 'Midrift', \"Why Don't We\", 'Arcade Fire', 'Dorothy', 'Fleshwater', 'STARSET', 'PERSONA 749', 'Red Hot Chili Peppers', 'Keanu Bicol', 'Friday Pilots Club', 'Red Hot Chili Peppers', 'Red Hot Chili Peppers', 'EKKSTACY', 'The Simps', 'Band of Horses', 'Juanes', 'State of Mine', 'Vieux Farka Touré', 'Nickelback', 'blackbear', 'H.E.A.T', 'Peyton Parrish', 'VOILÀ', 'Lø Spirit', 'Generación 12', 'The Rose', 'Linkin Park', 'Sleep Token', 'Joey Valence & Brae', 'Airbag', 'Good Kid', 'Måneskin', 'Hombres G', 'Hombres G', 'Falling In Reverse', 'Måneskin', 'Thirty Seconds To Mars', 'Imagine Dragons', 'Milky Chance', 'Nation of Language', 'Måneskin', 'Paula Koops', 'Paula Koops', 'rusowsky', 'The Beaches', 'World News', 'Måneskin', 'Linkin Park', 'Måneskin', 'Chicago', 'Robe', 'Måneskin', 'Hens', 'Walls', 'Linkin Park', 'Day We Ran', 'Catch Your Breath', 'Catch Your Breath', 'ThxSoMch', 'Calero LDN', 'Albertucho', 'Robe', 'Robe', 'Hens', 'Robe', 'Xavibo', 'Måneskin', 'The Rolling Stones', 'Good Kid', 'Milky Chance', 'Måneskin', 'Måneskin', 'Måneskin', 'The Rolling Stones', 'Måneskin', 'Evanescence', 'Gorillaz', 'El Mató a un Policía Motorizado', 'YUNGBLUD', 'Måneskin', 'Måneskin', 'The Rolling Stones', 'Gorillaz', 'Billylildove', 'Måneskin', 'Sinnerella', 'Novulent', 'Ghost', 'Linkin Park', 'Bunbury', 'The Rolling Stones', 'Albertucho', 'Bunbury', 'Kublaii', 'Catch Your Breath', 'Falling In Reverse', 'Måneskin', 'Bunbury', 'La Fuga', 'GHOSTWOMAN', 'Royel Otis', 'Periferia', 'Hens', 'Bunbury', 'A Flock Of Seagulls', 'Jelly Roll', 'Hipatia Balseca', 'Rienda Suelta', 'Despistaos', 'Metallica', 'NoProcede', 'Novulent', 'noturgf', 'Rulo y la contrabanda', 'Metallica', 'Metallica', 'Nøgen', 'flyingfish', 'Mareux', 'Meltt', 'Meltt', 'The Human League', 'Cobardes', 'Mala Hierba', 'Novulent', 'NXCRE', 'ONE OK ROCK', 'Joey Valence & Brae', 'Gorillaz', 'Thirty Seconds To Mars', 'Twin Tribes', 'Dominic Fike', 'Peter McPoland', 'Måneskin', 'Sleep Token', 'Set It Off', 'Måneskin', 'Pierce The Veil', 'Måneskin', 'Cecy Narvaez', 'Måneskin', 'Queens of the Stone Age', 'The Rose', 'Bunbury', 'Måneskin', 'Slowdive', 'Glyders', 'Metallica', 'Self Deception', 'Måneskin', 'Jagwar Twin', \"Guns N' Roses\", 'Metallica', 'Skillet', 'Billylildove', 'Måneskin', 'Marlon Funaki', 'Good Kid', 'Mareux', 'The HU', 'Måneskin', 'The Beatles', 'Bunbury', 'The Hives', 'Wind Walkers', 'A Flock Of Seagulls', 'The Who', 'The Rolling Stones', 'Måneskin', 'Bunbury', 'Bunbury', 'Milky Chance', 'Schur', 'Meltt', 'Hens', 'Bring Me The Horizon', 'The Rose', 'Pacifica', 'The Vanished People', 'Portugal. The Man', 'Bleachers', 'Sabl3', 'Radio Free Alice', 'Thirty Seconds To Mars', 'Miranda!', 'The Hives', 'Måneskin', 'U2', 'Disturbed', 'Kublaii', 'Balu Brigada', 'Point North', 'Depeche Mode', 'Greta Van Fleet', 'Evening Elephants', 'Dean Blunt', 'Meldrop', 'The Rolling Stones', 'The Groovy Nobody', 'lannarie', 'Lø Spirit', 'Greta Van Fleet', 'Cecy Narvaez', 'Bayron Caicedo', 'NESYA', 'Måneskin', 'Foo Fighters', 'Bunbury', 'Disturbed', 'glwzbll', 'HAFFWAY', 'Disturbed', 'Bayron Caicedo', 'Wind Walkers', 'Evanescence', 'Metallica', 'Marcelo Bedoya', 'Bayron Caicedo', 'Tigerhorse', 'elijah', 'King Gizzard & The Lizard Wizard', 'Bunbury', 'VOILÀ', 'Babes In Canyon', 'The Beatles', 'Precious Pepala', 'The Strokes', 'Honey Revenge', 'Ray Bull', 'The Rose', 'La Beriso', 'Fall Out Boy', 'Joey Valence & Brae', 'Mareux', 'Paramore', 'Ghost', 'Ghost', 'No Resolve', 'Set It Off', 'JAWNY', 'Linkin Park', 'Ally Nicholas', 'Foo Fighters', 'Mike Shinoda', 'VIOLENT VIRA', 'NXCRE', 'Dionnysuss', 'The Killers', 'Foo Fighters', 'Portugal. The Man', 'Thirty Seconds To Mars', 'Måneskin', 'Panchiko', \"Guns N' Roses\", 'Jagwar Twin', 'lannarie', 'KID BRUNSWICK', 'Bayonne', 'Måneskin', 'Line So Thin', 'Metallica', 'Marlon Funaki', 'jaydes', 'Cooper Alan', 'Disturbed', 'King Gizzard & The Lizard Wizard', 'The Human League', 'Lø Spirit', 'Balu Brigada', 'Wind Walkers', 'Meldrop', 'Avenged Sevenfold', 'Kublaii', 'Bayron Caicedo', 'Bayron Caicedo']\n"
     ]
    }
   ],
   "source": [
    "print(columnanombreartista)"
   ]
  },
  {
   "cell_type": "code",
   "execution_count": 62,
   "id": "1fafa2df",
   "metadata": {},
   "outputs": [
    {
     "data": {
      "text/plain": [
       "1250"
      ]
     },
     "execution_count": 62,
     "metadata": {},
     "output_type": "execute_result"
    }
   ],
   "source": [
    "type(columnanombreartista)\n",
    "len(columnanombreartista)"
   ]
  },
  {
   "cell_type": "markdown",
   "id": "b8ba02dc",
   "metadata": {},
   "source": [
    "ITERAR PARA EL ARTISTA EN LA URL"
   ]
  },
  {
   "cell_type": "code",
   "execution_count": null,
   "id": "2fb3eebe",
   "metadata": {},
   "outputs": [],
   "source": [
    "newauth = f\"http://ws.audioscrobbler.com/2.0/?method=artist.getinfo&artist={columnanombreartista}&api_key={api_key}&format=json\""
   ]
  },
  {
   "cell_type": "code",
   "execution_count": 64,
   "id": "5e41a218",
   "metadata": {},
   "outputs": [],
   "source": [
    "respuestanewauth=requests.get(newauth)"
   ]
  },
  {
   "cell_type": "code",
   "execution_count": 65,
   "id": "535c3de8",
   "metadata": {},
   "outputs": [
    {
     "data": {
      "text/plain": [
       "414"
      ]
     },
     "execution_count": 65,
     "metadata": {},
     "output_type": "execute_result"
    }
   ],
   "source": [
    "respuestanewauth.status_code"
   ]
  }
 ],
 "metadata": {
  "kernelspec": {
   "display_name": "base",
   "language": "python",
   "name": "python3"
  },
  "language_info": {
   "codemirror_mode": {
    "name": "ipython",
    "version": 3
   },
   "file_extension": ".py",
   "mimetype": "text/x-python",
   "name": "python",
   "nbconvert_exporter": "python",
   "pygments_lexer": "ipython3",
   "version": "3.12.7"
  }
 },
 "nbformat": 4,
 "nbformat_minor": 5
}
